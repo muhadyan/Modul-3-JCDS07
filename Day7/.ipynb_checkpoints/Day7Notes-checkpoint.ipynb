{
 "cells": [
  {
   "cell_type": "code",
   "execution_count": 23,
   "metadata": {},
   "outputs": [],
   "source": [
    "import pandas as pd\n",
    "import numpy as np\n",
    "import matplotlib.pyplot as plt"
   ]
  },
  {
   "cell_type": "markdown",
   "metadata": {},
   "source": [
    "## Linear Regression, train w/ all data"
   ]
  },
  {
   "cell_type": "code",
   "execution_count": 24,
   "metadata": {},
   "outputs": [
    {
     "data": {
      "text/plain": [
       "[<matplotlib.lines.Line2D at 0x1f3a2afefc8>]"
      ]
     },
     "execution_count": 24,
     "metadata": {},
     "output_type": "execute_result"
    },
    {
     "data": {
      "image/png": "[encoded data removed]",
      "text/plain": [
       "<Figure size 432x288 with 1 Axes>"
      ]
     },
     "metadata": {
      "needs_background": "light"
     },
     "output_type": "display_data"
    }
   ],
   "source": [
    "data = {\n",
    "    'x': np.arange(10),\n",
    "    'y': np.arange(10) + np.random.randn(10)\n",
    "}\n",
    "df = pd.DataFrame(data)\n",
    "plt.plot(df['x'], df['y'], 'ro-')"
   ]
  },
  {
   "cell_type": "code",
   "execution_count": 25,
   "metadata": {},
   "outputs": [],
   "source": [
    "from sklearn.linear_model import LinearRegression\n",
    "model = LinearRegression()"
   ]
  },
  {
   "cell_type": "code",
   "execution_count": 26,
   "metadata": {},
   "outputs": [
    {
     "name": "stdout",
     "output_type": "stream",
     "text": [
      "slope m= [0.96217685]\n",
      "intercept c= 0.5086450151535393\n"
     ]
    }
   ],
   "source": [
    "model.fit(df[['x']], df['y'])\n",
    "print('slope m=', model.coef_)\n",
    "print('intercept c=', model.intercept_)"
   ]
  },
  {
   "cell_type": "code",
   "execution_count": 27,
   "metadata": {},
   "outputs": [
    {
     "data": {
      "text/html": [
       "<div>\n",
       "<style scoped>\n",
       "    .dataframe tbody tr th:only-of-type {\n",
       "        vertical-align: middle;\n",
       "    }\n",
       "\n",
       "    .dataframe tbody tr th {\n",
       "        vertical-align: top;\n",
       "    }\n",
       "\n",
       "    .dataframe thead th {\n",
       "        text-align: right;\n",
       "    }\n",
       "</style>\n",
       "<table border=\"1\" class=\"dataframe\">\n",
       "  <thead>\n",
       "    <tr style=\"text-align: right;\">\n",
       "      <th></th>\n",
       "      <th>x</th>\n",
       "      <th>y</th>\n",
       "      <th>y\"all</th>\n",
       "    </tr>\n",
       "  </thead>\n",
       "  <tbody>\n",
       "    <tr>\n",
       "      <td>0</td>\n",
       "      <td>0</td>\n",
       "      <td>-0.184587</td>\n",
       "      <td>0.508645</td>\n",
       "    </tr>\n",
       "    <tr>\n",
       "      <td>1</td>\n",
       "      <td>1</td>\n",
       "      <td>1.432699</td>\n",
       "      <td>1.470822</td>\n",
       "    </tr>\n",
       "    <tr>\n",
       "      <td>2</td>\n",
       "      <td>2</td>\n",
       "      <td>2.399859</td>\n",
       "      <td>2.432999</td>\n",
       "    </tr>\n",
       "    <tr>\n",
       "      <td>3</td>\n",
       "      <td>3</td>\n",
       "      <td>5.153855</td>\n",
       "      <td>3.395176</td>\n",
       "    </tr>\n",
       "    <tr>\n",
       "      <td>4</td>\n",
       "      <td>4</td>\n",
       "      <td>3.204328</td>\n",
       "      <td>4.357352</td>\n",
       "    </tr>\n",
       "    <tr>\n",
       "      <td>5</td>\n",
       "      <td>5</td>\n",
       "      <td>6.059535</td>\n",
       "      <td>5.319529</td>\n",
       "    </tr>\n",
       "    <tr>\n",
       "      <td>6</td>\n",
       "      <td>6</td>\n",
       "      <td>5.880377</td>\n",
       "      <td>6.281706</td>\n",
       "    </tr>\n",
       "    <tr>\n",
       "      <td>7</td>\n",
       "      <td>7</td>\n",
       "      <td>7.277494</td>\n",
       "      <td>7.243883</td>\n",
       "    </tr>\n",
       "    <tr>\n",
       "      <td>8</td>\n",
       "      <td>8</td>\n",
       "      <td>8.371898</td>\n",
       "      <td>8.206060</td>\n",
       "    </tr>\n",
       "    <tr>\n",
       "      <td>9</td>\n",
       "      <td>9</td>\n",
       "      <td>8.788951</td>\n",
       "      <td>9.168237</td>\n",
       "    </tr>\n",
       "  </tbody>\n",
       "</table>\n",
       "</div>"
      ],
      "text/plain": [
       "   x         y     y\"all\n",
       "0  0 -0.184587  0.508645\n",
       "1  1  1.432699  1.470822\n",
       "2  2  2.399859  2.432999\n",
       "3  3  5.153855  3.395176\n",
       "4  4  3.204328  4.357352\n",
       "5  5  6.059535  5.319529\n",
       "6  6  5.880377  6.281706\n",
       "7  7  7.277494  7.243883\n",
       "8  8  8.371898  8.206060\n",
       "9  9  8.788951  9.168237"
      ]
     },
     "execution_count": 27,
     "metadata": {},
     "output_type": "execute_result"
    }
   ],
   "source": [
    "df['y\"all'] = model.predict(df[['x']])\n",
    "df"
   ]
  },
  {
   "cell_type": "code",
   "execution_count": 28,
   "metadata": {},
   "outputs": [
    {
     "data": {
      "text/plain": [
       "<matplotlib.legend.Legend at 0x1f3a249cb48>"
      ]
     },
     "execution_count": 28,
     "metadata": {},
     "output_type": "execute_result"
    },
    {
     "data": {
      "image/png": "[encoded data removed]",
      "text/plain": [
       "<Figure size 432x288 with 1 Axes>"
      ]
     },
     "metadata": {
      "needs_background": "light"
     },
     "output_type": "display_data"
    }
   ],
   "source": [
    "plt.plot(df['x'], df['y'], 'ro-')\n",
    "plt.plot(df['x'], df['y\"all'], 'g-')\n",
    "plt.legend(['Data', 'OLS all'])"
   ]
  },
  {
   "cell_type": "markdown",
   "metadata": {},
   "source": [
    "### Linear Regression, train 80% random data"
   ]
  },
  {
   "cell_type": "code",
   "execution_count": 29,
   "metadata": {},
   "outputs": [],
   "source": [
    "from sklearn.model_selection import train_test_split"
   ]
  },
  {
   "cell_type": "code",
   "execution_count": 30,
   "metadata": {},
   "outputs": [
    {
     "name": "stdout",
     "output_type": "stream",
     "text": [
      "   x\n",
      "2  2\n",
      "0  0\n",
      "2    2.399859\n",
      "0   -0.184587\n",
      "Name: y, dtype: float64\n"
     ]
    }
   ],
   "source": [
    "x_train, x_test, y_train, y_test = train_test_split(\n",
    "    df[['x']], df['y'],\n",
    "    test_size=.2\n",
    ")\n",
    "print(x_test)\n",
    "print(y_test)"
   ]
  },
  {
   "cell_type": "code",
   "execution_count": 31,
   "metadata": {},
   "outputs": [
    {
     "data": {
      "text/html": [
       "<div>\n",
       "<style scoped>\n",
       "    .dataframe tbody tr th:only-of-type {\n",
       "        vertical-align: middle;\n",
       "    }\n",
       "\n",
       "    .dataframe tbody tr th {\n",
       "        vertical-align: top;\n",
       "    }\n",
       "\n",
       "    .dataframe thead th {\n",
       "        text-align: right;\n",
       "    }\n",
       "</style>\n",
       "<table border=\"1\" class=\"dataframe\">\n",
       "  <thead>\n",
       "    <tr style=\"text-align: right;\">\n",
       "      <th></th>\n",
       "      <th>x</th>\n",
       "      <th>y</th>\n",
       "      <th>y\"all</th>\n",
       "      <th>y\"80</th>\n",
       "    </tr>\n",
       "  </thead>\n",
       "  <tbody>\n",
       "    <tr>\n",
       "      <td>0</td>\n",
       "      <td>0</td>\n",
       "      <td>-0.184587</td>\n",
       "      <td>0.508645</td>\n",
       "      <td>1.013057</td>\n",
       "    </tr>\n",
       "    <tr>\n",
       "      <td>1</td>\n",
       "      <td>1</td>\n",
       "      <td>1.432699</td>\n",
       "      <td>1.470822</td>\n",
       "      <td>1.898282</td>\n",
       "    </tr>\n",
       "    <tr>\n",
       "      <td>2</td>\n",
       "      <td>2</td>\n",
       "      <td>2.399859</td>\n",
       "      <td>2.432999</td>\n",
       "      <td>2.783507</td>\n",
       "    </tr>\n",
       "    <tr>\n",
       "      <td>3</td>\n",
       "      <td>3</td>\n",
       "      <td>5.153855</td>\n",
       "      <td>3.395176</td>\n",
       "      <td>3.668732</td>\n",
       "    </tr>\n",
       "    <tr>\n",
       "      <td>4</td>\n",
       "      <td>4</td>\n",
       "      <td>3.204328</td>\n",
       "      <td>4.357352</td>\n",
       "      <td>4.553958</td>\n",
       "    </tr>\n",
       "    <tr>\n",
       "      <td>5</td>\n",
       "      <td>5</td>\n",
       "      <td>6.059535</td>\n",
       "      <td>5.319529</td>\n",
       "      <td>5.439183</td>\n",
       "    </tr>\n",
       "    <tr>\n",
       "      <td>6</td>\n",
       "      <td>6</td>\n",
       "      <td>5.880377</td>\n",
       "      <td>6.281706</td>\n",
       "      <td>6.324408</td>\n",
       "    </tr>\n",
       "    <tr>\n",
       "      <td>7</td>\n",
       "      <td>7</td>\n",
       "      <td>7.277494</td>\n",
       "      <td>7.243883</td>\n",
       "      <td>7.209633</td>\n",
       "    </tr>\n",
       "    <tr>\n",
       "      <td>8</td>\n",
       "      <td>8</td>\n",
       "      <td>8.371898</td>\n",
       "      <td>8.206060</td>\n",
       "      <td>8.094858</td>\n",
       "    </tr>\n",
       "    <tr>\n",
       "      <td>9</td>\n",
       "      <td>9</td>\n",
       "      <td>8.788951</td>\n",
       "      <td>9.168237</td>\n",
       "      <td>8.980083</td>\n",
       "    </tr>\n",
       "  </tbody>\n",
       "</table>\n",
       "</div>"
      ],
      "text/plain": [
       "   x         y     y\"all      y\"80\n",
       "0  0 -0.184587  0.508645  1.013057\n",
       "1  1  1.432699  1.470822  1.898282\n",
       "2  2  2.399859  2.432999  2.783507\n",
       "3  3  5.153855  3.395176  3.668732\n",
       "4  4  3.204328  4.357352  4.553958\n",
       "5  5  6.059535  5.319529  5.439183\n",
       "6  6  5.880377  6.281706  6.324408\n",
       "7  7  7.277494  7.243883  7.209633\n",
       "8  8  8.371898  8.206060  8.094858\n",
       "9  9  8.788951  9.168237  8.980083"
      ]
     },
     "execution_count": 31,
     "metadata": {},
     "output_type": "execute_result"
    }
   ],
   "source": [
    "model.fit(x_train, y_train)\n",
    "df['y\"80'] = model.predict(df[['x']])\n",
    "df"
   ]
  },
  {
   "cell_type": "code",
   "execution_count": 32,
   "metadata": {},
   "outputs": [
    {
     "data": {
      "text/plain": [
       "<matplotlib.legend.Legend at 0x1f3a203fd88>"
      ]
     },
     "execution_count": 32,
     "metadata": {},
     "output_type": "execute_result"
    },
    {
     "data": {
      "image/png": "[encoded data removed]",
      "text/plain": [
       "<Figure size 432x288 with 1 Axes>"
      ]
     },
     "metadata": {
      "needs_background": "light"
     },
     "output_type": "display_data"
    }
   ],
   "source": [
    "plt.plot(df['x'], df['y'], 'ro-')\n",
    "plt.plot(df['x'], df['y\"all'], 'g-')\n",
    "plt.plot(df['x'], df['y\"80'], 'b-')\n",
    "plt.legend(['Data', 'OLS all', 'OLS 80%'])"
   ]
  },
  {
   "cell_type": "markdown",
   "metadata": {},
   "source": [
    "### Linear Regression, train 2 data"
   ]
  },
  {
   "cell_type": "code",
   "execution_count": 33,
   "metadata": {},
   "outputs": [
    {
     "data": {
      "text/html": [
       "<div>\n",
       "<style scoped>\n",
       "    .dataframe tbody tr th:only-of-type {\n",
       "        vertical-align: middle;\n",
       "    }\n",
       "\n",
       "    .dataframe tbody tr th {\n",
       "        vertical-align: top;\n",
       "    }\n",
       "\n",
       "    .dataframe thead th {\n",
       "        text-align: right;\n",
       "    }\n",
       "</style>\n",
       "<table border=\"1\" class=\"dataframe\">\n",
       "  <thead>\n",
       "    <tr style=\"text-align: right;\">\n",
       "      <th></th>\n",
       "      <th>x</th>\n",
       "      <th>y</th>\n",
       "      <th>y\"all</th>\n",
       "      <th>y\"80</th>\n",
       "      <th>y\"2</th>\n",
       "    </tr>\n",
       "  </thead>\n",
       "  <tbody>\n",
       "    <tr>\n",
       "      <td>0</td>\n",
       "      <td>0</td>\n",
       "      <td>-0.184587</td>\n",
       "      <td>0.508645</td>\n",
       "      <td>1.013057</td>\n",
       "      <td>-0.184587</td>\n",
       "    </tr>\n",
       "    <tr>\n",
       "      <td>1</td>\n",
       "      <td>1</td>\n",
       "      <td>1.432699</td>\n",
       "      <td>1.470822</td>\n",
       "      <td>1.898282</td>\n",
       "      <td>1.432699</td>\n",
       "    </tr>\n",
       "    <tr>\n",
       "      <td>2</td>\n",
       "      <td>2</td>\n",
       "      <td>2.399859</td>\n",
       "      <td>2.432999</td>\n",
       "      <td>2.783507</td>\n",
       "      <td>3.049984</td>\n",
       "    </tr>\n",
       "    <tr>\n",
       "      <td>3</td>\n",
       "      <td>3</td>\n",
       "      <td>5.153855</td>\n",
       "      <td>3.395176</td>\n",
       "      <td>3.668732</td>\n",
       "      <td>4.667270</td>\n",
       "    </tr>\n",
       "    <tr>\n",
       "      <td>4</td>\n",
       "      <td>4</td>\n",
       "      <td>3.204328</td>\n",
       "      <td>4.357352</td>\n",
       "      <td>4.553958</td>\n",
       "      <td>6.284555</td>\n",
       "    </tr>\n",
       "    <tr>\n",
       "      <td>5</td>\n",
       "      <td>5</td>\n",
       "      <td>6.059535</td>\n",
       "      <td>5.319529</td>\n",
       "      <td>5.439183</td>\n",
       "      <td>7.901841</td>\n",
       "    </tr>\n",
       "    <tr>\n",
       "      <td>6</td>\n",
       "      <td>6</td>\n",
       "      <td>5.880377</td>\n",
       "      <td>6.281706</td>\n",
       "      <td>6.324408</td>\n",
       "      <td>9.519126</td>\n",
       "    </tr>\n",
       "    <tr>\n",
       "      <td>7</td>\n",
       "      <td>7</td>\n",
       "      <td>7.277494</td>\n",
       "      <td>7.243883</td>\n",
       "      <td>7.209633</td>\n",
       "      <td>11.136412</td>\n",
       "    </tr>\n",
       "    <tr>\n",
       "      <td>8</td>\n",
       "      <td>8</td>\n",
       "      <td>8.371898</td>\n",
       "      <td>8.206060</td>\n",
       "      <td>8.094858</td>\n",
       "      <td>12.753698</td>\n",
       "    </tr>\n",
       "    <tr>\n",
       "      <td>9</td>\n",
       "      <td>9</td>\n",
       "      <td>8.788951</td>\n",
       "      <td>9.168237</td>\n",
       "      <td>8.980083</td>\n",
       "      <td>14.370983</td>\n",
       "    </tr>\n",
       "  </tbody>\n",
       "</table>\n",
       "</div>"
      ],
      "text/plain": [
       "   x         y     y\"all      y\"80        y\"2\n",
       "0  0 -0.184587  0.508645  1.013057  -0.184587\n",
       "1  1  1.432699  1.470822  1.898282   1.432699\n",
       "2  2  2.399859  2.432999  2.783507   3.049984\n",
       "3  3  5.153855  3.395176  3.668732   4.667270\n",
       "4  4  3.204328  4.357352  4.553958   6.284555\n",
       "5  5  6.059535  5.319529  5.439183   7.901841\n",
       "6  6  5.880377  6.281706  6.324408   9.519126\n",
       "7  7  7.277494  7.243883  7.209633  11.136412\n",
       "8  8  8.371898  8.206060  8.094858  12.753698\n",
       "9  9  8.788951  9.168237  8.980083  14.370983"
      ]
     },
     "execution_count": 33,
     "metadata": {},
     "output_type": "execute_result"
    }
   ],
   "source": [
    "model.fit(df[['x']].iloc[:2], df['y'].iloc[:2])\n",
    "df['y\"2'] =  model.predict(df[['x']])\n",
    "df"
   ]
  },
  {
   "cell_type": "code",
   "execution_count": 34,
   "metadata": {},
   "outputs": [
    {
     "data": {
      "text/plain": [
       "<matplotlib.legend.Legend at 0x1f3a267aec8>"
      ]
     },
     "execution_count": 34,
     "metadata": {},
     "output_type": "execute_result"
    },
    {
     "data": {
      "image/png": "[encoded data removed]",
      "text/plain": [
       "<Figure size 432x288 with 1 Axes>"
      ]
     },
     "metadata": {
      "needs_background": "light"
     },
     "output_type": "display_data"
    }
   ],
   "source": [
    "plt.plot(df['x'], df['y'], 'ro-')\n",
    "plt.plot(df['x'], df['y\"all'], 'g-')\n",
    "plt.plot(df['x'], df['y\"80'], 'b-')\n",
    "plt.plot(df['x'], df['y\"2'], 'k-')\n",
    "plt.legend(['Data', 'OLS all', 'OLS 80%', 'OLS 2'])"
   ]
  },
  {
   "cell_type": "markdown",
   "metadata": {},
   "source": [
    "### Plot residual / selisih antara y dengan y\""
   ]
  },
  {
   "cell_type": "code",
   "execution_count": 44,
   "metadata": {},
   "outputs": [
    {
     "data": {
      "text/plain": [
       "<matplotlib.axes._subplots.AxesSubplot at 0x1f3a3f1ecc8>"
      ]
     },
     "execution_count": 44,
     "metadata": {},
     "output_type": "execute_result"
    },
    {
     "data": {
      "image/png": "[encoded data removed]",
      "text/plain": [
       "<Figure size 432x288 with 1 Axes>"
      ]
     },
     "metadata": {
      "needs_background": "light"
     },
     "output_type": "display_data"
    }
   ],
   "source": [
    "import seaborn as sb\n",
    "sb.distplot(df['y'] - df['y\"2'])"
   ]
  },
  {
   "cell_type": "markdown",
   "metadata": {},
   "source": [
    "### Ridge Regression\n",
    "\n",
    "Sum Squared Error $ = \\sum (y - \\hat{y}) ^ 2 $\n",
    "\n",
    "$ SSE = SSE\\quad OLS + \\lambda \\times m^2 $\n",
    "\n",
    "Nilai penalty L2 Regularization $ + \\lambda.m^2 $"
   ]
  },
  {
   "cell_type": "code",
   "execution_count": 107,
   "metadata": {},
   "outputs": [
    {
     "data": {
      "text/html": [
       "<div>\n",
       "<style scoped>\n",
       "    .dataframe tbody tr th:only-of-type {\n",
       "        vertical-align: middle;\n",
       "    }\n",
       "\n",
       "    .dataframe tbody tr th {\n",
       "        vertical-align: top;\n",
       "    }\n",
       "\n",
       "    .dataframe thead th {\n",
       "        text-align: right;\n",
       "    }\n",
       "</style>\n",
       "<table border=\"1\" class=\"dataframe\">\n",
       "  <thead>\n",
       "    <tr style=\"text-align: right;\">\n",
       "      <th></th>\n",
       "      <th>x</th>\n",
       "      <th>y</th>\n",
       "      <th>y\"all</th>\n",
       "      <th>y\"80</th>\n",
       "      <th>y\"2</th>\n",
       "      <th>y\"2ridge</th>\n",
       "      <th>y\"2lasso</th>\n",
       "    </tr>\n",
       "  </thead>\n",
       "  <tbody>\n",
       "    <tr>\n",
       "      <td>0</td>\n",
       "      <td>0</td>\n",
       "      <td>-0.184587</td>\n",
       "      <td>0.508645</td>\n",
       "      <td>1.013057</td>\n",
       "      <td>-0.184587</td>\n",
       "      <td>0.118654</td>\n",
       "      <td>0.115413</td>\n",
       "    </tr>\n",
       "    <tr>\n",
       "      <td>1</td>\n",
       "      <td>1</td>\n",
       "      <td>1.432699</td>\n",
       "      <td>1.470822</td>\n",
       "      <td>1.898282</td>\n",
       "      <td>1.432699</td>\n",
       "      <td>1.129458</td>\n",
       "      <td>1.132699</td>\n",
       "    </tr>\n",
       "    <tr>\n",
       "      <td>2</td>\n",
       "      <td>2</td>\n",
       "      <td>2.399859</td>\n",
       "      <td>2.432999</td>\n",
       "      <td>2.783507</td>\n",
       "      <td>3.049984</td>\n",
       "      <td>2.140261</td>\n",
       "      <td>2.149984</td>\n",
       "    </tr>\n",
       "    <tr>\n",
       "      <td>3</td>\n",
       "      <td>3</td>\n",
       "      <td>5.153855</td>\n",
       "      <td>3.395176</td>\n",
       "      <td>3.668732</td>\n",
       "      <td>4.667270</td>\n",
       "      <td>3.151065</td>\n",
       "      <td>3.167270</td>\n",
       "    </tr>\n",
       "    <tr>\n",
       "      <td>4</td>\n",
       "      <td>4</td>\n",
       "      <td>3.204328</td>\n",
       "      <td>4.357352</td>\n",
       "      <td>4.553958</td>\n",
       "      <td>6.284555</td>\n",
       "      <td>4.161868</td>\n",
       "      <td>4.184555</td>\n",
       "    </tr>\n",
       "    <tr>\n",
       "      <td>5</td>\n",
       "      <td>5</td>\n",
       "      <td>6.059535</td>\n",
       "      <td>5.319529</td>\n",
       "      <td>5.439183</td>\n",
       "      <td>7.901841</td>\n",
       "      <td>5.172672</td>\n",
       "      <td>5.201841</td>\n",
       "    </tr>\n",
       "    <tr>\n",
       "      <td>6</td>\n",
       "      <td>6</td>\n",
       "      <td>5.880377</td>\n",
       "      <td>6.281706</td>\n",
       "      <td>6.324408</td>\n",
       "      <td>9.519126</td>\n",
       "      <td>6.183475</td>\n",
       "      <td>6.219126</td>\n",
       "    </tr>\n",
       "    <tr>\n",
       "      <td>7</td>\n",
       "      <td>7</td>\n",
       "      <td>7.277494</td>\n",
       "      <td>7.243883</td>\n",
       "      <td>7.209633</td>\n",
       "      <td>11.136412</td>\n",
       "      <td>7.194278</td>\n",
       "      <td>7.236412</td>\n",
       "    </tr>\n",
       "    <tr>\n",
       "      <td>8</td>\n",
       "      <td>8</td>\n",
       "      <td>8.371898</td>\n",
       "      <td>8.206060</td>\n",
       "      <td>8.094858</td>\n",
       "      <td>12.753698</td>\n",
       "      <td>8.205082</td>\n",
       "      <td>8.253698</td>\n",
       "    </tr>\n",
       "    <tr>\n",
       "      <td>9</td>\n",
       "      <td>9</td>\n",
       "      <td>8.788951</td>\n",
       "      <td>9.168237</td>\n",
       "      <td>8.980083</td>\n",
       "      <td>14.370983</td>\n",
       "      <td>9.215885</td>\n",
       "      <td>9.270983</td>\n",
       "    </tr>\n",
       "  </tbody>\n",
       "</table>\n",
       "</div>"
      ],
      "text/plain": [
       "   x         y     y\"all      y\"80        y\"2  y\"2ridge  y\"2lasso\n",
       "0  0 -0.184587  0.508645  1.013057  -0.184587  0.118654  0.115413\n",
       "1  1  1.432699  1.470822  1.898282   1.432699  1.129458  1.132699\n",
       "2  2  2.399859  2.432999  2.783507   3.049984  2.140261  2.149984\n",
       "3  3  5.153855  3.395176  3.668732   4.667270  3.151065  3.167270\n",
       "4  4  3.204328  4.357352  4.553958   6.284555  4.161868  4.184555\n",
       "5  5  6.059535  5.319529  5.439183   7.901841  5.172672  5.201841\n",
       "6  6  5.880377  6.281706  6.324408   9.519126  6.183475  6.219126\n",
       "7  7  7.277494  7.243883  7.209633  11.136412  7.194278  7.236412\n",
       "8  8  8.371898  8.206060  8.094858  12.753698  8.205082  8.253698\n",
       "9  9  8.788951  9.168237  8.980083  14.370983  9.215885  9.270983"
      ]
     },
     "execution_count": 107,
     "metadata": {},
     "output_type": "execute_result"
    }
   ],
   "source": [
    "from sklearn.linear_model import Ridge\n",
    "modelR = Ridge(alpha=0.3)\n",
    "modelR.fit(df[['x']].iloc[:2], df['y'].iloc[:2])\n",
    "df['y\"2ridge'] =  modelR.predict(df[['x']])\n",
    "df"
   ]
  },
  {
   "cell_type": "code",
   "execution_count": 108,
   "metadata": {},
   "outputs": [
    {
     "data": {
      "text/plain": [
       "[<matplotlib.lines.Line2D at 0x1f3a5ae5b88>]"
      ]
     },
     "execution_count": 108,
     "metadata": {},
     "output_type": "execute_result"
    },
    {
     "data": {
      "image/png": "[encoded data removed]",
      "text/plain": [
       "<Figure size 432x288 with 1 Axes>"
      ]
     },
     "metadata": {
      "needs_background": "light"
     },
     "output_type": "display_data"
    }
   ],
   "source": [
    "plt.plot(df['x'], df['y'], 'ro')\n",
    "plt.plot(df['x'], df['y\"2'], 'g-')\n",
    "plt.plot(df['x'], df['y\"2ridge'], 'y-')"
   ]
  },
  {
   "cell_type": "markdown",
   "metadata": {},
   "source": [
    "### Lasso Regression\n",
    "LASSO (LASSO least absolute shrinkage and selection operator)\n",
    "\n",
    "Sum Absolute Error $ = \\sum |y - \\hat{y}| $\n",
    "\n",
    "SAE LASSO = SAE OLS $ + \\lambda . |m| $\n",
    "\n",
    "Nilai penalty L1 Regularization $ + \\lambda . |m| $"
   ]
  },
  {
   "cell_type": "code",
   "execution_count": 109,
   "metadata": {},
   "outputs": [
    {
     "data": {
      "text/html": [
       "<div>\n",
       "<style scoped>\n",
       "    .dataframe tbody tr th:only-of-type {\n",
       "        vertical-align: middle;\n",
       "    }\n",
       "\n",
       "    .dataframe tbody tr th {\n",
       "        vertical-align: top;\n",
       "    }\n",
       "\n",
       "    .dataframe thead th {\n",
       "        text-align: right;\n",
       "    }\n",
       "</style>\n",
       "<table border=\"1\" class=\"dataframe\">\n",
       "  <thead>\n",
       "    <tr style=\"text-align: right;\">\n",
       "      <th></th>\n",
       "      <th>x</th>\n",
       "      <th>y</th>\n",
       "      <th>y\"all</th>\n",
       "      <th>y\"80</th>\n",
       "      <th>y\"2</th>\n",
       "      <th>y\"2ridge</th>\n",
       "      <th>y\"2lasso</th>\n",
       "    </tr>\n",
       "  </thead>\n",
       "  <tbody>\n",
       "    <tr>\n",
       "      <td>0</td>\n",
       "      <td>0</td>\n",
       "      <td>-0.184587</td>\n",
       "      <td>0.508645</td>\n",
       "      <td>1.013057</td>\n",
       "      <td>-0.184587</td>\n",
       "      <td>0.118654</td>\n",
       "      <td>0.115413</td>\n",
       "    </tr>\n",
       "    <tr>\n",
       "      <td>1</td>\n",
       "      <td>1</td>\n",
       "      <td>1.432699</td>\n",
       "      <td>1.470822</td>\n",
       "      <td>1.898282</td>\n",
       "      <td>1.432699</td>\n",
       "      <td>1.129458</td>\n",
       "      <td>1.132699</td>\n",
       "    </tr>\n",
       "    <tr>\n",
       "      <td>2</td>\n",
       "      <td>2</td>\n",
       "      <td>2.399859</td>\n",
       "      <td>2.432999</td>\n",
       "      <td>2.783507</td>\n",
       "      <td>3.049984</td>\n",
       "      <td>2.140261</td>\n",
       "      <td>2.149984</td>\n",
       "    </tr>\n",
       "    <tr>\n",
       "      <td>3</td>\n",
       "      <td>3</td>\n",
       "      <td>5.153855</td>\n",
       "      <td>3.395176</td>\n",
       "      <td>3.668732</td>\n",
       "      <td>4.667270</td>\n",
       "      <td>3.151065</td>\n",
       "      <td>3.167270</td>\n",
       "    </tr>\n",
       "    <tr>\n",
       "      <td>4</td>\n",
       "      <td>4</td>\n",
       "      <td>3.204328</td>\n",
       "      <td>4.357352</td>\n",
       "      <td>4.553958</td>\n",
       "      <td>6.284555</td>\n",
       "      <td>4.161868</td>\n",
       "      <td>4.184555</td>\n",
       "    </tr>\n",
       "    <tr>\n",
       "      <td>5</td>\n",
       "      <td>5</td>\n",
       "      <td>6.059535</td>\n",
       "      <td>5.319529</td>\n",
       "      <td>5.439183</td>\n",
       "      <td>7.901841</td>\n",
       "      <td>5.172672</td>\n",
       "      <td>5.201841</td>\n",
       "    </tr>\n",
       "    <tr>\n",
       "      <td>6</td>\n",
       "      <td>6</td>\n",
       "      <td>5.880377</td>\n",
       "      <td>6.281706</td>\n",
       "      <td>6.324408</td>\n",
       "      <td>9.519126</td>\n",
       "      <td>6.183475</td>\n",
       "      <td>6.219126</td>\n",
       "    </tr>\n",
       "    <tr>\n",
       "      <td>7</td>\n",
       "      <td>7</td>\n",
       "      <td>7.277494</td>\n",
       "      <td>7.243883</td>\n",
       "      <td>7.209633</td>\n",
       "      <td>11.136412</td>\n",
       "      <td>7.194278</td>\n",
       "      <td>7.236412</td>\n",
       "    </tr>\n",
       "    <tr>\n",
       "      <td>8</td>\n",
       "      <td>8</td>\n",
       "      <td>8.371898</td>\n",
       "      <td>8.206060</td>\n",
       "      <td>8.094858</td>\n",
       "      <td>12.753698</td>\n",
       "      <td>8.205082</td>\n",
       "      <td>8.253698</td>\n",
       "    </tr>\n",
       "    <tr>\n",
       "      <td>9</td>\n",
       "      <td>9</td>\n",
       "      <td>8.788951</td>\n",
       "      <td>9.168237</td>\n",
       "      <td>8.980083</td>\n",
       "      <td>14.370983</td>\n",
       "      <td>9.215885</td>\n",
       "      <td>9.270983</td>\n",
       "    </tr>\n",
       "  </tbody>\n",
       "</table>\n",
       "</div>"
      ],
      "text/plain": [
       "   x         y     y\"all      y\"80        y\"2  y\"2ridge  y\"2lasso\n",
       "0  0 -0.184587  0.508645  1.013057  -0.184587  0.118654  0.115413\n",
       "1  1  1.432699  1.470822  1.898282   1.432699  1.129458  1.132699\n",
       "2  2  2.399859  2.432999  2.783507   3.049984  2.140261  2.149984\n",
       "3  3  5.153855  3.395176  3.668732   4.667270  3.151065  3.167270\n",
       "4  4  3.204328  4.357352  4.553958   6.284555  4.161868  4.184555\n",
       "5  5  6.059535  5.319529  5.439183   7.901841  5.172672  5.201841\n",
       "6  6  5.880377  6.281706  6.324408   9.519126  6.183475  6.219126\n",
       "7  7  7.277494  7.243883  7.209633  11.136412  7.194278  7.236412\n",
       "8  8  8.371898  8.206060  8.094858  12.753698  8.205082  8.253698\n",
       "9  9  8.788951  9.168237  8.980083  14.370983  9.215885  9.270983"
      ]
     },
     "execution_count": 109,
     "metadata": {},
     "output_type": "execute_result"
    }
   ],
   "source": [
    "from sklearn.linear_model import Lasso\n",
    "modelL = Lasso(alpha=0.15)\n",
    "modelL.fit(df[['x']].iloc[:2], df['y'].iloc[:2])\n",
    "df['y\"2lasso'] =  modelL.predict(df[['x']])\n",
    "df"
   ]
  },
  {
   "cell_type": "code",
   "execution_count": 110,
   "metadata": {},
   "outputs": [
    {
     "data": {
      "text/plain": [
       "[<matplotlib.lines.Line2D at 0x1f3a5b58a08>]"
      ]
     },
     "execution_count": 110,
     "metadata": {},
     "output_type": "execute_result"
    },
    {
     "data": {
      "image/png": "[encoded data removed]",
      "text/plain": [
       "<Figure size 432x288 with 1 Axes>"
      ]
     },
     "metadata": {
      "needs_background": "light"
     },
     "output_type": "display_data"
    }
   ],
   "source": [
    "plt.plot(df['x'], df['y'], 'ro')\n",
    "plt.plot(df['x'], df['y\"2'], 'g-')\n",
    "plt.plot(df['x'], df['y\"2ridge'], 'y-')\n",
    "plt.plot(df['x'], df['y\"2lasso'], 'b-')"
   ]
  },
  {
   "cell_type": "code",
   "execution_count": 112,
   "metadata": {},
   "outputs": [
    {
     "name": "stdout",
     "output_type": "stream",
     "text": [
      "MSE OLS 2 = 3.0336829268795262\n",
      "MSE Ridge 2 = 0.792134915482813\n",
      "MSE LASSO 2 = 0.7904562712212022\n"
     ]
    }
   ],
   "source": [
    "from sklearn.metrics import mean_squared_error\n",
    "print('MSE OLS 2 =', np.sqrt(mean_squared_error(df['y'], df['y\"2'])))\n",
    "print('MSE Ridge 2 =', np.sqrt(mean_squared_error(df['y'], df['y\"2ridge'])))\n",
    "print('MSE LASSO 2 =', np.sqrt(mean_squared_error(df['y'], df['y\"2lasso'])))"
   ]
  },
  {
   "cell_type": "markdown",
   "metadata": {},
   "source": [
    "### Elastic-Net Regression\n",
    "\n",
    "Sum Squared Error OLS $ = \\sum |y - \\hat{y}| $\n",
    "\n",
    "SSE Elastic-Net = SSE OLS $\\displaystyle + \\lambda_{ridge} . m^2 + \\lambda_{lasso} . |m| $\n",
    "\n",
    "Nilai penalty L1+L2 Regularization $\\displaystyle + \\lambda_{ridge} . m^2 + \\lambda_{lasso} . |m| $"
   ]
  },
  {
   "cell_type": "code",
   "execution_count": 119,
   "metadata": {},
   "outputs": [
    {
     "data": {
      "text/html": [
       "<div>\n",
       "<style scoped>\n",
       "    .dataframe tbody tr th:only-of-type {\n",
       "        vertical-align: middle;\n",
       "    }\n",
       "\n",
       "    .dataframe tbody tr th {\n",
       "        vertical-align: top;\n",
       "    }\n",
       "\n",
       "    .dataframe thead th {\n",
       "        text-align: right;\n",
       "    }\n",
       "</style>\n",
       "<table border=\"1\" class=\"dataframe\">\n",
       "  <thead>\n",
       "    <tr style=\"text-align: right;\">\n",
       "      <th></th>\n",
       "      <th>x</th>\n",
       "      <th>y</th>\n",
       "      <th>y\"all</th>\n",
       "      <th>y\"80</th>\n",
       "      <th>y\"2</th>\n",
       "      <th>y\"2ridge</th>\n",
       "      <th>y\"2lasso</th>\n",
       "      <th>y\"2elastic</th>\n",
       "    </tr>\n",
       "  </thead>\n",
       "  <tbody>\n",
       "    <tr>\n",
       "      <td>0</td>\n",
       "      <td>0</td>\n",
       "      <td>-0.184587</td>\n",
       "      <td>0.508645</td>\n",
       "      <td>1.013057</td>\n",
       "      <td>-0.184587</td>\n",
       "      <td>0.118654</td>\n",
       "      <td>0.115413</td>\n",
       "      <td>0.117408</td>\n",
       "    </tr>\n",
       "    <tr>\n",
       "      <td>1</td>\n",
       "      <td>1</td>\n",
       "      <td>1.432699</td>\n",
       "      <td>1.470822</td>\n",
       "      <td>1.898282</td>\n",
       "      <td>1.432699</td>\n",
       "      <td>1.129458</td>\n",
       "      <td>1.132699</td>\n",
       "      <td>1.130704</td>\n",
       "    </tr>\n",
       "    <tr>\n",
       "      <td>2</td>\n",
       "      <td>2</td>\n",
       "      <td>2.399859</td>\n",
       "      <td>2.432999</td>\n",
       "      <td>2.783507</td>\n",
       "      <td>3.049984</td>\n",
       "      <td>2.140261</td>\n",
       "      <td>2.149984</td>\n",
       "      <td>2.144001</td>\n",
       "    </tr>\n",
       "    <tr>\n",
       "      <td>3</td>\n",
       "      <td>3</td>\n",
       "      <td>5.153855</td>\n",
       "      <td>3.395176</td>\n",
       "      <td>3.668732</td>\n",
       "      <td>4.667270</td>\n",
       "      <td>3.151065</td>\n",
       "      <td>3.167270</td>\n",
       "      <td>3.157297</td>\n",
       "    </tr>\n",
       "    <tr>\n",
       "      <td>4</td>\n",
       "      <td>4</td>\n",
       "      <td>3.204328</td>\n",
       "      <td>4.357352</td>\n",
       "      <td>4.553958</td>\n",
       "      <td>6.284555</td>\n",
       "      <td>4.161868</td>\n",
       "      <td>4.184555</td>\n",
       "      <td>4.170594</td>\n",
       "    </tr>\n",
       "    <tr>\n",
       "      <td>5</td>\n",
       "      <td>5</td>\n",
       "      <td>6.059535</td>\n",
       "      <td>5.319529</td>\n",
       "      <td>5.439183</td>\n",
       "      <td>7.901841</td>\n",
       "      <td>5.172672</td>\n",
       "      <td>5.201841</td>\n",
       "      <td>5.183891</td>\n",
       "    </tr>\n",
       "    <tr>\n",
       "      <td>6</td>\n",
       "      <td>6</td>\n",
       "      <td>5.880377</td>\n",
       "      <td>6.281706</td>\n",
       "      <td>6.324408</td>\n",
       "      <td>9.519126</td>\n",
       "      <td>6.183475</td>\n",
       "      <td>6.219126</td>\n",
       "      <td>6.197187</td>\n",
       "    </tr>\n",
       "    <tr>\n",
       "      <td>7</td>\n",
       "      <td>7</td>\n",
       "      <td>7.277494</td>\n",
       "      <td>7.243883</td>\n",
       "      <td>7.209633</td>\n",
       "      <td>11.136412</td>\n",
       "      <td>7.194278</td>\n",
       "      <td>7.236412</td>\n",
       "      <td>7.210484</td>\n",
       "    </tr>\n",
       "    <tr>\n",
       "      <td>8</td>\n",
       "      <td>8</td>\n",
       "      <td>8.371898</td>\n",
       "      <td>8.206060</td>\n",
       "      <td>8.094858</td>\n",
       "      <td>12.753698</td>\n",
       "      <td>8.205082</td>\n",
       "      <td>8.253698</td>\n",
       "      <td>8.223780</td>\n",
       "    </tr>\n",
       "    <tr>\n",
       "      <td>9</td>\n",
       "      <td>9</td>\n",
       "      <td>8.788951</td>\n",
       "      <td>9.168237</td>\n",
       "      <td>8.980083</td>\n",
       "      <td>14.370983</td>\n",
       "      <td>9.215885</td>\n",
       "      <td>9.270983</td>\n",
       "      <td>9.237077</td>\n",
       "    </tr>\n",
       "  </tbody>\n",
       "</table>\n",
       "</div>"
      ],
      "text/plain": [
       "   x         y     y\"all      y\"80        y\"2  y\"2ridge  y\"2lasso  y\"2elastic\n",
       "0  0 -0.184587  0.508645  1.013057  -0.184587  0.118654  0.115413    0.117408\n",
       "1  1  1.432699  1.470822  1.898282   1.432699  1.129458  1.132699    1.130704\n",
       "2  2  2.399859  2.432999  2.783507   3.049984  2.140261  2.149984    2.144001\n",
       "3  3  5.153855  3.395176  3.668732   4.667270  3.151065  3.167270    3.157297\n",
       "4  4  3.204328  4.357352  4.553958   6.284555  4.161868  4.184555    4.170594\n",
       "5  5  6.059535  5.319529  5.439183   7.901841  5.172672  5.201841    5.183891\n",
       "6  6  5.880377  6.281706  6.324408   9.519126  6.183475  6.219126    6.197187\n",
       "7  7  7.277494  7.243883  7.209633  11.136412  7.194278  7.236412    7.210484\n",
       "8  8  8.371898  8.206060  8.094858  12.753698  8.205082  8.253698    8.223780\n",
       "9  9  8.788951  9.168237  8.980083  14.370983  9.215885  9.270983    9.237077"
      ]
     },
     "execution_count": 119,
     "metadata": {},
     "output_type": "execute_result"
    }
   ],
   "source": [
    "from sklearn.linear_model import ElasticNet\n",
    "modelE = ElasticNet(alpha=0.15)\n",
    "modelE.fit(df[['x']].iloc[:2], df['y'].iloc[:2])\n",
    "df['y\"2elastic'] =  modelE.predict(df[['x']])\n",
    "df"
   ]
  },
  {
   "cell_type": "code",
   "execution_count": 120,
   "metadata": {},
   "outputs": [
    {
     "data": {
      "text/plain": [
       "[<matplotlib.lines.Line2D at 0x1f3a5d80748>]"
      ]
     },
     "execution_count": 120,
     "metadata": {},
     "output_type": "execute_result"
    },
    {
     "data": {
      "image/png": "[encoded data removed]",
      "text/plain": [
       "<Figure size 432x288 with 1 Axes>"
      ]
     },
     "metadata": {
      "needs_background": "light"
     },
     "output_type": "display_data"
    }
   ],
   "source": [
    "plt.plot(df['x'], df['y'], 'ro')\n",
    "plt.plot(df['x'], df['y\"2'], 'g-')\n",
    "plt.plot(df['x'], df['y\"2ridge'], 'y-')\n",
    "plt.plot(df['x'], df['y\"2lasso'], 'b-')\n",
    "plt.plot(df['x'], df['y\"2elastic'], 'm-')"
   ]
  },
  {
   "cell_type": "code",
   "execution_count": 121,
   "metadata": {},
   "outputs": [
    {
     "name": "stdout",
     "output_type": "stream",
     "text": [
      "MSE OLS 2 = 3.0336829268795262\n",
      "MSE Ridge 2 = 0.792134915482813\n",
      "MSE LASSO 2 = 0.7904562712212022\n",
      "MSE Elastic 2 = 0.7913373411309\n"
     ]
    }
   ],
   "source": [
    "print('MSE OLS 2 =', np.sqrt(mean_squared_error(df['y'], df['y\"2'])))\n",
    "print('MSE Ridge 2 =', np.sqrt(mean_squared_error(df['y'], df['y\"2ridge'])))\n",
    "print('MSE LASSO 2 =', np.sqrt(mean_squared_error(df['y'], df['y\"2lasso'])))\n",
    "print('MSE Elastic 2 =', np.sqrt(mean_squared_error(df['y'], df['y\"2elastic'])))"
   ]
  },
  {
   "cell_type": "markdown",
   "metadata": {},
   "source": [
    "### Polynomial Regression"
   ]
  },
  {
   "cell_type": "code",
   "execution_count": 145,
   "metadata": {},
   "outputs": [
    {
     "data": {
      "text/plain": [
       "[<matplotlib.lines.Line2D at 0x1f3a63fcf88>]"
      ]
     },
     "execution_count": 145,
     "metadata": {},
     "output_type": "execute_result"
    },
    {
     "data": {
      "image/png": "[encoded data removed]",
      "text/plain": [
       "<Figure size 432x288 with 1 Axes>"
      ]
     },
     "metadata": {
      "needs_background": "light"
     },
     "output_type": "display_data"
    }
   ],
   "source": [
    "x= np.array([i * np.pi/180 for i in range(0, 720, 10)])\n",
    "y= np.sin(x)\n",
    "\n",
    "df2 = pd.DataFrame({'x': x, 'y': y})\n",
    "plt.plot(df2['x'], df2['y'], 'b.')"
   ]
  },
  {
   "cell_type": "code",
   "execution_count": 179,
   "metadata": {},
   "outputs": [],
   "source": [
    "modelA = LinearRegression()\n",
    "modelB = Ridge(alpha=2)\n",
    "modelC = Lasso(alpha=2)\n",
    "modelD = ElasticNet(alpha=2)"
   ]
  },
  {
   "cell_type": "code",
   "execution_count": 180,
   "metadata": {},
   "outputs": [
    {
     "data": {
      "text/plain": [
       "[<matplotlib.lines.Line2D at 0x1f3a7e55c08>]"
      ]
     },
     "execution_count": 180,
     "metadata": {},
     "output_type": "execute_result"
    },
    {
     "data": {
      "image/png": "[encoded data removed]",
      "text/plain": [
       "<Figure size 432x288 with 1 Axes>"
      ]
     },
     "metadata": {
      "needs_background": "light"
     },
     "output_type": "display_data"
    }
   ],
   "source": [
    "modelA.fit(df[['x']], df['y'])\n",
    "modelB.fit(df[['x']], df['y'])\n",
    "modelC.fit(df[['x']], df['y'])\n",
    "modelD.fit(df[['x']], df['y'])\n",
    "\n",
    "df2['y\"A'] = modelA.predict(df2[['x']])\n",
    "df2['y\"B'] = modelB.predict(df2[['x']])\n",
    "df2['y\"C'] = modelC.predict(df2[['x']])\n",
    "df2['y\"D'] = modelD.predict(df2[['x']])\n",
    "\n",
    "plt.plot(df2['x'], df2['y'], 'r.')\n",
    "plt.plot(df2['x'], df2['y\"A'], 'g-')\n",
    "plt.plot(df2['x'], df2['y\"B'], 'b-')\n",
    "plt.plot(df2['x'], df2['y\"C'], 'y-')\n",
    "plt.plot(df2['x'], df2['y\"D'], 'm-')"
   ]
  },
  {
   "cell_type": "code",
   "execution_count": 188,
   "metadata": {},
   "outputs": [
    {
     "data": {
      "text/html": [
       "<div>\n",
       "<style scoped>\n",
       "    .dataframe tbody tr th:only-of-type {\n",
       "        vertical-align: middle;\n",
       "    }\n",
       "\n",
       "    .dataframe tbody tr th {\n",
       "        vertical-align: top;\n",
       "    }\n",
       "\n",
       "    .dataframe thead th {\n",
       "        text-align: right;\n",
       "    }\n",
       "</style>\n",
       "<table border=\"1\" class=\"dataframe\">\n",
       "  <thead>\n",
       "    <tr style=\"text-align: right;\">\n",
       "      <th></th>\n",
       "      <th>x</th>\n",
       "      <th>y</th>\n",
       "      <th>x2</th>\n",
       "      <th>x3</th>\n",
       "      <th>x4</th>\n",
       "      <th>x5</th>\n",
       "      <th>x6</th>\n",
       "      <th>x7</th>\n",
       "      <th>x8</th>\n",
       "      <th>x9</th>\n",
       "      <th>x10</th>\n",
       "    </tr>\n",
       "  </thead>\n",
       "  <tbody>\n",
       "    <tr>\n",
       "      <td>0</td>\n",
       "      <td>0.000000</td>\n",
       "      <td>0.000000</td>\n",
       "      <td>0.000000</td>\n",
       "      <td>0.000000</td>\n",
       "      <td>0.000000</td>\n",
       "      <td>0.000000</td>\n",
       "      <td>0.000000</td>\n",
       "      <td>0.000000</td>\n",
       "      <td>0.000000e+00</td>\n",
       "      <td>0.000000e+00</td>\n",
       "      <td>0.000000e+00</td>\n",
       "    </tr>\n",
       "    <tr>\n",
       "      <td>1</td>\n",
       "      <td>0.174533</td>\n",
       "      <td>0.173648</td>\n",
       "      <td>0.030462</td>\n",
       "      <td>0.005317</td>\n",
       "      <td>0.000928</td>\n",
       "      <td>0.000162</td>\n",
       "      <td>0.000028</td>\n",
       "      <td>0.000005</td>\n",
       "      <td>8.610313e-07</td>\n",
       "      <td>1.502783e-07</td>\n",
       "      <td>2.622851e-08</td>\n",
       "    </tr>\n",
       "    <tr>\n",
       "      <td>2</td>\n",
       "      <td>0.349066</td>\n",
       "      <td>0.342020</td>\n",
       "      <td>0.121847</td>\n",
       "      <td>0.042533</td>\n",
       "      <td>0.014847</td>\n",
       "      <td>0.005182</td>\n",
       "      <td>0.001809</td>\n",
       "      <td>0.000631</td>\n",
       "      <td>2.204240e-04</td>\n",
       "      <td>7.694250e-05</td>\n",
       "      <td>2.685800e-05</td>\n",
       "    </tr>\n",
       "    <tr>\n",
       "      <td>3</td>\n",
       "      <td>0.523599</td>\n",
       "      <td>0.500000</td>\n",
       "      <td>0.274156</td>\n",
       "      <td>0.143548</td>\n",
       "      <td>0.075161</td>\n",
       "      <td>0.039354</td>\n",
       "      <td>0.020606</td>\n",
       "      <td>0.010789</td>\n",
       "      <td>5.649226e-03</td>\n",
       "      <td>2.957928e-03</td>\n",
       "      <td>1.548767e-03</td>\n",
       "    </tr>\n",
       "    <tr>\n",
       "      <td>4</td>\n",
       "      <td>0.698132</td>\n",
       "      <td>0.642788</td>\n",
       "      <td>0.487388</td>\n",
       "      <td>0.340261</td>\n",
       "      <td>0.237547</td>\n",
       "      <td>0.165839</td>\n",
       "      <td>0.115777</td>\n",
       "      <td>0.080828</td>\n",
       "      <td>5.642855e-02</td>\n",
       "      <td>3.939456e-02</td>\n",
       "      <td>2.750259e-02</td>\n",
       "    </tr>\n",
       "  </tbody>\n",
       "</table>\n",
       "</div>"
      ],
      "text/plain": [
       "          x         y        x2        x3        x4        x5        x6  \\\n",
       "0  0.000000  0.000000  0.000000  0.000000  0.000000  0.000000  0.000000   \n",
       "1  0.174533  0.173648  0.030462  0.005317  0.000928  0.000162  0.000028   \n",
       "2  0.349066  0.342020  0.121847  0.042533  0.014847  0.005182  0.001809   \n",
       "3  0.523599  0.500000  0.274156  0.143548  0.075161  0.039354  0.020606   \n",
       "4  0.698132  0.642788  0.487388  0.340261  0.237547  0.165839  0.115777   \n",
       "\n",
       "         x7            x8            x9           x10  \n",
       "0  0.000000  0.000000e+00  0.000000e+00  0.000000e+00  \n",
       "1  0.000005  8.610313e-07  1.502783e-07  2.622851e-08  \n",
       "2  0.000631  2.204240e-04  7.694250e-05  2.685800e-05  \n",
       "3  0.010789  5.649226e-03  2.957928e-03  1.548767e-03  \n",
       "4  0.080828  5.642855e-02  3.939456e-02  2.750259e-02  "
      ]
     },
     "execution_count": 188,
     "metadata": {},
     "output_type": "execute_result"
    }
   ],
   "source": [
    "x= np.array([i * np.pi/180 for i in range(0, 720, 10)])\n",
    "y= np.sin(x)\n",
    "\n",
    "df = pd.DataFrame({\n",
    "    'x': x, 'y': y\n",
    "})\n",
    "for i in range(2,11):\n",
    "    df[f'x{i}'] = df['x'] ** i\n",
    "\n",
    "df.head()"
   ]
  },
  {
   "cell_type": "code",
   "execution_count": 190,
   "metadata": {},
   "outputs": [
    {
     "data": {
      "text/html": [
       "<div>\n",
       "<style scoped>\n",
       "    .dataframe tbody tr th:only-of-type {\n",
       "        vertical-align: middle;\n",
       "    }\n",
       "\n",
       "    .dataframe tbody tr th {\n",
       "        vertical-align: top;\n",
       "    }\n",
       "\n",
       "    .dataframe thead th {\n",
       "        text-align: right;\n",
       "    }\n",
       "</style>\n",
       "<table border=\"1\" class=\"dataframe\">\n",
       "  <thead>\n",
       "    <tr style=\"text-align: right;\">\n",
       "      <th></th>\n",
       "      <th>x</th>\n",
       "      <th>y</th>\n",
       "      <th>x2</th>\n",
       "      <th>x3</th>\n",
       "      <th>x4</th>\n",
       "      <th>x5</th>\n",
       "      <th>x6</th>\n",
       "      <th>x7</th>\n",
       "      <th>x8</th>\n",
       "      <th>x9</th>\n",
       "      <th>x10</th>\n",
       "      <th>y\"</th>\n",
       "    </tr>\n",
       "  </thead>\n",
       "  <tbody>\n",
       "    <tr>\n",
       "      <td>0</td>\n",
       "      <td>0.000000</td>\n",
       "      <td>0.000000</td>\n",
       "      <td>0.000000</td>\n",
       "      <td>0.000000</td>\n",
       "      <td>0.000000</td>\n",
       "      <td>0.000000</td>\n",
       "      <td>0.000000</td>\n",
       "      <td>0.000000</td>\n",
       "      <td>0.000000e+00</td>\n",
       "      <td>0.000000e+00</td>\n",
       "      <td>0.000000e+00</td>\n",
       "      <td>-0.006865</td>\n",
       "    </tr>\n",
       "    <tr>\n",
       "      <td>1</td>\n",
       "      <td>0.174533</td>\n",
       "      <td>0.173648</td>\n",
       "      <td>0.030462</td>\n",
       "      <td>0.005317</td>\n",
       "      <td>0.000928</td>\n",
       "      <td>0.000162</td>\n",
       "      <td>0.000028</td>\n",
       "      <td>0.000005</td>\n",
       "      <td>8.610313e-07</td>\n",
       "      <td>1.502783e-07</td>\n",
       "      <td>2.622851e-08</td>\n",
       "      <td>0.179245</td>\n",
       "    </tr>\n",
       "    <tr>\n",
       "      <td>2</td>\n",
       "      <td>0.349066</td>\n",
       "      <td>0.342020</td>\n",
       "      <td>0.121847</td>\n",
       "      <td>0.042533</td>\n",
       "      <td>0.014847</td>\n",
       "      <td>0.005182</td>\n",
       "      <td>0.001809</td>\n",
       "      <td>0.000631</td>\n",
       "      <td>2.204240e-04</td>\n",
       "      <td>7.694250e-05</td>\n",
       "      <td>2.685800e-05</td>\n",
       "      <td>0.348879</td>\n",
       "    </tr>\n",
       "    <tr>\n",
       "      <td>3</td>\n",
       "      <td>0.523599</td>\n",
       "      <td>0.500000</td>\n",
       "      <td>0.274156</td>\n",
       "      <td>0.143548</td>\n",
       "      <td>0.075161</td>\n",
       "      <td>0.039354</td>\n",
       "      <td>0.020606</td>\n",
       "      <td>0.010789</td>\n",
       "      <td>5.649226e-03</td>\n",
       "      <td>2.957928e-03</td>\n",
       "      <td>1.548767e-03</td>\n",
       "      <td>0.503433</td>\n",
       "    </tr>\n",
       "    <tr>\n",
       "      <td>4</td>\n",
       "      <td>0.698132</td>\n",
       "      <td>0.642788</td>\n",
       "      <td>0.487388</td>\n",
       "      <td>0.340261</td>\n",
       "      <td>0.237547</td>\n",
       "      <td>0.165839</td>\n",
       "      <td>0.115777</td>\n",
       "      <td>0.080828</td>\n",
       "      <td>5.642855e-02</td>\n",
       "      <td>3.939456e-02</td>\n",
       "      <td>2.750259e-02</td>\n",
       "      <td>0.641930</td>\n",
       "    </tr>\n",
       "  </tbody>\n",
       "</table>\n",
       "</div>"
      ],
      "text/plain": [
       "          x         y        x2        x3        x4        x5        x6  \\\n",
       "0  0.000000  0.000000  0.000000  0.000000  0.000000  0.000000  0.000000   \n",
       "1  0.174533  0.173648  0.030462  0.005317  0.000928  0.000162  0.000028   \n",
       "2  0.349066  0.342020  0.121847  0.042533  0.014847  0.005182  0.001809   \n",
       "3  0.523599  0.500000  0.274156  0.143548  0.075161  0.039354  0.020606   \n",
       "4  0.698132  0.642788  0.487388  0.340261  0.237547  0.165839  0.115777   \n",
       "\n",
       "         x7            x8            x9           x10        y\"  \n",
       "0  0.000000  0.000000e+00  0.000000e+00  0.000000e+00 -0.006865  \n",
       "1  0.000005  8.610313e-07  1.502783e-07  2.622851e-08  0.179245  \n",
       "2  0.000631  2.204240e-04  7.694250e-05  2.685800e-05  0.348879  \n",
       "3  0.010789  5.649226e-03  2.957928e-03  1.548767e-03  0.503433  \n",
       "4  0.080828  5.642855e-02  3.939456e-02  2.750259e-02  0.641930  "
      ]
     },
     "execution_count": 190,
     "metadata": {},
     "output_type": "execute_result"
    }
   ],
   "source": [
    "model = LinearRegression()\n",
    "xn = ['x']\n",
    "xn.extend(['x%d' %i for i in range(2, 11)])\n",
    "\n",
    "model.fit(df[xn], df['y'])\n",
    "df['y\"'] = model.predict(df[xn])\n",
    "df.head()"
   ]
  },
  {
   "cell_type": "code",
   "execution_count": 191,
   "metadata": {},
   "outputs": [
    {
     "data": {
      "text/plain": [
       "[<matplotlib.lines.Line2D at 0x1f3a7f3dd88>]"
      ]
     },
     "execution_count": 191,
     "metadata": {},
     "output_type": "execute_result"
    },
    {
     "data": {
      "image/png": "[encoded data removed]",
      "text/plain": [
       "<Figure size 432x288 with 1 Axes>"
      ]
     },
     "metadata": {
      "needs_background": "light"
     },
     "output_type": "display_data"
    }
   ],
   "source": [
    "plt.plot(df['x'], df['y'], 'b.')\n",
    "plt.plot(df['x'], df['y\"'], 'm-')"
   ]
  },
  {
   "cell_type": "markdown",
   "metadata": {},
   "source": [
    "### Exponential Polynomial Regression"
   ]
  },
  {
   "cell_type": "code",
   "execution_count": 211,
   "metadata": {},
   "outputs": [
    {
     "data": {
      "text/html": [
       "<div>\n",
       "<style scoped>\n",
       "    .dataframe tbody tr th:only-of-type {\n",
       "        vertical-align: middle;\n",
       "    }\n",
       "\n",
       "    .dataframe tbody tr th {\n",
       "        vertical-align: top;\n",
       "    }\n",
       "\n",
       "    .dataframe thead th {\n",
       "        text-align: right;\n",
       "    }\n",
       "</style>\n",
       "<table border=\"1\" class=\"dataframe\">\n",
       "  <thead>\n",
       "    <tr style=\"text-align: right;\">\n",
       "      <th></th>\n",
       "      <th>x</th>\n",
       "      <th>y</th>\n",
       "      <th>x2</th>\n",
       "      <th>x3</th>\n",
       "      <th>x4</th>\n",
       "      <th>x5</th>\n",
       "      <th>x6</th>\n",
       "      <th>x7</th>\n",
       "      <th>x8</th>\n",
       "      <th>x9</th>\n",
       "    </tr>\n",
       "  </thead>\n",
       "  <tbody>\n",
       "    <tr>\n",
       "      <td>0</td>\n",
       "      <td>1</td>\n",
       "      <td>2.718282</td>\n",
       "      <td>1</td>\n",
       "      <td>1</td>\n",
       "      <td>1</td>\n",
       "      <td>1</td>\n",
       "      <td>1</td>\n",
       "      <td>1</td>\n",
       "      <td>1</td>\n",
       "      <td>1</td>\n",
       "    </tr>\n",
       "    <tr>\n",
       "      <td>1</td>\n",
       "      <td>2</td>\n",
       "      <td>7.389056</td>\n",
       "      <td>4</td>\n",
       "      <td>8</td>\n",
       "      <td>16</td>\n",
       "      <td>32</td>\n",
       "      <td>64</td>\n",
       "      <td>128</td>\n",
       "      <td>256</td>\n",
       "      <td>512</td>\n",
       "    </tr>\n",
       "    <tr>\n",
       "      <td>2</td>\n",
       "      <td>3</td>\n",
       "      <td>20.085537</td>\n",
       "      <td>9</td>\n",
       "      <td>27</td>\n",
       "      <td>81</td>\n",
       "      <td>243</td>\n",
       "      <td>729</td>\n",
       "      <td>2187</td>\n",
       "      <td>6561</td>\n",
       "      <td>19683</td>\n",
       "    </tr>\n",
       "    <tr>\n",
       "      <td>3</td>\n",
       "      <td>4</td>\n",
       "      <td>54.598150</td>\n",
       "      <td>16</td>\n",
       "      <td>64</td>\n",
       "      <td>256</td>\n",
       "      <td>1024</td>\n",
       "      <td>4096</td>\n",
       "      <td>16384</td>\n",
       "      <td>65536</td>\n",
       "      <td>262144</td>\n",
       "    </tr>\n",
       "    <tr>\n",
       "      <td>4</td>\n",
       "      <td>5</td>\n",
       "      <td>148.413159</td>\n",
       "      <td>25</td>\n",
       "      <td>125</td>\n",
       "      <td>625</td>\n",
       "      <td>3125</td>\n",
       "      <td>15625</td>\n",
       "      <td>78125</td>\n",
       "      <td>390625</td>\n",
       "      <td>1953125</td>\n",
       "    </tr>\n",
       "  </tbody>\n",
       "</table>\n",
       "</div>"
      ],
      "text/plain": [
       "   x           y  x2   x3   x4    x5     x6     x7      x8       x9\n",
       "0  1    2.718282   1    1    1     1      1      1       1        1\n",
       "1  2    7.389056   4    8   16    32     64    128     256      512\n",
       "2  3   20.085537   9   27   81   243    729   2187    6561    19683\n",
       "3  4   54.598150  16   64  256  1024   4096  16384   65536   262144\n",
       "4  5  148.413159  25  125  625  3125  15625  78125  390625  1953125"
      ]
     },
     "execution_count": 211,
     "metadata": {},
     "output_type": "execute_result"
    }
   ],
   "source": [
    "x = np.arange(1, 11)\n",
    "y = np.exp(x)\n",
    "data = {\n",
    "    'x':x,\n",
    "    'y':y\n",
    "}\n",
    "df = pd.DataFrame(data)\n",
    "for i in range(2,10):\n",
    "    df[f'x{i}'] = df['x'] ** i\n",
    "\n",
    "df.head()\n",
    "\n",
    "# plt.plot(df['x'], df['y'])"
   ]
  },
  {
   "cell_type": "code",
   "execution_count": 212,
   "metadata": {},
   "outputs": [
    {
     "data": {
      "text/html": [
       "<div>\n",
       "<style scoped>\n",
       "    .dataframe tbody tr th:only-of-type {\n",
       "        vertical-align: middle;\n",
       "    }\n",
       "\n",
       "    .dataframe tbody tr th {\n",
       "        vertical-align: top;\n",
       "    }\n",
       "\n",
       "    .dataframe thead th {\n",
       "        text-align: right;\n",
       "    }\n",
       "</style>\n",
       "<table border=\"1\" class=\"dataframe\">\n",
       "  <thead>\n",
       "    <tr style=\"text-align: right;\">\n",
       "      <th></th>\n",
       "      <th>x</th>\n",
       "      <th>y</th>\n",
       "      <th>x2</th>\n",
       "      <th>x3</th>\n",
       "      <th>x4</th>\n",
       "      <th>x5</th>\n",
       "      <th>x6</th>\n",
       "      <th>x7</th>\n",
       "      <th>x8</th>\n",
       "      <th>x9</th>\n",
       "      <th>y\"</th>\n",
       "    </tr>\n",
       "  </thead>\n",
       "  <tbody>\n",
       "    <tr>\n",
       "      <td>0</td>\n",
       "      <td>1</td>\n",
       "      <td>2.718282</td>\n",
       "      <td>1</td>\n",
       "      <td>1</td>\n",
       "      <td>1</td>\n",
       "      <td>1</td>\n",
       "      <td>1</td>\n",
       "      <td>1</td>\n",
       "      <td>1</td>\n",
       "      <td>1</td>\n",
       "      <td>2.718256</td>\n",
       "    </tr>\n",
       "    <tr>\n",
       "      <td>1</td>\n",
       "      <td>2</td>\n",
       "      <td>7.389056</td>\n",
       "      <td>4</td>\n",
       "      <td>8</td>\n",
       "      <td>16</td>\n",
       "      <td>32</td>\n",
       "      <td>64</td>\n",
       "      <td>128</td>\n",
       "      <td>256</td>\n",
       "      <td>512</td>\n",
       "      <td>7.389054</td>\n",
       "    </tr>\n",
       "    <tr>\n",
       "      <td>2</td>\n",
       "      <td>3</td>\n",
       "      <td>20.085537</td>\n",
       "      <td>9</td>\n",
       "      <td>27</td>\n",
       "      <td>81</td>\n",
       "      <td>243</td>\n",
       "      <td>729</td>\n",
       "      <td>2187</td>\n",
       "      <td>6561</td>\n",
       "      <td>19683</td>\n",
       "      <td>20.085540</td>\n",
       "    </tr>\n",
       "    <tr>\n",
       "      <td>3</td>\n",
       "      <td>4</td>\n",
       "      <td>54.598150</td>\n",
       "      <td>16</td>\n",
       "      <td>64</td>\n",
       "      <td>256</td>\n",
       "      <td>1024</td>\n",
       "      <td>4096</td>\n",
       "      <td>16384</td>\n",
       "      <td>65536</td>\n",
       "      <td>262144</td>\n",
       "      <td>54.598161</td>\n",
       "    </tr>\n",
       "    <tr>\n",
       "      <td>4</td>\n",
       "      <td>5</td>\n",
       "      <td>148.413159</td>\n",
       "      <td>25</td>\n",
       "      <td>125</td>\n",
       "      <td>625</td>\n",
       "      <td>3125</td>\n",
       "      <td>15625</td>\n",
       "      <td>78125</td>\n",
       "      <td>390625</td>\n",
       "      <td>1953125</td>\n",
       "      <td>148.413169</td>\n",
       "    </tr>\n",
       "  </tbody>\n",
       "</table>\n",
       "</div>"
      ],
      "text/plain": [
       "   x           y  x2   x3   x4    x5     x6     x7      x8       x9  \\\n",
       "0  1    2.718282   1    1    1     1      1      1       1        1   \n",
       "1  2    7.389056   4    8   16    32     64    128     256      512   \n",
       "2  3   20.085537   9   27   81   243    729   2187    6561    19683   \n",
       "3  4   54.598150  16   64  256  1024   4096  16384   65536   262144   \n",
       "4  5  148.413159  25  125  625  3125  15625  78125  390625  1953125   \n",
       "\n",
       "           y\"  \n",
       "0    2.718256  \n",
       "1    7.389054  \n",
       "2   20.085540  \n",
       "3   54.598161  \n",
       "4  148.413169  "
      ]
     },
     "execution_count": 212,
     "metadata": {},
     "output_type": "execute_result"
    }
   ],
   "source": [
    "model = LinearRegression()\n",
    "xn = ['x']\n",
    "xn.extend(['x%d' %i for i in range(2, 10)])\n",
    "\n",
    "model.fit(df[xn], df['y'])\n",
    "df['y\"'] = model.predict(df[xn])\n",
    "df.head()"
   ]
  },
  {
   "cell_type": "code",
   "execution_count": 213,
   "metadata": {},
   "outputs": [
    {
     "data": {
      "text/plain": [
       "[<matplotlib.lines.Line2D at 0x1f3a92caf88>]"
      ]
     },
     "execution_count": 213,
     "metadata": {},
     "output_type": "execute_result"
    },
    {
     "data": {
      "image/png": "[encoded data removed]",
      "text/plain": [
       "<Figure size 432x288 with 1 Axes>"
      ]
     },
     "metadata": {
      "needs_background": "light"
     },
     "output_type": "display_data"
    }
   ],
   "source": [
    "plt.plot(df['x'], df['y'], 'b.')\n",
    "plt.plot(df['x'], df['y\"'], 'm-')"
   ]
  }
 ],
 "metadata": {
  "kernelspec": {
   "display_name": "Python 3",
   "language": "python",
   "name": "python3"
  },
  "language_info": {
   "codemirror_mode": {
    "name": "ipython",
    "version": 3
   },
   "file_extension": ".py",
   "mimetype": "text/x-python",
   "name": "python",
   "nbconvert_exporter": "python",
   "pygments_lexer": "ipython3",
   "version": "3.7.4"
  }
 },
 "nbformat": 4,
 "nbformat_minor": 4
}
