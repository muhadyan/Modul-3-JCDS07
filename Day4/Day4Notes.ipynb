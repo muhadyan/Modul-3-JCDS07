{
 "cells": [
  {
   "cell_type": "markdown",
   "metadata": {},
   "source": [
    "# Standardisasi\n",
    "Scaling, minimize gap, show outlier"
   ]
  },
  {
   "cell_type": "code",
   "execution_count": 69,
   "metadata": {},
   "outputs": [],
   "source": [
    "import pandas as pd\n",
    "import numpy as np\n",
    "import matplotlib.pyplot as plt"
   ]
  },
  {
   "cell_type": "code",
   "execution_count": 70,
   "metadata": {},
   "outputs": [
    {
     "data": {
      "text/html": [
       "<div>\n",
       "<style scoped>\n",
       "    .dataframe tbody tr th:only-of-type {\n",
       "        vertical-align: middle;\n",
       "    }\n",
       "\n",
       "    .dataframe tbody tr th {\n",
       "        vertical-align: top;\n",
       "    }\n",
       "\n",
       "    .dataframe thead th {\n",
       "        text-align: right;\n",
       "    }\n",
       "</style>\n",
       "<table border=\"1\" class=\"dataframe\">\n",
       "  <thead>\n",
       "    <tr style=\"text-align: right;\">\n",
       "      <th></th>\n",
       "      <th>TB</th>\n",
       "      <th>BB</th>\n",
       "    </tr>\n",
       "  </thead>\n",
       "  <tbody>\n",
       "    <tr>\n",
       "      <td>0</td>\n",
       "      <td>0.80</td>\n",
       "      <td>20</td>\n",
       "    </tr>\n",
       "    <tr>\n",
       "      <td>1</td>\n",
       "      <td>0.85</td>\n",
       "      <td>25</td>\n",
       "    </tr>\n",
       "    <tr>\n",
       "      <td>2</td>\n",
       "      <td>0.92</td>\n",
       "      <td>21</td>\n",
       "    </tr>\n",
       "    <tr>\n",
       "      <td>3</td>\n",
       "      <td>0.88</td>\n",
       "      <td>29</td>\n",
       "    </tr>\n",
       "    <tr>\n",
       "      <td>4</td>\n",
       "      <td>0.82</td>\n",
       "      <td>30</td>\n",
       "    </tr>\n",
       "    <tr>\n",
       "      <td>5</td>\n",
       "      <td>0.86</td>\n",
       "      <td>21</td>\n",
       "    </tr>\n",
       "    <tr>\n",
       "      <td>6</td>\n",
       "      <td>0.87</td>\n",
       "      <td>28</td>\n",
       "    </tr>\n",
       "    <tr>\n",
       "      <td>7</td>\n",
       "      <td>0.93</td>\n",
       "      <td>27</td>\n",
       "    </tr>\n",
       "    <tr>\n",
       "      <td>8</td>\n",
       "      <td>0.81</td>\n",
       "      <td>29</td>\n",
       "    </tr>\n",
       "    <tr>\n",
       "      <td>9</td>\n",
       "      <td>1.00</td>\n",
       "      <td>30</td>\n",
       "    </tr>\n",
       "  </tbody>\n",
       "</table>\n",
       "</div>"
      ],
      "text/plain": [
       "     TB  BB\n",
       "0  0.80  20\n",
       "1  0.85  25\n",
       "2  0.92  21\n",
       "3  0.88  29\n",
       "4  0.82  30\n",
       "5  0.86  21\n",
       "6  0.87  28\n",
       "7  0.93  27\n",
       "8  0.81  29\n",
       "9  1.00  30"
      ]
     },
     "execution_count": 70,
     "metadata": {},
     "output_type": "execute_result"
    }
   ],
   "source": [
    "df = pd.read_excel('dataBB.xlsx')\n",
    "df"
   ]
  },
  {
   "cell_type": "markdown",
   "metadata": {},
   "source": [
    "<hr>\n",
    "\n",
    "## Standardisasi Manual\n",
    "\n",
    "Standardisasi $\\displaystyle z_{score} = \\frac {X - \\bar{X}} {s} $\n",
    " dengan nilai standard deviasi $ ddof = 0 $ yaitu $\\displaystyle s = \\sqrt {\\frac {\\sum (x - \\bar{x})^2} {n - 0}} $\n",
    " \n",
    " - High outlier jika $ z_{score} > 2.5 $\n",
    " - Low outlier jika $ z_{score} < -2.5 $\n",
    " - Data terstandardisasi mean ~ 0 dan s ~ 1"
   ]
  },
  {
   "cell_type": "code",
   "execution_count": 71,
   "metadata": {},
   "outputs": [
    {
     "data": {
      "text/plain": [
       "0.06186005711819757"
      ]
     },
     "execution_count": 71,
     "metadata": {},
     "output_type": "execute_result"
    }
   ],
   "source": [
    "# Standar deviasi pandas .std() => ddof = 1, sama kayak excel\n",
    "df['TB'].std()"
   ]
  },
  {
   "cell_type": "code",
   "execution_count": 72,
   "metadata": {},
   "outputs": [
    {
     "data": {
      "text/plain": [
       "0.05868560300448484"
      ]
     },
     "execution_count": 72,
     "metadata": {},
     "output_type": "execute_result"
    }
   ],
   "source": [
    "# Standar deviasi numpy .std() => ddof = 0\n",
    "np.std(df['TB'])"
   ]
  },
  {
   "cell_type": "code",
   "execution_count": 73,
   "metadata": {},
   "outputs": [
    {
     "data": {
      "text/plain": [
       "0.06186005711819757"
      ]
     },
     "execution_count": 73,
     "metadata": {},
     "output_type": "execute_result"
    }
   ],
   "source": [
    "np.std(df['TB'], ddof=1)"
   ]
  },
  {
   "cell_type": "markdown",
   "metadata": {},
   "source": [
    "### Standardisasi z score with Pandas"
   ]
  },
  {
   "cell_type": "code",
   "execution_count": 74,
   "metadata": {},
   "outputs": [
    {
     "data": {
      "text/html": [
       "<div>\n",
       "<style scoped>\n",
       "    .dataframe tbody tr th:only-of-type {\n",
       "        vertical-align: middle;\n",
       "    }\n",
       "\n",
       "    .dataframe tbody tr th {\n",
       "        vertical-align: top;\n",
       "    }\n",
       "\n",
       "    .dataframe thead th {\n",
       "        text-align: right;\n",
       "    }\n",
       "</style>\n",
       "<table border=\"1\" class=\"dataframe\">\n",
       "  <thead>\n",
       "    <tr style=\"text-align: right;\">\n",
       "      <th></th>\n",
       "      <th>TB</th>\n",
       "      <th>BB</th>\n",
       "      <th>Z TB PD</th>\n",
       "      <th>Z BB PD</th>\n",
       "    </tr>\n",
       "  </thead>\n",
       "  <tbody>\n",
       "    <tr>\n",
       "      <td>0</td>\n",
       "      <td>0.80</td>\n",
       "      <td>20</td>\n",
       "      <td>-1.196248</td>\n",
       "      <td>-1.510526</td>\n",
       "    </tr>\n",
       "    <tr>\n",
       "      <td>1</td>\n",
       "      <td>0.85</td>\n",
       "      <td>25</td>\n",
       "      <td>-0.387972</td>\n",
       "      <td>-0.251754</td>\n",
       "    </tr>\n",
       "    <tr>\n",
       "      <td>2</td>\n",
       "      <td>0.92</td>\n",
       "      <td>21</td>\n",
       "      <td>0.743614</td>\n",
       "      <td>-1.258772</td>\n",
       "    </tr>\n",
       "    <tr>\n",
       "      <td>3</td>\n",
       "      <td>0.88</td>\n",
       "      <td>29</td>\n",
       "      <td>0.096993</td>\n",
       "      <td>0.755263</td>\n",
       "    </tr>\n",
       "    <tr>\n",
       "      <td>4</td>\n",
       "      <td>0.82</td>\n",
       "      <td>30</td>\n",
       "      <td>-0.872938</td>\n",
       "      <td>1.007018</td>\n",
       "    </tr>\n",
       "    <tr>\n",
       "      <td>5</td>\n",
       "      <td>0.86</td>\n",
       "      <td>21</td>\n",
       "      <td>-0.226317</td>\n",
       "      <td>-1.258772</td>\n",
       "    </tr>\n",
       "    <tr>\n",
       "      <td>6</td>\n",
       "      <td>0.87</td>\n",
       "      <td>28</td>\n",
       "      <td>-0.064662</td>\n",
       "      <td>0.503509</td>\n",
       "    </tr>\n",
       "    <tr>\n",
       "      <td>7</td>\n",
       "      <td>0.93</td>\n",
       "      <td>27</td>\n",
       "      <td>0.905269</td>\n",
       "      <td>0.251754</td>\n",
       "    </tr>\n",
       "    <tr>\n",
       "      <td>8</td>\n",
       "      <td>0.81</td>\n",
       "      <td>29</td>\n",
       "      <td>-1.034593</td>\n",
       "      <td>0.755263</td>\n",
       "    </tr>\n",
       "    <tr>\n",
       "      <td>9</td>\n",
       "      <td>1.00</td>\n",
       "      <td>30</td>\n",
       "      <td>2.036856</td>\n",
       "      <td>1.007018</td>\n",
       "    </tr>\n",
       "  </tbody>\n",
       "</table>\n",
       "</div>"
      ],
      "text/plain": [
       "     TB  BB   Z TB PD   Z BB PD\n",
       "0  0.80  20 -1.196248 -1.510526\n",
       "1  0.85  25 -0.387972 -0.251754\n",
       "2  0.92  21  0.743614 -1.258772\n",
       "3  0.88  29  0.096993  0.755263\n",
       "4  0.82  30 -0.872938  1.007018\n",
       "5  0.86  21 -0.226317 -1.258772\n",
       "6  0.87  28 -0.064662  0.503509\n",
       "7  0.93  27  0.905269  0.251754\n",
       "8  0.81  29 -1.034593  0.755263\n",
       "9  1.00  30  2.036856  1.007018"
      ]
     },
     "execution_count": 74,
     "metadata": {},
     "output_type": "execute_result"
    }
   ],
   "source": [
    "df['Z TB PD'] = (df['TB'] - df['TB'].mean()) / df['TB'].std()\n",
    "df['Z BB PD'] = (df['BB'] - df['BB'].mean()) / df['BB'].std()\n",
    "df"
   ]
  },
  {
   "cell_type": "markdown",
   "metadata": {},
   "source": [
    "### Standardisasi z score with Numpy"
   ]
  },
  {
   "cell_type": "code",
   "execution_count": 75,
   "metadata": {},
   "outputs": [
    {
     "data": {
      "text/html": [
       "<div>\n",
       "<style scoped>\n",
       "    .dataframe tbody tr th:only-of-type {\n",
       "        vertical-align: middle;\n",
       "    }\n",
       "\n",
       "    .dataframe tbody tr th {\n",
       "        vertical-align: top;\n",
       "    }\n",
       "\n",
       "    .dataframe thead th {\n",
       "        text-align: right;\n",
       "    }\n",
       "</style>\n",
       "<table border=\"1\" class=\"dataframe\">\n",
       "  <thead>\n",
       "    <tr style=\"text-align: right;\">\n",
       "      <th></th>\n",
       "      <th>TB</th>\n",
       "      <th>BB</th>\n",
       "      <th>Z TB PD</th>\n",
       "      <th>Z BB PD</th>\n",
       "      <th>Z TB NP</th>\n",
       "      <th>Z BB NP</th>\n",
       "    </tr>\n",
       "  </thead>\n",
       "  <tbody>\n",
       "    <tr>\n",
       "      <td>0</td>\n",
       "      <td>0.80</td>\n",
       "      <td>20</td>\n",
       "      <td>-1.196248</td>\n",
       "      <td>-1.510526</td>\n",
       "      <td>-1.260957</td>\n",
       "      <td>-1.592235</td>\n",
       "    </tr>\n",
       "    <tr>\n",
       "      <td>1</td>\n",
       "      <td>0.85</td>\n",
       "      <td>25</td>\n",
       "      <td>-0.387972</td>\n",
       "      <td>-0.251754</td>\n",
       "      <td>-0.408959</td>\n",
       "      <td>-0.265372</td>\n",
       "    </tr>\n",
       "    <tr>\n",
       "      <td>2</td>\n",
       "      <td>0.92</td>\n",
       "      <td>21</td>\n",
       "      <td>0.743614</td>\n",
       "      <td>-1.258772</td>\n",
       "      <td>0.783838</td>\n",
       "      <td>-1.326862</td>\n",
       "    </tr>\n",
       "    <tr>\n",
       "      <td>3</td>\n",
       "      <td>0.88</td>\n",
       "      <td>29</td>\n",
       "      <td>0.096993</td>\n",
       "      <td>0.755263</td>\n",
       "      <td>0.102240</td>\n",
       "      <td>0.796117</td>\n",
       "    </tr>\n",
       "    <tr>\n",
       "      <td>4</td>\n",
       "      <td>0.82</td>\n",
       "      <td>30</td>\n",
       "      <td>-0.872938</td>\n",
       "      <td>1.007018</td>\n",
       "      <td>-0.920158</td>\n",
       "      <td>1.061490</td>\n",
       "    </tr>\n",
       "    <tr>\n",
       "      <td>5</td>\n",
       "      <td>0.86</td>\n",
       "      <td>21</td>\n",
       "      <td>-0.226317</td>\n",
       "      <td>-1.258772</td>\n",
       "      <td>-0.238559</td>\n",
       "      <td>-1.326862</td>\n",
       "    </tr>\n",
       "    <tr>\n",
       "      <td>6</td>\n",
       "      <td>0.87</td>\n",
       "      <td>28</td>\n",
       "      <td>-0.064662</td>\n",
       "      <td>0.503509</td>\n",
       "      <td>-0.068160</td>\n",
       "      <td>0.530745</td>\n",
       "    </tr>\n",
       "    <tr>\n",
       "      <td>7</td>\n",
       "      <td>0.93</td>\n",
       "      <td>27</td>\n",
       "      <td>0.905269</td>\n",
       "      <td>0.251754</td>\n",
       "      <td>0.954237</td>\n",
       "      <td>0.265372</td>\n",
       "    </tr>\n",
       "    <tr>\n",
       "      <td>8</td>\n",
       "      <td>0.81</td>\n",
       "      <td>29</td>\n",
       "      <td>-1.034593</td>\n",
       "      <td>0.755263</td>\n",
       "      <td>-1.090557</td>\n",
       "      <td>0.796117</td>\n",
       "    </tr>\n",
       "    <tr>\n",
       "      <td>9</td>\n",
       "      <td>1.00</td>\n",
       "      <td>30</td>\n",
       "      <td>2.036856</td>\n",
       "      <td>1.007018</td>\n",
       "      <td>2.147034</td>\n",
       "      <td>1.061490</td>\n",
       "    </tr>\n",
       "  </tbody>\n",
       "</table>\n",
       "</div>"
      ],
      "text/plain": [
       "     TB  BB   Z TB PD   Z BB PD   Z TB NP   Z BB NP\n",
       "0  0.80  20 -1.196248 -1.510526 -1.260957 -1.592235\n",
       "1  0.85  25 -0.387972 -0.251754 -0.408959 -0.265372\n",
       "2  0.92  21  0.743614 -1.258772  0.783838 -1.326862\n",
       "3  0.88  29  0.096993  0.755263  0.102240  0.796117\n",
       "4  0.82  30 -0.872938  1.007018 -0.920158  1.061490\n",
       "5  0.86  21 -0.226317 -1.258772 -0.238559 -1.326862\n",
       "6  0.87  28 -0.064662  0.503509 -0.068160  0.530745\n",
       "7  0.93  27  0.905269  0.251754  0.954237  0.265372\n",
       "8  0.81  29 -1.034593  0.755263 -1.090557  0.796117\n",
       "9  1.00  30  2.036856  1.007018  2.147034  1.061490"
      ]
     },
     "execution_count": 75,
     "metadata": {},
     "output_type": "execute_result"
    }
   ],
   "source": [
    "df['Z TB NP'] = (df['TB'] - df['TB'].mean()) / np.std(df['TB'])\n",
    "df['Z BB NP'] = (df['BB'] - df['BB'].mean()) / np.std(df['BB'])\n",
    "df"
   ]
  },
  {
   "cell_type": "markdown",
   "metadata": {},
   "source": [
    "#### Ngecek mean dan std nya Z Score"
   ]
  },
  {
   "cell_type": "code",
   "execution_count": 76,
   "metadata": {},
   "outputs": [
    {
     "name": "stdout",
     "output_type": "stream",
     "text": [
      "1.7763568394002506e-16\n",
      "1.3322676295501878e-16\n",
      "-8.881784197001253e-17\n",
      "0.0\n",
      "1.0000000000000002\n",
      "1.0540925533894598\n",
      "1.0\n",
      "1.0540925533894596\n"
     ]
    }
   ],
   "source": [
    "print(df['Z TB PD'].mean())\n",
    "print(df['Z TB NP'].mean())\n",
    "print(df['Z BB PD'].mean())\n",
    "print(df['Z BB NP'].mean())\n",
    "\n",
    "print(df['Z TB PD'].std())\n",
    "print(df['Z TB NP'].std())\n",
    "print(df['Z BB PD'].std())\n",
    "print(df['Z BB NP'].std())"
   ]
  },
  {
   "cell_type": "code",
   "execution_count": 77,
   "metadata": {},
   "outputs": [
    {
     "data": {
      "image/png": "[encoded data removed]",
      "text/plain": [
       "<Figure size 432x288 with 3 Axes>"
      ]
     },
     "metadata": {
      "needs_background": "light"
     },
     "output_type": "display_data"
    }
   ],
   "source": [
    "plt.subplot(131)\n",
    "plt.scatter(df['TB'], df['BB'])\n",
    "plt.subplot(132)\n",
    "plt.scatter(df['Z TB PD'], df['Z BB PD'])\n",
    "plt.subplot(133)\n",
    "plt.scatter(df['Z TB NP'], df['Z BB NP'])\n",
    "plt.show()"
   ]
  },
  {
   "cell_type": "markdown",
   "metadata": {},
   "source": [
    "<hr>\n",
    "\n",
    "## Standardisasi dengan Sklearn"
   ]
  },
  {
   "cell_type": "code",
   "execution_count": 78,
   "metadata": {},
   "outputs": [],
   "source": [
    "from sklearn.preprocessing import StandardScaler"
   ]
  },
  {
   "cell_type": "code",
   "execution_count": 79,
   "metadata": {},
   "outputs": [
    {
     "data": {
      "text/plain": [
       "array([[-1.26095663, -1.59223468],\n",
       "       [-0.40895891, -0.26537245],\n",
       "       [ 0.7838379 , -1.32686223],\n",
       "       [ 0.10223973,  0.79611734],\n",
       "       [-0.92015754,  1.06148978],\n",
       "       [-0.23855936, -1.32686223],\n",
       "       [-0.06815982,  0.53074489],\n",
       "       [ 0.95423745,  0.26537245],\n",
       "       [-1.09055708,  0.79611734],\n",
       "       [ 2.14703426,  1.06148978]])"
      ]
     },
     "execution_count": 79,
     "metadata": {},
     "output_type": "execute_result"
    }
   ],
   "source": [
    "scaler = StandardScaler()\n",
    "z = scaler.fit_transform(df[['TB', 'BB']])\n",
    "z"
   ]
  },
  {
   "cell_type": "code",
   "execution_count": 80,
   "metadata": {},
   "outputs": [
    {
     "data": {
      "text/html": [
       "<div>\n",
       "<style scoped>\n",
       "    .dataframe tbody tr th:only-of-type {\n",
       "        vertical-align: middle;\n",
       "    }\n",
       "\n",
       "    .dataframe tbody tr th {\n",
       "        vertical-align: top;\n",
       "    }\n",
       "\n",
       "    .dataframe thead th {\n",
       "        text-align: right;\n",
       "    }\n",
       "</style>\n",
       "<table border=\"1\" class=\"dataframe\">\n",
       "  <thead>\n",
       "    <tr style=\"text-align: right;\">\n",
       "      <th></th>\n",
       "      <th>TB</th>\n",
       "      <th>BB</th>\n",
       "      <th>Z TB PD</th>\n",
       "      <th>Z BB PD</th>\n",
       "      <th>Z TB NP</th>\n",
       "      <th>Z BB NP</th>\n",
       "      <th>Z TB SKL</th>\n",
       "      <th>Z BB SKL</th>\n",
       "    </tr>\n",
       "  </thead>\n",
       "  <tbody>\n",
       "    <tr>\n",
       "      <td>0</td>\n",
       "      <td>0.80</td>\n",
       "      <td>20</td>\n",
       "      <td>-1.196248</td>\n",
       "      <td>-1.510526</td>\n",
       "      <td>-1.260957</td>\n",
       "      <td>-1.592235</td>\n",
       "      <td>-1.260957</td>\n",
       "      <td>-1.592235</td>\n",
       "    </tr>\n",
       "    <tr>\n",
       "      <td>1</td>\n",
       "      <td>0.85</td>\n",
       "      <td>25</td>\n",
       "      <td>-0.387972</td>\n",
       "      <td>-0.251754</td>\n",
       "      <td>-0.408959</td>\n",
       "      <td>-0.265372</td>\n",
       "      <td>-0.408959</td>\n",
       "      <td>-0.265372</td>\n",
       "    </tr>\n",
       "    <tr>\n",
       "      <td>2</td>\n",
       "      <td>0.92</td>\n",
       "      <td>21</td>\n",
       "      <td>0.743614</td>\n",
       "      <td>-1.258772</td>\n",
       "      <td>0.783838</td>\n",
       "      <td>-1.326862</td>\n",
       "      <td>0.783838</td>\n",
       "      <td>-1.326862</td>\n",
       "    </tr>\n",
       "    <tr>\n",
       "      <td>3</td>\n",
       "      <td>0.88</td>\n",
       "      <td>29</td>\n",
       "      <td>0.096993</td>\n",
       "      <td>0.755263</td>\n",
       "      <td>0.102240</td>\n",
       "      <td>0.796117</td>\n",
       "      <td>0.102240</td>\n",
       "      <td>0.796117</td>\n",
       "    </tr>\n",
       "    <tr>\n",
       "      <td>4</td>\n",
       "      <td>0.82</td>\n",
       "      <td>30</td>\n",
       "      <td>-0.872938</td>\n",
       "      <td>1.007018</td>\n",
       "      <td>-0.920158</td>\n",
       "      <td>1.061490</td>\n",
       "      <td>-0.920158</td>\n",
       "      <td>1.061490</td>\n",
       "    </tr>\n",
       "    <tr>\n",
       "      <td>5</td>\n",
       "      <td>0.86</td>\n",
       "      <td>21</td>\n",
       "      <td>-0.226317</td>\n",
       "      <td>-1.258772</td>\n",
       "      <td>-0.238559</td>\n",
       "      <td>-1.326862</td>\n",
       "      <td>-0.238559</td>\n",
       "      <td>-1.326862</td>\n",
       "    </tr>\n",
       "    <tr>\n",
       "      <td>6</td>\n",
       "      <td>0.87</td>\n",
       "      <td>28</td>\n",
       "      <td>-0.064662</td>\n",
       "      <td>0.503509</td>\n",
       "      <td>-0.068160</td>\n",
       "      <td>0.530745</td>\n",
       "      <td>-0.068160</td>\n",
       "      <td>0.530745</td>\n",
       "    </tr>\n",
       "    <tr>\n",
       "      <td>7</td>\n",
       "      <td>0.93</td>\n",
       "      <td>27</td>\n",
       "      <td>0.905269</td>\n",
       "      <td>0.251754</td>\n",
       "      <td>0.954237</td>\n",
       "      <td>0.265372</td>\n",
       "      <td>0.954237</td>\n",
       "      <td>0.265372</td>\n",
       "    </tr>\n",
       "    <tr>\n",
       "      <td>8</td>\n",
       "      <td>0.81</td>\n",
       "      <td>29</td>\n",
       "      <td>-1.034593</td>\n",
       "      <td>0.755263</td>\n",
       "      <td>-1.090557</td>\n",
       "      <td>0.796117</td>\n",
       "      <td>-1.090557</td>\n",
       "      <td>0.796117</td>\n",
       "    </tr>\n",
       "    <tr>\n",
       "      <td>9</td>\n",
       "      <td>1.00</td>\n",
       "      <td>30</td>\n",
       "      <td>2.036856</td>\n",
       "      <td>1.007018</td>\n",
       "      <td>2.147034</td>\n",
       "      <td>1.061490</td>\n",
       "      <td>2.147034</td>\n",
       "      <td>1.061490</td>\n",
       "    </tr>\n",
       "  </tbody>\n",
       "</table>\n",
       "</div>"
      ],
      "text/plain": [
       "     TB  BB   Z TB PD   Z BB PD   Z TB NP   Z BB NP  Z TB SKL  Z BB SKL\n",
       "0  0.80  20 -1.196248 -1.510526 -1.260957 -1.592235 -1.260957 -1.592235\n",
       "1  0.85  25 -0.387972 -0.251754 -0.408959 -0.265372 -0.408959 -0.265372\n",
       "2  0.92  21  0.743614 -1.258772  0.783838 -1.326862  0.783838 -1.326862\n",
       "3  0.88  29  0.096993  0.755263  0.102240  0.796117  0.102240  0.796117\n",
       "4  0.82  30 -0.872938  1.007018 -0.920158  1.061490 -0.920158  1.061490\n",
       "5  0.86  21 -0.226317 -1.258772 -0.238559 -1.326862 -0.238559 -1.326862\n",
       "6  0.87  28 -0.064662  0.503509 -0.068160  0.530745 -0.068160  0.530745\n",
       "7  0.93  27  0.905269  0.251754  0.954237  0.265372  0.954237  0.265372\n",
       "8  0.81  29 -1.034593  0.755263 -1.090557  0.796117 -1.090557  0.796117\n",
       "9  1.00  30  2.036856  1.007018  2.147034  1.061490  2.147034  1.061490"
      ]
     },
     "execution_count": 80,
     "metadata": {},
     "output_type": "execute_result"
    }
   ],
   "source": [
    "df['Z TB SKL'] = z[:,0]\n",
    "df['Z BB SKL'] = z[:,1]\n",
    "df"
   ]
  },
  {
   "cell_type": "markdown",
   "metadata": {},
   "source": [
    "### Inverse Transform"
   ]
  },
  {
   "cell_type": "code",
   "execution_count": 81,
   "metadata": {},
   "outputs": [
    {
     "name": "stdout",
     "output_type": "stream",
     "text": [
      "[[ 0.8  20.  ]\n",
      " [ 0.85 25.  ]\n",
      " [ 0.92 21.  ]\n",
      " [ 0.88 29.  ]\n",
      " [ 0.82 30.  ]\n",
      " [ 0.86 21.  ]\n",
      " [ 0.87 28.  ]\n",
      " [ 0.93 27.  ]\n",
      " [ 0.81 29.  ]\n",
      " [ 1.   30.  ]]\n"
     ]
    }
   ],
   "source": [
    "inv = scaler.inverse_transform(df[['Z TB SKL', 'Z BB SKL']])\n",
    "print(inv)"
   ]
  }
 ],
 "metadata": {
  "kernelspec": {
   "display_name": "Python 3",
   "language": "python",
   "name": "python3"
  },
  "language_info": {
   "codemirror_mode": {
    "name": "ipython",
    "version": 3
   },
   "file_extension": ".py",
   "mimetype": "text/x-python",
   "name": "python",
   "nbconvert_exporter": "python",
   "pygments_lexer": "ipython3",
   "version": "3.7.4"
  }
 },
 "nbformat": 4,
 "nbformat_minor": 4
}
