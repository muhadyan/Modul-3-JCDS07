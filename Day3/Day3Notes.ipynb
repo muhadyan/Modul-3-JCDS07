{
 "cells": [
  {
   "cell_type": "markdown",
   "metadata": {},
   "source": [
    "# I. Create Latex"
   ]
  },
  {
   "cell_type": "markdown",
   "metadata": {},
   "source": [
    "Intercept $\\displaystyle c = \\frac {(\\sum y) (\\sum x^2) - (\\sum x)(\\sum xy)} {n(\\sum x^2) - (\\sum x)^2}$"
   ]
  },
  {
   "cell_type": "markdown",
   "metadata": {},
   "source": [
    "Prediction $\\displaystyle \\hat{y} = mx + c$"
   ]
  },
  {
   "cell_type": "markdown",
   "metadata": {},
   "source": [
    "# II. Multivariate Simple Linear Regression\n",
    "$\\displaystyle \\hat{y} = m_0 x_0 + m_1 x_1 + m_2 x_2 + ... + c$"
   ]
  },
  {
   "cell_type": "code",
   "execution_count": 41,
   "metadata": {},
   "outputs": [],
   "source": [
    "import pandas as pd\n",
    "import numpy as np\n",
    "import matplotlib.pyplot as plt\n",
    "from sklearn.linear_model import LinearRegression"
   ]
  },
  {
   "cell_type": "code",
   "execution_count": 42,
   "metadata": {},
   "outputs": [
    {
     "data": {
      "text/html": [
       "<div>\n",
       "<style scoped>\n",
       "    .dataframe tbody tr th:only-of-type {\n",
       "        vertical-align: middle;\n",
       "    }\n",
       "\n",
       "    .dataframe tbody tr th {\n",
       "        vertical-align: top;\n",
       "    }\n",
       "\n",
       "    .dataframe thead th {\n",
       "        text-align: right;\n",
       "    }\n",
       "</style>\n",
       "<table border=\"1\" class=\"dataframe\">\n",
       "  <thead>\n",
       "    <tr style=\"text-align: right;\">\n",
       "      <th></th>\n",
       "      <th>mesin x1</th>\n",
       "      <th>usia x2</th>\n",
       "      <th>km x3</th>\n",
       "      <th>harga y</th>\n",
       "    </tr>\n",
       "  </thead>\n",
       "  <tbody>\n",
       "    <tr>\n",
       "      <td>0</td>\n",
       "      <td>112</td>\n",
       "      <td>5</td>\n",
       "      <td>8</td>\n",
       "      <td>100</td>\n",
       "    </tr>\n",
       "    <tr>\n",
       "      <td>1</td>\n",
       "      <td>250</td>\n",
       "      <td>3</td>\n",
       "      <td>7</td>\n",
       "      <td>200</td>\n",
       "    </tr>\n",
       "    <tr>\n",
       "      <td>2</td>\n",
       "      <td>360</td>\n",
       "      <td>3</td>\n",
       "      <td>7</td>\n",
       "      <td>300</td>\n",
       "    </tr>\n",
       "    <tr>\n",
       "      <td>3</td>\n",
       "      <td>450</td>\n",
       "      <td>1</td>\n",
       "      <td>5</td>\n",
       "      <td>400</td>\n",
       "    </tr>\n",
       "    <tr>\n",
       "      <td>4</td>\n",
       "      <td>600</td>\n",
       "      <td>1</td>\n",
       "      <td>4</td>\n",
       "      <td>500</td>\n",
       "    </tr>\n",
       "  </tbody>\n",
       "</table>\n",
       "</div>"
      ],
      "text/plain": [
       "   mesin x1  usia x2  km x3  harga y\n",
       "0       112        5      8      100\n",
       "1       250        3      7      200\n",
       "2       360        3      7      300\n",
       "3       450        1      5      400\n",
       "4       600        1      4      500"
      ]
     },
     "execution_count": 42,
     "metadata": {},
     "output_type": "execute_result"
    }
   ],
   "source": [
    "data = {\n",
    "    'mesin x1': [112, 250, 360, 450, 600],\n",
    "    'usia x2': [5, 3, 3, 1, 1],\n",
    "    'km x3': [8, 7, 7, 5, 4],\n",
    "    'harga y': [100, 200, 300, 400, 500]\n",
    "}\n",
    "df = pd.DataFrame(data)\n",
    "df"
   ]
  },
  {
   "cell_type": "code",
   "execution_count": 43,
   "metadata": {},
   "outputs": [
    {
     "data": {
      "image/png": "[encoded data removed]",
      "text/plain": [
       "<Figure size 1080x216 with 3 Axes>"
      ]
     },
     "metadata": {
      "needs_background": "light"
     },
     "output_type": "display_data"
    }
   ],
   "source": [
    "plt.figure(figsize=(15,3))\n",
    "plt.subplot(131)\n",
    "plt.plot(df['mesin x1'], df['harga y'], 'ro-')\n",
    "plt.subplot(132)\n",
    "plt.plot(df['usia x2'], df['harga y'], 'go-')\n",
    "plt.subplot(133)\n",
    "plt.plot(df['km x3'], df['harga y'], 'bo-')\n",
    "plt.show()"
   ]
  },
  {
   "cell_type": "code",
   "execution_count": 44,
   "metadata": {},
   "outputs": [
    {
     "data": {
      "text/html": [
       "<div>\n",
       "<style scoped>\n",
       "    .dataframe tbody tr th:only-of-type {\n",
       "        vertical-align: middle;\n",
       "    }\n",
       "\n",
       "    .dataframe tbody tr th {\n",
       "        vertical-align: top;\n",
       "    }\n",
       "\n",
       "    .dataframe thead th {\n",
       "        text-align: right;\n",
       "    }\n",
       "</style>\n",
       "<table border=\"1\" class=\"dataframe\">\n",
       "  <thead>\n",
       "    <tr style=\"text-align: right;\">\n",
       "      <th></th>\n",
       "      <th>mesin x1</th>\n",
       "      <th>usia x2</th>\n",
       "      <th>km x3</th>\n",
       "      <th>harga y</th>\n",
       "    </tr>\n",
       "  </thead>\n",
       "  <tbody>\n",
       "    <tr>\n",
       "      <td>mesin x1</td>\n",
       "      <td>1.000000</td>\n",
       "      <td>-0.934973</td>\n",
       "      <td>-0.954740</td>\n",
       "      <td>0.996942</td>\n",
       "    </tr>\n",
       "    <tr>\n",
       "      <td>usia x2</td>\n",
       "      <td>-0.934973</td>\n",
       "      <td>1.000000</td>\n",
       "      <td>0.945611</td>\n",
       "      <td>-0.944911</td>\n",
       "    </tr>\n",
       "    <tr>\n",
       "      <td>km x3</td>\n",
       "      <td>-0.954740</td>\n",
       "      <td>0.945611</td>\n",
       "      <td>1.000000</td>\n",
       "      <td>-0.962250</td>\n",
       "    </tr>\n",
       "    <tr>\n",
       "      <td>harga y</td>\n",
       "      <td>0.996942</td>\n",
       "      <td>-0.944911</td>\n",
       "      <td>-0.962250</td>\n",
       "      <td>1.000000</td>\n",
       "    </tr>\n",
       "  </tbody>\n",
       "</table>\n",
       "</div>"
      ],
      "text/plain": [
       "          mesin x1   usia x2     km x3   harga y\n",
       "mesin x1  1.000000 -0.934973 -0.954740  0.996942\n",
       "usia x2  -0.934973  1.000000  0.945611 -0.944911\n",
       "km x3    -0.954740  0.945611  1.000000 -0.962250\n",
       "harga y   0.996942 -0.944911 -0.962250  1.000000"
      ]
     },
     "execution_count": 44,
     "metadata": {},
     "output_type": "execute_result"
    }
   ],
   "source": [
    "df.corr()"
   ]
  },
  {
   "cell_type": "code",
   "execution_count": 45,
   "metadata": {},
   "outputs": [
    {
     "name": "stdout",
     "output_type": "stream",
     "text": [
      "[ 0.72827725 -6.57960824 -7.33299849]\n",
      "104.4701155198394\n"
     ]
    }
   ],
   "source": [
    "model = LinearRegression()\n",
    "model.fit(df[['mesin x1', 'usia x2', 'km x3']], df['harga y'])\n",
    "m = model.coef_\n",
    "c = model.intercept_\n",
    "print(m)\n",
    "print(c)"
   ]
  },
  {
   "cell_type": "code",
   "execution_count": 46,
   "metadata": {},
   "outputs": [
    {
     "data": {
      "text/html": [
       "<div>\n",
       "<style scoped>\n",
       "    .dataframe tbody tr th:only-of-type {\n",
       "        vertical-align: middle;\n",
       "    }\n",
       "\n",
       "    .dataframe tbody tr th {\n",
       "        vertical-align: top;\n",
       "    }\n",
       "\n",
       "    .dataframe thead th {\n",
       "        text-align: right;\n",
       "    }\n",
       "</style>\n",
       "<table border=\"1\" class=\"dataframe\">\n",
       "  <thead>\n",
       "    <tr style=\"text-align: right;\">\n",
       "      <th></th>\n",
       "      <th>mesin x1</th>\n",
       "      <th>usia x2</th>\n",
       "      <th>km x3</th>\n",
       "      <th>harga y</th>\n",
       "      <th>harga ŷ</th>\n",
       "    </tr>\n",
       "  </thead>\n",
       "  <tbody>\n",
       "    <tr>\n",
       "      <td>0</td>\n",
       "      <td>112</td>\n",
       "      <td>5</td>\n",
       "      <td>8</td>\n",
       "      <td>100</td>\n",
       "      <td>94.475138</td>\n",
       "    </tr>\n",
       "    <tr>\n",
       "      <td>1</td>\n",
       "      <td>250</td>\n",
       "      <td>3</td>\n",
       "      <td>7</td>\n",
       "      <td>200</td>\n",
       "      <td>215.469613</td>\n",
       "    </tr>\n",
       "    <tr>\n",
       "      <td>2</td>\n",
       "      <td>360</td>\n",
       "      <td>3</td>\n",
       "      <td>7</td>\n",
       "      <td>300</td>\n",
       "      <td>295.580110</td>\n",
       "    </tr>\n",
       "    <tr>\n",
       "      <td>3</td>\n",
       "      <td>450</td>\n",
       "      <td>1</td>\n",
       "      <td>5</td>\n",
       "      <td>400</td>\n",
       "      <td>388.950276</td>\n",
       "    </tr>\n",
       "    <tr>\n",
       "      <td>4</td>\n",
       "      <td>600</td>\n",
       "      <td>1</td>\n",
       "      <td>4</td>\n",
       "      <td>500</td>\n",
       "      <td>505.524862</td>\n",
       "    </tr>\n",
       "  </tbody>\n",
       "</table>\n",
       "</div>"
      ],
      "text/plain": [
       "   mesin x1  usia x2  km x3  harga y     harga ŷ\n",
       "0       112        5      8      100   94.475138\n",
       "1       250        3      7      200  215.469613\n",
       "2       360        3      7      300  295.580110\n",
       "3       450        1      5      400  388.950276\n",
       "4       600        1      4      500  505.524862"
      ]
     },
     "execution_count": 46,
     "metadata": {},
     "output_type": "execute_result"
    }
   ],
   "source": [
    "df['harga ŷ'] = model.predict(df[['mesin x1', 'usia x2', 'km x3']])\n",
    "df"
   ]
  },
  {
   "cell_type": "code",
   "execution_count": 47,
   "metadata": {},
   "outputs": [
    {
     "data": {
      "image/png": "[encoded data removed]",
      "text/plain": [
       "<Figure size 1080x216 with 3 Axes>"
      ]
     },
     "metadata": {
      "needs_background": "light"
     },
     "output_type": "display_data"
    }
   ],
   "source": [
    "plt.figure(figsize=(15,3))\n",
    "plt.subplot(131)\n",
    "plt.plot(df['mesin x1'], df['harga y'], 'ro-')\n",
    "plt.plot(df['mesin x1'], df['harga ŷ'], 'yo-')\n",
    "plt.subplot(132)\n",
    "plt.plot(df['usia x2'], df['harga y'], 'go-')\n",
    "plt.plot(df['usia x2'], df['harga ŷ'], 'yo-')\n",
    "plt.subplot(133)\n",
    "plt.plot(df['km x3'], df['harga y'], 'bo-')\n",
    "plt.plot(df['km x3'], df['harga ŷ'], 'yo-')\n",
    "plt.show()"
   ]
  },
  {
   "cell_type": "markdown",
   "metadata": {},
   "source": [
    "## Cuma biar lurus:"
   ]
  },
  {
   "cell_type": "code",
   "execution_count": 49,
   "metadata": {},
   "outputs": [
    {
     "data": {
      "text/html": [
       "<div>\n",
       "<style scoped>\n",
       "    .dataframe tbody tr th:only-of-type {\n",
       "        vertical-align: middle;\n",
       "    }\n",
       "\n",
       "    .dataframe tbody tr th {\n",
       "        vertical-align: top;\n",
       "    }\n",
       "\n",
       "    .dataframe thead th {\n",
       "        text-align: right;\n",
       "    }\n",
       "</style>\n",
       "<table border=\"1\" class=\"dataframe\">\n",
       "  <thead>\n",
       "    <tr style=\"text-align: right;\">\n",
       "      <th></th>\n",
       "      <th>mesin x1</th>\n",
       "      <th>usia x2</th>\n",
       "      <th>km x3</th>\n",
       "      <th>harga y</th>\n",
       "      <th>harga ŷ</th>\n",
       "      <th>y\"mesin</th>\n",
       "      <th>y\"usia</th>\n",
       "      <th>y\"km</th>\n",
       "    </tr>\n",
       "  </thead>\n",
       "  <tbody>\n",
       "    <tr>\n",
       "      <td>0</td>\n",
       "      <td>112</td>\n",
       "      <td>5</td>\n",
       "      <td>8</td>\n",
       "      <td>100</td>\n",
       "      <td>94.475138</td>\n",
       "      <td>186.037167</td>\n",
       "      <td>71.572074</td>\n",
       "      <td>45.806128</td>\n",
       "    </tr>\n",
       "    <tr>\n",
       "      <td>1</td>\n",
       "      <td>250</td>\n",
       "      <td>3</td>\n",
       "      <td>7</td>\n",
       "      <td>200</td>\n",
       "      <td>215.469613</td>\n",
       "      <td>286.539427</td>\n",
       "      <td>84.731291</td>\n",
       "      <td>53.139126</td>\n",
       "    </tr>\n",
       "    <tr>\n",
       "      <td>2</td>\n",
       "      <td>360</td>\n",
       "      <td>3</td>\n",
       "      <td>7</td>\n",
       "      <td>300</td>\n",
       "      <td>295.580110</td>\n",
       "      <td>366.649925</td>\n",
       "      <td>84.731291</td>\n",
       "      <td>53.139126</td>\n",
       "    </tr>\n",
       "    <tr>\n",
       "      <td>3</td>\n",
       "      <td>450</td>\n",
       "      <td>1</td>\n",
       "      <td>5</td>\n",
       "      <td>400</td>\n",
       "      <td>388.950276</td>\n",
       "      <td>432.194877</td>\n",
       "      <td>97.890507</td>\n",
       "      <td>67.805123</td>\n",
       "    </tr>\n",
       "    <tr>\n",
       "      <td>4</td>\n",
       "      <td>600</td>\n",
       "      <td>1</td>\n",
       "      <td>4</td>\n",
       "      <td>500</td>\n",
       "      <td>505.524862</td>\n",
       "      <td>541.436464</td>\n",
       "      <td>97.890507</td>\n",
       "      <td>75.138122</td>\n",
       "    </tr>\n",
       "  </tbody>\n",
       "</table>\n",
       "</div>"
      ],
      "text/plain": [
       "   mesin x1  usia x2  km x3  harga y     harga ŷ     y\"mesin     y\"usia  \\\n",
       "0       112        5      8      100   94.475138  186.037167  71.572074   \n",
       "1       250        3      7      200  215.469613  286.539427  84.731291   \n",
       "2       360        3      7      300  295.580110  366.649925  84.731291   \n",
       "3       450        1      5      400  388.950276  432.194877  97.890507   \n",
       "4       600        1      4      500  505.524862  541.436464  97.890507   \n",
       "\n",
       "        y\"km  \n",
       "0  45.806128  \n",
       "1  53.139126  \n",
       "2  53.139126  \n",
       "3  67.805123  \n",
       "4  75.138122  "
      ]
     },
     "execution_count": 49,
     "metadata": {},
     "output_type": "execute_result"
    }
   ],
   "source": [
    "df['y\"mesin'] = m[0] * df['mesin x1'] + c\n",
    "df['y\"usia'] = m[1] * df['usia x2'] + c\n",
    "df['y\"km'] = m[2] * df['km x3'] + c\n",
    "df"
   ]
  },
  {
   "cell_type": "code",
   "execution_count": 50,
   "metadata": {},
   "outputs": [
    {
     "data": {
      "image/png": "[encoded data removed]",
      "text/plain": [
       "<Figure size 1080x216 with 3 Axes>"
      ]
     },
     "metadata": {
      "needs_background": "light"
     },
     "output_type": "display_data"
    }
   ],
   "source": [
    "plt.figure(figsize=(15,3))\n",
    "plt.subplot(131)\n",
    "plt.plot(df['mesin x1'], df['harga y'], 'ro-')\n",
    "plt.plot(df['mesin x1'], df['y\"mesin'], 'yo-')\n",
    "plt.subplot(132)\n",
    "plt.plot(df['usia x2'], df['harga y'], 'go-')\n",
    "plt.plot(df['usia x2'], df['y\"usia'], 'yo-')\n",
    "plt.subplot(133)\n",
    "plt.plot(df['km x3'], df['harga y'], 'bo-')\n",
    "plt.plot(df['km x3'], df['y\"km'], 'yo-')\n",
    "plt.show()"
   ]
  },
  {
   "cell_type": "markdown",
   "metadata": {},
   "source": [
    "## Evaluation Metrics"
   ]
  },
  {
   "cell_type": "code",
   "execution_count": 55,
   "metadata": {},
   "outputs": [],
   "source": [
    "from sklearn.metrics import mean_absolute_error, mean_squared_error, mean_squared_log_error, median_absolute_error\n",
    "from sklearn.metrics import r2_score"
   ]
  },
  {
   "cell_type": "code",
   "execution_count": 59,
   "metadata": {},
   "outputs": [
    {
     "name": "stdout",
     "output_type": "stream",
     "text": [
      "MAE: 8.397790055248624\n",
      "MSE: 88.39779005524889\n",
      "RMSE: 9.402009894445383\n",
      "MSLE: 0.0019563967494522416\n",
      "RMSLE: 0.04423117395516698\n",
      "MedAE: 5.5248618784530095\n",
      "R2 Score: 0.9955801104972376\n"
     ]
    }
   ],
   "source": [
    "print('MAE:', mean_absolute_error(df['harga y'], df['harga ŷ']))\n",
    "print('MSE:', mean_squared_error(df['harga y'], df['harga ŷ']))\n",
    "print('RMSE:', np.sqrt(mean_squared_error(df['harga y'], df['harga ŷ'])))\n",
    "print('MSLE:', mean_squared_log_error(df['harga y'], df['harga ŷ']))\n",
    "print('RMSLE:', np.sqrt(mean_squared_log_error(df['harga y'], df['harga ŷ'])))\n",
    "print('MedAE:', median_absolute_error(df['harga y'], df['harga ŷ']))\n",
    "print('R2 Score:', r2_score(df['harga y'], df['harga ŷ']))"
   ]
  }
 ],
 "metadata": {
  "kernelspec": {
   "display_name": "Python 3",
   "language": "python",
   "name": "python3"
  },
  "language_info": {
   "codemirror_mode": {
    "name": "ipython",
    "version": 3
   },
   "file_extension": ".py",
   "mimetype": "text/x-python",
   "name": "python",
   "nbconvert_exporter": "python",
   "pygments_lexer": "ipython3",
   "version": "3.7.4"
  }
 },
 "nbformat": 4,
 "nbformat_minor": 4
}
