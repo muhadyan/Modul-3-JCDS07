{
 "cells": [
  {
   "cell_type": "markdown",
   "metadata": {},
   "source": [
    "# PCA\n",
    "\n",
    "\n",
    "### Principal Component ANalysis\n",
    "\n",
    "ex : 4 ori feature => 2 principal component feature\n",
    "\n",
    "Fungsinya:\n",
    "- Visualisasi Data\n",
    "- Mempercepat proses training"
   ]
  },
  {
   "cell_type": "code",
   "execution_count": 22,
   "metadata": {},
   "outputs": [],
   "source": [
    "import pandas as pd\n",
    "import numpy as np\n",
    "import matplotlib.pyplot as plt\n",
    "from sklearn.datasets import load_iris\n",
    "from sklearn.preprocessing import StandardScaler"
   ]
  },
  {
   "cell_type": "code",
   "execution_count": 23,
   "metadata": {},
   "outputs": [
    {
     "data": {
      "text/plain": [
       "['DESCR', 'data', 'feature_names', 'filename', 'target', 'target_names']"
      ]
     },
     "execution_count": 23,
     "metadata": {},
     "output_type": "execute_result"
    }
   ],
   "source": [
    "dataIris = load_iris()\n",
    "dir(dataIris)"
   ]
  },
  {
   "cell_type": "code",
   "execution_count": 24,
   "metadata": {},
   "outputs": [
    {
     "data": {
      "text/html": [
       "<div>\n",
       "<style scoped>\n",
       "    .dataframe tbody tr th:only-of-type {\n",
       "        vertical-align: middle;\n",
       "    }\n",
       "\n",
       "    .dataframe tbody tr th {\n",
       "        vertical-align: top;\n",
       "    }\n",
       "\n",
       "    .dataframe thead th {\n",
       "        text-align: right;\n",
       "    }\n",
       "</style>\n",
       "<table border=\"1\" class=\"dataframe\">\n",
       "  <thead>\n",
       "    <tr style=\"text-align: right;\">\n",
       "      <th></th>\n",
       "      <th>SL</th>\n",
       "      <th>SW</th>\n",
       "      <th>PL</th>\n",
       "      <th>PW</th>\n",
       "      <th>target</th>\n",
       "      <th>spesies</th>\n",
       "    </tr>\n",
       "  </thead>\n",
       "  <tbody>\n",
       "    <tr>\n",
       "      <td>0</td>\n",
       "      <td>5.1</td>\n",
       "      <td>3.5</td>\n",
       "      <td>1.4</td>\n",
       "      <td>0.2</td>\n",
       "      <td>0</td>\n",
       "      <td>setosa</td>\n",
       "    </tr>\n",
       "    <tr>\n",
       "      <td>1</td>\n",
       "      <td>4.9</td>\n",
       "      <td>3.0</td>\n",
       "      <td>1.4</td>\n",
       "      <td>0.2</td>\n",
       "      <td>0</td>\n",
       "      <td>setosa</td>\n",
       "    </tr>\n",
       "    <tr>\n",
       "      <td>2</td>\n",
       "      <td>4.7</td>\n",
       "      <td>3.2</td>\n",
       "      <td>1.3</td>\n",
       "      <td>0.2</td>\n",
       "      <td>0</td>\n",
       "      <td>setosa</td>\n",
       "    </tr>\n",
       "    <tr>\n",
       "      <td>3</td>\n",
       "      <td>4.6</td>\n",
       "      <td>3.1</td>\n",
       "      <td>1.5</td>\n",
       "      <td>0.2</td>\n",
       "      <td>0</td>\n",
       "      <td>setosa</td>\n",
       "    </tr>\n",
       "    <tr>\n",
       "      <td>4</td>\n",
       "      <td>5.0</td>\n",
       "      <td>3.6</td>\n",
       "      <td>1.4</td>\n",
       "      <td>0.2</td>\n",
       "      <td>0</td>\n",
       "      <td>setosa</td>\n",
       "    </tr>\n",
       "  </tbody>\n",
       "</table>\n",
       "</div>"
      ],
      "text/plain": [
       "    SL   SW   PL   PW  target spesies\n",
       "0  5.1  3.5  1.4  0.2       0  setosa\n",
       "1  4.9  3.0  1.4  0.2       0  setosa\n",
       "2  4.7  3.2  1.3  0.2       0  setosa\n",
       "3  4.6  3.1  1.5  0.2       0  setosa\n",
       "4  5.0  3.6  1.4  0.2       0  setosa"
      ]
     },
     "execution_count": 24,
     "metadata": {},
     "output_type": "execute_result"
    }
   ],
   "source": [
    "df = pd.DataFrame(\n",
    "    dataIris['data'],\n",
    "    columns= ['SL', 'SW', 'PL', 'PW']\n",
    ")\n",
    "df['target'] = dataIris['target']\n",
    "df['spesies'] = df['target'].apply(\n",
    "    lambda x: dataIris['target_names'][x]\n",
    ")\n",
    "df.head()"
   ]
  },
  {
   "cell_type": "markdown",
   "metadata": {},
   "source": [
    "### 1. PCA with Sklearn"
   ]
  },
  {
   "cell_type": "code",
   "execution_count": 25,
   "metadata": {},
   "outputs": [
    {
     "data": {
      "text/plain": [
       "(150, 4)"
      ]
     },
     "execution_count": 25,
     "metadata": {},
     "output_type": "execute_result"
    }
   ],
   "source": [
    "# Standardize\n",
    "scaler = StandardScaler()\n",
    "scaler.fit(df[['SL', 'SW', 'PL', 'PW']])\n",
    "xstd = scaler.transform(df[['SL', 'SW', 'PL', 'PW']])\n",
    "xstd.shape"
   ]
  },
  {
   "cell_type": "code",
   "execution_count": 26,
   "metadata": {},
   "outputs": [],
   "source": [
    "# pca\n",
    "from sklearn.decomposition import PCA\n",
    "pca = PCA(n_components=2)"
   ]
  },
  {
   "cell_type": "code",
   "execution_count": 27,
   "metadata": {},
   "outputs": [
    {
     "data": {
      "text/html": [
       "<div>\n",
       "<style scoped>\n",
       "    .dataframe tbody tr th:only-of-type {\n",
       "        vertical-align: middle;\n",
       "    }\n",
       "\n",
       "    .dataframe tbody tr th {\n",
       "        vertical-align: top;\n",
       "    }\n",
       "\n",
       "    .dataframe thead th {\n",
       "        text-align: right;\n",
       "    }\n",
       "</style>\n",
       "<table border=\"1\" class=\"dataframe\">\n",
       "  <thead>\n",
       "    <tr style=\"text-align: right;\">\n",
       "      <th></th>\n",
       "      <th>PC1</th>\n",
       "      <th>PC2</th>\n",
       "      <th>target</th>\n",
       "    </tr>\n",
       "  </thead>\n",
       "  <tbody>\n",
       "    <tr>\n",
       "      <td>0</td>\n",
       "      <td>-2.264703</td>\n",
       "      <td>0.480027</td>\n",
       "      <td>0</td>\n",
       "    </tr>\n",
       "    <tr>\n",
       "      <td>1</td>\n",
       "      <td>-2.080961</td>\n",
       "      <td>-0.674134</td>\n",
       "      <td>0</td>\n",
       "    </tr>\n",
       "    <tr>\n",
       "      <td>2</td>\n",
       "      <td>-2.364229</td>\n",
       "      <td>-0.341908</td>\n",
       "      <td>0</td>\n",
       "    </tr>\n",
       "    <tr>\n",
       "      <td>3</td>\n",
       "      <td>-2.299384</td>\n",
       "      <td>-0.597395</td>\n",
       "      <td>0</td>\n",
       "    </tr>\n",
       "    <tr>\n",
       "      <td>4</td>\n",
       "      <td>-2.389842</td>\n",
       "      <td>0.646835</td>\n",
       "      <td>0</td>\n",
       "    </tr>\n",
       "  </tbody>\n",
       "</table>\n",
       "</div>"
      ],
      "text/plain": [
       "        PC1       PC2  target\n",
       "0 -2.264703  0.480027       0\n",
       "1 -2.080961 -0.674134       0\n",
       "2 -2.364229 -0.341908       0\n",
       "3 -2.299384 -0.597395       0\n",
       "4 -2.389842  0.646835       0"
      ]
     },
     "execution_count": 27,
     "metadata": {},
     "output_type": "execute_result"
    }
   ],
   "source": [
    "xpca = pca.fit_transform(xstd)\n",
    "df2 = pd.DataFrame(xpca, columns=['PC1', 'PC2'])\n",
    "df2['target'] = df['target']\n",
    "df2.head()"
   ]
  },
  {
   "cell_type": "code",
   "execution_count": 28,
   "metadata": {},
   "outputs": [
    {
     "data": {
      "text/plain": [
       "array([0.72962445, 0.22850762])"
      ]
     },
     "execution_count": 28,
     "metadata": {},
     "output_type": "execute_result"
    }
   ],
   "source": [
    "pca.explained_variance_ratio_"
   ]
  },
  {
   "cell_type": "markdown",
   "metadata": {},
   "source": [
    "- PC1 = 72,96% variance (informasi) dari dataset\n",
    "- PC2 = 22,85% variance (informasi) dari dataset\n",
    "- PC1 + PC2 = 72, 96% + 22,85% = 95~%"
   ]
  },
  {
   "cell_type": "code",
   "execution_count": 29,
   "metadata": {},
   "outputs": [
    {
     "data": {
      "text/plain": [
       "[<matplotlib.lines.Line2D at 0x1627f076488>]"
      ]
     },
     "execution_count": 29,
     "metadata": {},
     "output_type": "execute_result"
    },
    {
     "data": {
      "image/png": "[encoded data removed]",
      "text/plain": [
       "<Figure size 432x288 with 1 Axes>"
      ]
     },
     "metadata": {
      "needs_background": "light"
     },
     "output_type": "display_data"
    }
   ],
   "source": [
    "plt.plot(df2['PC1'][df2['target'] == 0], df2['PC2'][df2['target'] == 0], 'r.')\n",
    "plt.plot(df2['PC1'][df2['target'] == 1], df2['PC2'][df2['target'] == 1], 'g.')\n",
    "plt.plot(df2['PC1'][df2['target'] == 2], df2['PC2'][df2['target'] == 2], 'b.')"
   ]
  },
  {
   "cell_type": "code",
   "execution_count": 30,
   "metadata": {},
   "outputs": [],
   "source": [
    "xstd2 = pca.inverse_transform(xpca)"
   ]
  },
  {
   "cell_type": "code",
   "execution_count": 33,
   "metadata": {},
   "outputs": [
    {
     "data": {
      "text/plain": [
       "array([[5.01894899, 3.51485426, 1.46601281, 0.25192199],\n",
       "       [4.73846304, 3.03043329, 1.60391283, 0.27207352],\n",
       "       [4.72013023, 3.19683002, 1.3289608 , 0.16741379],\n",
       "       [4.66843611, 3.08676967, 1.38417005, 0.18224698],\n",
       "       [5.01709266, 3.5964018 , 1.34541075, 0.20670563],\n",
       "       [5.41459038, 3.89749154, 1.70257439, 0.38437671],\n",
       "       [4.80715241, 3.3624126 , 1.26425682, 0.15298113],\n",
       "       [4.95263473, 3.40809557, 1.48747414, 0.25252816],\n",
       "       [4.49194713, 2.88315723, 1.32584895, 0.14077825],\n",
       "       [4.7579029 , 3.12479954, 1.50719513, 0.23814838],\n",
       "       [5.23683335, 3.72942146, 1.59077823, 0.32280933],\n",
       "       [4.88446413, 3.38288441, 1.38833341, 0.20791797],\n",
       "       [4.66234834, 3.02464414, 1.46116062, 0.2103005 ],\n",
       "       [4.41151103, 2.97977531, 1.02769524, 0.02052641],\n",
       "       [5.47717153, 4.0606523 , 1.59283856, 0.35040943],\n",
       "       [5.70723141, 4.39947056, 1.56362285, 0.36518973],\n",
       "       [5.35610979, 3.91069814, 1.56758271, 0.32746861],\n",
       "       [5.05366832, 3.50968866, 1.5423207 , 0.2842764 ],\n",
       "       [5.46451813, 3.84301912, 1.8797572 , 0.45607586],\n",
       "       [5.18690559, 3.78389389, 1.41359542, 0.25111018],\n",
       "       [5.14745652, 3.44531129, 1.82074727, 0.39865662],\n",
       "       [5.18208588, 3.68622599, 1.54406104, 0.29926234],\n",
       "       [4.79303057, 3.56578938, 0.94464178, 0.03212312],\n",
       "       [5.08788933, 3.30444793, 1.90449571, 0.4232618 ],\n",
       "       [4.92832457, 3.37297946, 1.48957717, 0.25059905],\n",
       "       [4.80909871, 3.03478475, 1.737853  , 0.32994617],\n",
       "       [5.03669353, 3.39446271, 1.67383784, 0.33146401],\n",
       "       [5.07496452, 3.52250737, 1.56620505, 0.29556762],\n",
       "       [5.02080533, 3.43330672, 1.58661487, 0.29713834],\n",
       "       [4.76399067, 3.18692507, 1.43020456, 0.21009486],\n",
       "       [4.765847  , 3.10537753, 1.55080661, 0.25531122],\n",
       "       [5.18765488, 3.44158338, 1.90586722, 0.4349114 ],\n",
       "       [5.27747944, 4.08268672, 1.16495076, 0.16842671],\n",
       "       [5.46130378, 4.20618932, 1.35268597, 0.25901217],\n",
       "       [4.79262223, 3.11963394, 1.58350302, 0.2705028 ],\n",
       "       [4.8296962 , 3.23299593, 1.49454585, 0.24144258],\n",
       "       [5.16991035, 3.56197493, 1.69804218, 0.35536938],\n",
       "       [4.94097796, 3.59061265, 1.20265854, 0.14493262],\n",
       "       [4.51686602, 2.97896117, 1.23794329, 0.11075347],\n",
       "       [4.9940301 , 3.41905032, 1.55391846, 0.28194676],\n",
       "       [4.9976528 , 3.50203555, 1.44212846, 0.24063077],\n",
       "       [4.31620743, 2.33723428, 1.75979965, 0.28311073],\n",
       "       [4.5959441 , 3.16396575, 1.12962783, 0.07915798],\n",
       "       [5.14567122, 3.4766338 , 1.77229589, 0.38037509],\n",
       "       [5.28010551, 3.76552169, 1.62489499, 0.3403727 ],\n",
       "       [4.73178699, 3.01431294, 1.6137764 , 0.27500933],\n",
       "       [5.16680641, 3.78575784, 1.37103545, 0.23298279],\n",
       "       [4.693355  , 3.18257361, 1.29626439, 0.15222221],\n",
       "       [5.19543797, 3.71846671, 1.52433391, 0.29339072],\n",
       "       [4.89847554, 3.31889492, 1.50788395, 0.25409888],\n",
       "       [6.58594077, 3.27454609, 4.92030422, 1.7160135 ],\n",
       "       [6.34304755, 3.21025526, 4.53045033, 1.54340224],\n",
       "       [6.56896597, 3.15932015, 5.05182136, 1.76320111],\n",
       "       [5.47209842, 2.30598129, 4.09851564, 1.28497058],\n",
       "       [6.24090691, 2.8478992 , 4.84727351, 1.65023886],\n",
       "       [5.82568511, 2.77389401, 4.12935522, 1.33595417],\n",
       "       [6.40515084, 3.2800339 , 4.553652  , 1.55899435],\n",
       "       [5.0567662 , 2.3713634 , 3.18053285, 0.89600879],\n",
       "       [6.25240267, 2.96168745, 4.70694431, 1.59915089],\n",
       "       [5.52616764, 2.64126224, 3.7251117 , 1.15165116],\n",
       "       [4.96924571, 2.00570569, 3.53110395, 1.01707244],\n",
       "       [6.01313215, 2.98038185, 4.20530042, 1.38522364],\n",
       "       [5.53537827, 2.28374958, 4.25597132, 1.35079811],\n",
       "       [6.09476527, 2.89844643, 4.48477851, 1.49863931],\n",
       "       [5.69224745, 2.88515639, 3.70502188, 1.1626946 ],\n",
       "       [6.37835516, 3.15908448, 4.67388522, 1.60087436],\n",
       "       [5.93280647, 2.93761264, 4.10721121, 1.3396489 ],\n",
       "       [5.66490288, 2.72104988, 3.88604192, 1.22719919],\n",
       "       [5.86486639, 2.26332283, 4.93913902, 1.64254251],\n",
       "       [5.50851308, 2.51557348, 3.87028079, 1.20385784],\n",
       "       [6.2840891 , 3.13007974, 4.52839614, 1.53605353],\n",
       "       [5.91816587, 2.83422128, 4.22639291, 1.38249347],\n",
       "       [6.08335948, 2.53857787, 4.97810182, 1.68147597],\n",
       "       [5.98578758, 2.81627534, 4.38632046, 1.44972823],\n",
       "       [6.12575148, 2.94968289, 4.47281191, 1.49763261],\n",
       "       [6.29742074, 3.05562744, 4.66159863, 1.58725351],\n",
       "       [6.359614  , 2.87932577, 5.03779443, 1.73459431],\n",
       "       [6.53069498, 3.03127549, 5.15945415, 1.7990975 ],\n",
       "       [6.05884893, 2.88892937, 4.42714624, 1.47312107],\n",
       "       [5.49624758, 2.63740272, 3.67126781, 1.12821618],\n",
       "       [5.41295851, 2.41541808, 3.82424628, 1.17600996],\n",
       "       [5.36361904, 2.42388533, 3.71419047, 1.12942852],\n",
       "       [5.70510124, 2.71732197, 3.97116186, 1.26345396],\n",
       "       [6.10221106, 2.67894929, 4.81425712, 1.62243313],\n",
       "       [5.85001573, 2.91570313, 3.97432256, 1.28081169],\n",
       "       [6.29126346, 3.34627522, 4.23266546, 1.42648674],\n",
       "       [6.45693493, 3.14401393, 4.85143687, 1.67590985],\n",
       "       [5.86174201, 2.38041273, 4.76506191, 1.57722752],\n",
       "       [5.80488723, 2.96115044, 3.81960374, 1.21803197],\n",
       "       [5.5511765 , 2.49098587, 3.99020017, 1.25337508],\n",
       "       [5.61447681, 2.57544717, 3.99472623, 1.26213102],\n",
       "       [6.11968417, 2.99425037, 4.39687285, 1.46861453],\n",
       "       [5.68018234, 2.62151803, 4.05906752, 1.29347874],\n",
       "       [5.05862254, 2.28981586, 3.30113491, 0.94122514],\n",
       "       [5.70089026, 2.68034191, 4.01582487, 1.27965224],\n",
       "       [5.82618343, 2.97396915, 3.8434881 , 1.22932319],\n",
       "       [5.82136371, 2.87630125, 3.97395372, 1.27747535],\n",
       "       [6.04296073, 2.92777338, 4.33992326, 1.4387954 ],\n",
       "       [5.16995488, 2.49051455, 3.23432789, 0.92872159],\n",
       "       [5.76720452, 2.78710061, 3.99436354, 1.27904607],\n",
       "       [6.90768669, 3.19062205, 5.67914599, 2.0351354 ],\n",
       "       [6.12357829, 2.64154297, 4.91029214, 1.66065916],\n",
       "       [6.96673511, 3.02471726, 6.03419429, 2.1742328 ],\n",
       "       [6.44801465, 2.86997869, 5.22663   , 1.81493739],\n",
       "       [6.73846204, 2.95712478, 5.67808832, 2.01584856],\n",
       "       [7.27605302, 3.0563795 , 6.60265135, 2.42091499],\n",
       "       [5.5147823 , 2.3880867 , 4.06550539, 1.27741624],\n",
       "       [6.96430943, 2.95641469, 6.12730868, 2.20871261],\n",
       "       [6.48468028, 2.53718524, 5.77653407, 2.02425685],\n",
       "       [7.41348233, 3.56342007, 6.14841962, 2.26673662],\n",
       "       [6.64576044, 3.17557211, 5.18092163, 1.81995506],\n",
       "       [6.40119083, 2.7006682 , 5.37645392, 1.86562483],\n",
       "       [6.7840684 , 3.0050596 , 5.69986964, 2.02906888],\n",
       "       [6.02320401, 2.44371968, 4.99472326, 1.68096344],\n",
       "       [6.33671396, 2.70821726, 5.23767387, 1.80663348],\n",
       "       [6.73776334, 3.14251726, 5.41089682, 1.91605375],\n",
       "       [6.5557243 , 2.98769214, 5.27161299, 1.84374983],\n",
       "       [7.68310019, 3.79888534, 6.34588961, 2.37053305],\n",
       "       [7.27259132, 2.67708893, 7.13958615, 2.62091449],\n",
       "       [5.85517638, 2.22490508, 4.97498997, 1.65484043],\n",
       "       [7.0032208 , 3.18408443, 5.87811012, 2.12005487],\n",
       "       [6.08580561, 2.71357345, 4.73205781, 1.58992456],\n",
       "       [7.21827113, 2.88419362, 6.73485117, 2.46380171],\n",
       "       [6.26659554, 2.70808565, 5.09871003, 1.74694372],\n",
       "       [6.89053044, 3.26500842, 5.53844795, 1.98071108],\n",
       "       [6.99767074, 3.23287176, 5.79714739, 2.08921969],\n",
       "       [6.25011906, 2.79293483, 4.94436005, 1.68750034],\n",
       "       [6.30242191, 2.96368301, 4.80334818, 1.64071326],\n",
       "       [6.55402897, 2.77293435, 5.57615573, 1.95721699],\n",
       "       [6.81991371, 3.06480168, 5.68535124, 2.02765231],\n",
       "       [6.97164479, 2.87630485, 6.25672279, 2.25782933],\n",
       "       [7.65259185, 3.84103099, 6.22491872, 2.32198036],\n",
       "       [6.58874829, 2.76776874, 5.65246362, 1.9895714 ],\n",
       "       [6.2312169 , 2.80948145, 4.88312446, 1.66253678],\n",
       "       [6.10772948, 2.59122471, 4.95098299, 1.67407578],\n",
       "       [7.31378631, 3.07351129, 6.65297185, 2.4439073 ],\n",
       "       [6.85402582, 3.30149654, 5.41368868, 1.93007514],\n",
       "       [6.55386796, 3.06923968, 5.15101094, 1.79853348],\n",
       "       [6.24640639, 2.95602991, 4.70315594, 1.59706763],\n",
       "       [6.85038267, 3.11181829, 5.67840831, 2.02846271],\n",
       "       [6.90099019, 3.06780868, 5.84193918, 2.0951428 ],\n",
       "       [6.87596088, 3.11139203, 5.72978033, 2.05049047],\n",
       "       [6.12357829, 2.64154297, 4.91029214, 1.66065916],\n",
       "       [6.99106572, 3.16652638, 5.87916163, 2.11909031],\n",
       "       [7.02940775, 3.24434601, 5.84367952, 2.11012874],\n",
       "       [6.76825124, 2.99367858, 5.68479734, 2.02167803],\n",
       "       [6.23685693, 2.51461381, 5.31708131, 1.82512065],\n",
       "       [6.58130251, 2.98726588, 5.32298502, 1.86577758],\n",
       "       [6.74867082, 3.30231068, 5.20344062, 1.83984807],\n",
       "       [6.24887146, 2.93517021, 4.73795537, 1.6103301 ]])"
      ]
     },
     "execution_count": 33,
     "metadata": {},
     "output_type": "execute_result"
    }
   ],
   "source": [
    "scaler.inverse_transform(xstd2)"
   ]
  }
 ],
 "metadata": {
  "kernelspec": {
   "display_name": "Python 3",
   "language": "python",
   "name": "python3"
  },
  "language_info": {
   "codemirror_mode": {
    "name": "ipython",
    "version": 3
   },
   "file_extension": ".py",
   "mimetype": "text/x-python",
   "name": "python",
   "nbconvert_exporter": "python",
   "pygments_lexer": "ipython3",
   "version": "3.7.4"
  }
 },
 "nbformat": 4,
 "nbformat_minor": 4
}
