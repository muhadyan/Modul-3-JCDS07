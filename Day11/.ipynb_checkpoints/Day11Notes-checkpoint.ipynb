{
 "cells": [
  {
   "cell_type": "markdown",
   "metadata": {},
   "source": [
    "### Confusion Matrix"
   ]
  },
  {
   "cell_type": "code",
   "execution_count": 2,
   "metadata": {},
   "outputs": [],
   "source": [
    "import pandas as pd\n",
    "import numpy as np\n",
    "import matplotlib.pyplot as plt\n",
    "import seaborn as sb\n",
    "from sklearn.linear_model import LogisticRegression"
   ]
  },
  {
   "cell_type": "code",
   "execution_count": 3,
   "metadata": {},
   "outputs": [],
   "source": [
    "# ya = y aktual & yp = y prediksi\n",
    "ya = [0,0,0,0,0,1,1,1,1,1]\n",
    "yp = [0,0,0,1,1,0,0,1,1,1]"
   ]
  },
  {
   "cell_type": "markdown",
   "metadata": {},
   "source": [
    "- | Prediksi 0 | Prediksi 1\n",
    "- | - | -\n",
    "__Actual 0__ | 3 | 2\n",
    "__Actual 1__ | 2 | 3"
   ]
  },
  {
   "cell_type": "code",
   "execution_count": 4,
   "metadata": {},
   "outputs": [
    {
     "data": {
      "text/plain": [
       "array([[3, 2],\n",
       "       [2, 3]], dtype=int64)"
      ]
     },
     "execution_count": 4,
     "metadata": {},
     "output_type": "execute_result"
    }
   ],
   "source": [
    "from sklearn.metrics import confusion_matrix\n",
    "cm = confusion_matrix(ya, yp)\n",
    "cm"
   ]
  },
  {
   "cell_type": "code",
   "execution_count": 5,
   "metadata": {},
   "outputs": [
    {
     "data": {
      "text/html": [
       "<div>\n",
       "<style scoped>\n",
       "    .dataframe tbody tr th:only-of-type {\n",
       "        vertical-align: middle;\n",
       "    }\n",
       "\n",
       "    .dataframe tbody tr th {\n",
       "        vertical-align: top;\n",
       "    }\n",
       "\n",
       "    .dataframe thead th {\n",
       "        text-align: right;\n",
       "    }\n",
       "</style>\n",
       "<table border=\"1\" class=\"dataframe\">\n",
       "  <thead>\n",
       "    <tr style=\"text-align: right;\">\n",
       "      <th></th>\n",
       "      <th>Prediksi 0</th>\n",
       "      <th>Prediksi 1</th>\n",
       "    </tr>\n",
       "  </thead>\n",
       "  <tbody>\n",
       "    <tr>\n",
       "      <td>Actual 0</td>\n",
       "      <td>3</td>\n",
       "      <td>2</td>\n",
       "    </tr>\n",
       "    <tr>\n",
       "      <td>Actual 1</td>\n",
       "      <td>2</td>\n",
       "      <td>3</td>\n",
       "    </tr>\n",
       "  </tbody>\n",
       "</table>\n",
       "</div>"
      ],
      "text/plain": [
       "          Prediksi 0  Prediksi 1\n",
       "Actual 0           3           2\n",
       "Actual 1           2           3"
      ]
     },
     "execution_count": 5,
     "metadata": {},
     "output_type": "execute_result"
    }
   ],
   "source": [
    "df = pd.DataFrame(cm, columns=['Prediksi 0', 'Prediksi 1'], index=['Actual 0', 'Actual 1'])\n",
    "df"
   ]
  },
  {
   "cell_type": "code",
   "execution_count": 6,
   "metadata": {},
   "outputs": [
    {
     "data": {
      "text/plain": [
       "(0, 2)"
      ]
     },
     "execution_count": 6,
     "metadata": {},
     "output_type": "execute_result"
    },
    {
     "data": {
      "image/png": "[encoded data removed]",
      "text/plain": [
       "<Figure size 432x288 with 2 Axes>"
      ]
     },
     "metadata": {
      "needs_background": "light"
     },
     "output_type": "display_data"
    }
   ],
   "source": [
    "# plot confusion matrix using seaborn\n",
    "sb.heatmap(df, annot=True, annot_kws={'size': 30})\n",
    "plt.ylim(0, 2)"
   ]
  },
  {
   "cell_type": "code",
   "execution_count": 7,
   "metadata": {},
   "outputs": [
    {
     "name": "stdout",
     "output_type": "stream",
     "text": [
      "[0 0 0 0 1 0 1 0 1 1]\n",
      "[0 0 0 0 0 0 1 1 1 1]\n"
     ]
    }
   ],
   "source": [
    "x = np.arange(1, 11)\n",
    "y = np.array([0,0,0,0,1,0,1,0,1,1])\n",
    "\n",
    "model = LogisticRegression(solver='lbfgs')\n",
    "model.fit(x.reshape(-1, 1), y)\n",
    "\n",
    "# prediksi\n",
    "yp = model.predict(x.reshape(-1, 1))\n",
    "print(y)\n",
    "print(yp)"
   ]
  },
  {
   "cell_type": "markdown",
   "metadata": {},
   "source": [
    "- | Prediksi 0 | Prediksi 1\n",
    "- | - | -\n",
    "__Aktual 0__ | 5 | 1\n",
    "__Aktual 1__ | 1 | 3"
   ]
  },
  {
   "cell_type": "code",
   "execution_count": 8,
   "metadata": {},
   "outputs": [
    {
     "data": {
      "text/html": [
       "<div>\n",
       "<style scoped>\n",
       "    .dataframe tbody tr th:only-of-type {\n",
       "        vertical-align: middle;\n",
       "    }\n",
       "\n",
       "    .dataframe tbody tr th {\n",
       "        vertical-align: top;\n",
       "    }\n",
       "\n",
       "    .dataframe thead th {\n",
       "        text-align: right;\n",
       "    }\n",
       "</style>\n",
       "<table border=\"1\" class=\"dataframe\">\n",
       "  <thead>\n",
       "    <tr style=\"text-align: right;\">\n",
       "      <th></th>\n",
       "      <th>Prediksi 0</th>\n",
       "      <th>Prediksi 1</th>\n",
       "    </tr>\n",
       "  </thead>\n",
       "  <tbody>\n",
       "    <tr>\n",
       "      <td>Aktual 0</td>\n",
       "      <td>5</td>\n",
       "      <td>1</td>\n",
       "    </tr>\n",
       "    <tr>\n",
       "      <td>Aktual 1</td>\n",
       "      <td>1</td>\n",
       "      <td>3</td>\n",
       "    </tr>\n",
       "  </tbody>\n",
       "</table>\n",
       "</div>"
      ],
      "text/plain": [
       "          Prediksi 0  Prediksi 1\n",
       "Aktual 0           5           1\n",
       "Aktual 1           1           3"
      ]
     },
     "execution_count": 8,
     "metadata": {},
     "output_type": "execute_result"
    }
   ],
   "source": [
    "cm = confusion_matrix(y, yp, labels=[0, 1])\n",
    "df = pd.DataFrame(cm, columns=['Prediksi 0', 'Prediksi 1'], index=['Aktual 0', 'Aktual 1'])\n",
    "df"
   ]
  },
  {
   "cell_type": "code",
   "execution_count": 9,
   "metadata": {},
   "outputs": [
    {
     "data": {
      "text/plain": [
       "(0, 2)"
      ]
     },
     "execution_count": 9,
     "metadata": {},
     "output_type": "execute_result"
    },
    {
     "data": {
      "image/png": "[encoded data removed]",
      "text/plain": [
       "<Figure size 432x288 with 2 Axes>"
      ]
     },
     "metadata": {
      "needs_background": "light"
     },
     "output_type": "display_data"
    }
   ],
   "source": [
    "sb.heatmap(df, annot=True, annot_kws={'size': 25})\n",
    "plt.ylim(0, 2)"
   ]
  },
  {
   "cell_type": "code",
   "execution_count": 10,
   "metadata": {},
   "outputs": [
    {
     "data": {
      "text/plain": [
       "<sklearn.metrics._plot.confusion_matrix.ConfusionMatrixDisplay at 0x2624b562188>"
      ]
     },
     "execution_count": 10,
     "metadata": {},
     "output_type": "execute_result"
    },
    {
     "data": {
      "image/png": "[encoded data removed]",
      "text/plain": [
       "<Figure size 432x288 with 2 Axes>"
      ]
     },
     "metadata": {
      "needs_background": "light"
     },
     "output_type": "display_data"
    }
   ],
   "source": [
    "from sklearn.metrics import plot_confusion_matrix\n",
    "plot_confusion_matrix(\n",
    "    model, x.reshape(-1, 1), y\n",
    ")"
   ]
  },
  {
   "cell_type": "markdown",
   "metadata": {},
   "source": [
    "### Evaluation Metrics from Confusion Matrix\n",
    "\n",
    "- __True__ : y prediksi == y aktual\n",
    "- __False__ : y prediksi != y aktual\n",
    "- __Positive__ : model y prediksi = 1\n",
    "- __Negative__ : model y prediksi = 0"
   ]
  },
  {
   "cell_type": "markdown",
   "metadata": {},
   "source": [
    "- __True Positive (TP)__ : y = 1 & yp = 1\n",
    "- __True Negative (TN)__ : y = 0 & yp = 0\n",
    "- __False Positive (FP)__ : y = 0 & yp = 1\n",
    "- __False Negative (FN)__ : y = 1 & yp = 0"
   ]
  },
  {
   "cell_type": "code",
   "execution_count": 11,
   "metadata": {},
   "outputs": [
    {
     "data": {
      "text/html": [
       "<div>\n",
       "<style scoped>\n",
       "    .dataframe tbody tr th:only-of-type {\n",
       "        vertical-align: middle;\n",
       "    }\n",
       "\n",
       "    .dataframe tbody tr th {\n",
       "        vertical-align: top;\n",
       "    }\n",
       "\n",
       "    .dataframe thead th {\n",
       "        text-align: right;\n",
       "    }\n",
       "</style>\n",
       "<table border=\"1\" class=\"dataframe\">\n",
       "  <thead>\n",
       "    <tr style=\"text-align: right;\">\n",
       "      <th></th>\n",
       "      <th>Prediksi 0</th>\n",
       "      <th>Prediksi 1</th>\n",
       "    </tr>\n",
       "  </thead>\n",
       "  <tbody>\n",
       "    <tr>\n",
       "      <td>Aktual 0</td>\n",
       "      <td>5</td>\n",
       "      <td>1</td>\n",
       "    </tr>\n",
       "    <tr>\n",
       "      <td>Aktual 1</td>\n",
       "      <td>1</td>\n",
       "      <td>3</td>\n",
       "    </tr>\n",
       "  </tbody>\n",
       "</table>\n",
       "</div>"
      ],
      "text/plain": [
       "          Prediksi 0  Prediksi 1\n",
       "Aktual 0           5           1\n",
       "Aktual 1           1           3"
      ]
     },
     "execution_count": 11,
     "metadata": {},
     "output_type": "execute_result"
    }
   ],
   "source": [
    "df"
   ]
  },
  {
   "cell_type": "markdown",
   "metadata": {},
   "source": [
    "TP = 3; TN = 5; FP = 1; FN = 1"
   ]
  },
  {
   "cell_type": "code",
   "execution_count": 14,
   "metadata": {},
   "outputs": [
    {
     "data": {
      "text/plain": [
       "(5, 1, 1, 3)"
      ]
     },
     "execution_count": 14,
     "metadata": {},
     "output_type": "execute_result"
    }
   ],
   "source": [
    "tn, fp, fn, tp = confusion_matrix(y, yp).ravel()\n",
    "(tn, fp, fn, tp)"
   ]
  },
  {
   "cell_type": "markdown",
   "metadata": {},
   "source": [
    "1. __Accuracy:__ Seberapa sering model kita memprediksi / mengklasifikasi dengan benar\n",
    "\n",
    "    (tp + tn) / total_data = (3 + 5) / 10 = 0..8 = 80%"
   ]
  },
  {
   "cell_type": "markdown",
   "metadata": {},
   "source": [
    "2. __Inaccuracy / Error Rate / Missclasification Rate__\n",
    "    \n",
    "    Seberapa sering model kita memprediksi / mengklasifikasi dengan salah\n",
    "    \n",
    "    (fp + fn) / total_data = (1 + 1) / 10 = 0.2 = 20%\n",
    "    \n",
    "    1 - Accuracy = 1 - 0.8 = 0.2 = 20%"
   ]
  },
  {
   "cell_type": "markdown",
   "metadata": {},
   "source": [
    "3. __TP Rate / Sensitivity / Recall (positif):__\n",
    "    \n",
    "    Kalau ya = 1, seberapa sering model memprediksi yp = 1 \n",
    "    \n",
    "    tp / total_actual_1 = 3 / 4 = 0.75 = 75%"
   ]
  },
  {
   "cell_type": "markdown",
   "metadata": {},
   "source": [
    "4. __FP Rate:__ Kalau ya = 0, seberapa sering model memprediksi yp = 1\n",
    "\n",
    "    fp / total_actual_0 = 1 / 6 = 0.16 = 16.7%"
   ]
  },
  {
   "cell_type": "markdown",
   "metadata": {},
   "source": [
    "5. __TN Rate / Specificity / Selectifity / Recall (negatif):__\n",
    "    \n",
    "    '>< FP Rate: Kalau ya = 0, seberapa sering model memprediksi yp = 0\n",
    "\n",
    "    1 - FP Rate = 1 - 0.167 = 0.833 = 83.3%\n",
    "    \n",
    "    TN / total_actual_0 = 5 / 6 = 0.833 = 83.3%"
   ]
  },
  {
   "cell_type": "markdown",
   "metadata": {},
   "source": [
    "6. __FN Rate:__ Kalau y = 1, seberapa sering model memprediksi yp = 0\n",
    "\n",
    "    '>< TP Rate : 1 - TP Rate = 1 - 0.75 = 0.25 = 25%\n",
    "    \n",
    "    FN / total_actual_1 = 1 / 4 = 0.25 = 75%"
   ]
  },
  {
   "cell_type": "markdown",
   "metadata": {},
   "source": [
    "7. __Precision:__ Kalau yp = 1, seberapa sering benar\n",
    "\n",
    "    TP / total_predict_1 = TP / (TP + FP) = 3 / 4 = 75%"
   ]
  },
  {
   "cell_type": "markdown",
   "metadata": {},
   "source": [
    "8. __Prevalence:__ Seberapa banyak actual 1\n",
    "\n",
    "    total_actual_1 / total_data = 4 / 10 = 0.4 = 40%\n",
    "    \n",
    "    (TP + FN) / total_data = (3 + 1) / 10 = 0.4 = 40%"
   ]
  },
  {
   "cell_type": "markdown",
   "metadata": {},
   "source": [
    "9. __Null Error Rate:__ Seberapa banyak aktual = 0\n",
    "    \n",
    "    1 - Prevalence = 1 - 0.4 = 0.6 = 60%\n",
    "    \n",
    "    (FP + TN) / total_data = (5 + 1) / 10 = 0.6 = 605"
   ]
  },
  {
   "cell_type": "markdown",
   "metadata": {},
   "source": [
    "10. __F1 Score:__ Rata-rata harmoni precision(+) & recall(+)\n",
    "    \n",
    "    2 * ( (precisionP * recallP) / (precisionP + recallP) )\n",
    "    \n",
    "    2 * ( (0.75 * 0.75) / (0.75 + 0.75) )\n",
    "    \n",
    "    = 2 * ( 0.5625 / 1.5 )\n",
    "    \n",
    "    = 2 * 0.375 = 0.75 = 75%"
   ]
  },
  {
   "cell_type": "markdown",
   "metadata": {},
   "source": [
    "11. __Balanced Accuracy:__\n",
    "    \n",
    "    (recallP + recallN) / 2 = (0.75 + 0.83) / 2 = 0.79 = 79%"
   ]
  },
  {
   "cell_type": "markdown",
   "metadata": {},
   "source": [
    "<hr>"
   ]
  },
  {
   "cell_type": "code",
   "execution_count": 15,
   "metadata": {},
   "outputs": [
    {
     "name": "stdout",
     "output_type": "stream",
     "text": [
      "Akurasi: 0.8\n",
      "Error Rate: 0.2\n",
      "TPr / Recall(+): 0.75\n",
      "FP rate: 0.16666666666666666\n",
      "TNr / Recall(-): 0.8333333333333334\n",
      "FN rate: 0.25\n",
      "Precision(+): 0.75\n",
      "Precision(-): 0.8333333333333334\n",
      "Prevalence: 0.4\n",
      "Null Error Rate: 0.6\n",
      "F1 Score: 0.75\n",
      "bACC 0.7916666666666667\n"
     ]
    }
   ],
   "source": [
    "print('Akurasi:', (tp + tn) / len(y))\n",
    "print('Error Rate:', (fp + fn) / len(y))\n",
    "print('TPr / Recall(+):', tp / (tp + fn))\n",
    "print('FP rate:', fp / (fp + tn))\n",
    "print('TNr / Recall(-):', tn / (fp + tn))\n",
    "print('FN rate:', fn / (tp + fn))\n",
    "print('Precision(+):', tp / (tp + fp))\n",
    "print('Precision(-):', tn / (tn + fn))\n",
    "print('Prevalence:', (tp + fn) / len(y))\n",
    "print('Null Error Rate:', (fp + tn) / len(y))\n",
    "print('F1 Score:', 2 * (((tp / (tp + fp)) * (tp / (tp + fp))) / ((tp / (tp + fp)) + (tp / (tp + fp)))))\n",
    "print('bACC', ((tp / (tp + fn)) + (tn / (fp + tn))) / 2)"
   ]
  }
 ],
 "metadata": {
  "kernelspec": {
   "display_name": "Python 3",
   "language": "python",
   "name": "python3"
  },
  "language_info": {
   "codemirror_mode": {
    "name": "ipython",
    "version": 3
   },
   "file_extension": ".py",
   "mimetype": "text/x-python",
   "name": "python",
   "nbconvert_exporter": "python",
   "pygments_lexer": "ipython3",
   "version": "3.7.4"
  }
 },
 "nbformat": 4,
 "nbformat_minor": 4
}
