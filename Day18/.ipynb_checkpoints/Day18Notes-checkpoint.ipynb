{
 "cells": [
  {
   "cell_type": "code",
   "execution_count": 1,
   "metadata": {},
   "outputs": [],
   "source": [
    "import numpy as np\n",
    "import pandas as pd\n",
    "import matplotlib.pyplot as plt"
   ]
  },
  {
   "cell_type": "markdown",
   "metadata": {},
   "source": [
    "# Decision Tree"
   ]
  },
  {
   "cell_type": "markdown",
   "metadata": {},
   "source": [
    "- Root node / Starting question\n",
    "- Leaves / conclusion\n",
    "- internal node / question brannch"
   ]
  },
  {
   "cell_type": "code",
   "execution_count": 4,
   "metadata": {},
   "outputs": [
    {
     "data": {
      "text/html": [
       "<div>\n",
       "<style scoped>\n",
       "    .dataframe tbody tr th:only-of-type {\n",
       "        vertical-align: middle;\n",
       "    }\n",
       "\n",
       "    .dataframe tbody tr th {\n",
       "        vertical-align: top;\n",
       "    }\n",
       "\n",
       "    .dataframe thead th {\n",
       "        text-align: right;\n",
       "    }\n",
       "</style>\n",
       "<table border=\"1\" class=\"dataframe\">\n",
       "  <thead>\n",
       "    <tr style=\"text-align: right;\">\n",
       "      <th></th>\n",
       "      <th>sarjana</th>\n",
       "      <th>diterima</th>\n",
       "    </tr>\n",
       "  </thead>\n",
       "  <tbody>\n",
       "    <tr>\n",
       "      <td>0</td>\n",
       "      <td>0</td>\n",
       "      <td>0</td>\n",
       "    </tr>\n",
       "    <tr>\n",
       "      <td>1</td>\n",
       "      <td>0</td>\n",
       "      <td>0</td>\n",
       "    </tr>\n",
       "    <tr>\n",
       "      <td>2</td>\n",
       "      <td>0</td>\n",
       "      <td>1</td>\n",
       "    </tr>\n",
       "    <tr>\n",
       "      <td>3</td>\n",
       "      <td>1</td>\n",
       "      <td>0</td>\n",
       "    </tr>\n",
       "    <tr>\n",
       "      <td>4</td>\n",
       "      <td>1</td>\n",
       "      <td>1</td>\n",
       "    </tr>\n",
       "    <tr>\n",
       "      <td>5</td>\n",
       "      <td>1</td>\n",
       "      <td>1</td>\n",
       "    </tr>\n",
       "  </tbody>\n",
       "</table>\n",
       "</div>"
      ],
      "text/plain": [
       "   sarjana  diterima\n",
       "0        0         0\n",
       "1        0         0\n",
       "2        0         1\n",
       "3        1         0\n",
       "4        1         1\n",
       "5        1         1"
      ]
     },
     "execution_count": 4,
     "metadata": {},
     "output_type": "execute_result"
    }
   ],
   "source": [
    "# 1 root & 2 leaves = stump\n",
    "df = pd.DataFrame({\n",
    "    'sarjana': [0,0,0,1,1,1],\n",
    "    'diterima': [0,0,1,0,1,1]\n",
    "})\n",
    "df"
   ]
  },
  {
   "cell_type": "markdown",
   "metadata": {},
   "source": [
    "    Sarjana ?\n",
    "        |\n",
    "true ___|___ false\n",
    "     |     |\n",
    "    dtrm   dtrm\n",
    "    2+ 1-  1+ -"
   ]
  },
  {
   "cell_type": "markdown",
   "metadata": {},
   "source": [
    "### Gini Impurity\n",
    "\n",
    "- Hitung Gini untuk tiap leaf dalam feature: __gini S1True__ & __gini S1False__\n",
    "- Gini $\\displaystyle = 1 - $ (probability TRUE) $^ 2 - $ (probability FALSE) $^2$\n",
    "- Hitung Gini total untuk 1 feature: __gini S1__ =\n",
    "((totaldataS1True/totalData) * giniS1True) + ((totaldataS1False/totalData) * giniS1False)"
   ]
  },
  {
   "cell_type": "raw",
   "metadata": {},
   "source": [
    "    Sarjana ?\n",
    "        |\n",
    "true ___|___ false\n",
    "     |     |\n",
    "    dtrm   dtrm\n",
    "    2+ 1-  1+ 2-\n",
    "  g:0.4445 g:0.4444"
   ]
  },
  {
   "cell_type": "markdown",
   "metadata": {},
   "source": [
    "#### Hitung Manual"
   ]
  },
  {
   "cell_type": "code",
   "execution_count": 10,
   "metadata": {},
   "outputs": [
    {
     "data": {
      "text/plain": [
       "(0.4444444444444445, 0.4444444444444444, 0.4444444444444444)"
      ]
     },
     "execution_count": 10,
     "metadata": {},
     "output_type": "execute_result"
    }
   ],
   "source": [
    "giniS1True = 1 - (2/3)**2 - (1/3)**2\n",
    "giniS1False = 1 - (1/3)**2 - (2/3)**2\n",
    "giniSarjana = ((3/6) * giniS1True) + ((3/6) * giniS1False)\n",
    "\n",
    "giniS1True, giniS1False, giniSarjana"
   ]
  },
  {
   "cell_type": "markdown",
   "metadata": {},
   "source": [
    "#### Hitung Sklearn"
   ]
  },
  {
   "cell_type": "code",
   "execution_count": 11,
   "metadata": {},
   "outputs": [],
   "source": [
    "from sklearn import tree"
   ]
  },
  {
   "cell_type": "code",
   "execution_count": 14,
   "metadata": {},
   "outputs": [
    {
     "data": {
      "text/plain": [
       "1"
      ]
     },
     "execution_count": 14,
     "metadata": {},
     "output_type": "execute_result"
    }
   ],
   "source": [
    "model = tree.DecisionTreeClassifier()\n",
    "model.fit(df[['sarjana']], df['diterima'])\n",
    "model.predict([[1]])[0]"
   ]
  },
  {
   "cell_type": "code",
   "execution_count": 15,
   "metadata": {},
   "outputs": [
    {
     "data": {
      "text/plain": [
       "[Text(167.4, 163.07999999999998, 'X[0] <= 0.5\\ngini = 0.5\\nsamples = 6\\nvalue = [3, 3]'),\n",
       " Text(83.7, 54.360000000000014, 'gini = 0.444\\nsamples = 3\\nvalue = [2, 1]'),\n",
       " Text(251.10000000000002, 54.360000000000014, 'gini = 0.444\\nsamples = 3\\nvalue = [1, 2]')]"
      ]
     },
     "execution_count": 15,
     "metadata": {},
     "output_type": "execute_result"
    },
    {
     "data": {
      "image/png": "[encoded data removed]",
      "text/plain": [
       "<Figure size 432x288 with 1 Axes>"
      ]
     },
     "metadata": {
      "needs_background": "light"
     },
     "output_type": "display_data"
    }
   ],
   "source": [
    "tree.plot_tree(model.fit(df[['sarjana']], df['diterima']))"
   ]
  },
  {
   "cell_type": "code",
   "execution_count": 16,
   "metadata": {},
   "outputs": [],
   "source": [
    "tree.export_graphviz(\n",
    "    model.fit(df[['sarjana']], df['diterima']),\n",
    "    out_file = 'decision.dot',\n",
    "    feature_names = ['Sarjana'],\n",
    "    class_names = ['Diterima', 'Tidak diterima']\n",
    ")"
   ]
  },
  {
   "cell_type": "markdown",
   "metadata": {},
   "source": [
    "Convert file dot jadi format gambar lainnya:\n",
    "https://dreampuf.github.io/GraphvizOnline"
   ]
  },
  {
   "cell_type": "markdown",
   "metadata": {},
   "source": [
    "![decisiontree](graphviz.png)"
   ]
  },
  {
   "cell_type": "markdown",
   "metadata": {},
   "source": [
    "### Entropy & Gain\n",
    "\n",
    "- Hitung Entropy untuk tiap leaf dalam feature: E(S1True) & E(S1False)\n",
    "- Entropy $\\displaystyle \\sum -p_i \\cdot log_2 (p_i)$\n",
    "- Gain = E - E.feature"
   ]
  },
  {
   "cell_type": "raw",
   "metadata": {},
   "source": [
    "    Sarjana ?\n",
    "        |\n",
    "true ___|___ false\n",
    "     |     |\n",
    "    dtrm   dtrm\n",
    "    2+ 1-  1+ 2-\n",
    "  e:0.918  e:0.918"
   ]
  },
  {
   "cell_type": "markdown",
   "metadata": {},
   "source": [
    "#### Hitung Manual"
   ]
  },
  {
   "cell_type": "code",
   "execution_count": 24,
   "metadata": {},
   "outputs": [
    {
     "data": {
      "text/plain": [
       "(0.38997500048077083, 0.5283208335737187, 0.9182958340544896)"
      ]
     },
     "execution_count": 24,
     "metadata": {},
     "output_type": "execute_result"
    }
   ],
   "source": [
    "ES1TruedTrue = -1 * (2/3) * np.log2(2/3)\n",
    "ES1TruedFalse = -1 * (1/3) * np.log2(1/3)\n",
    "ES1True = ES1TruedTrue + ES1TruedFalse\n",
    "\n",
    "ES1TruedTrue, ES1TruedFalse, ES1True"
   ]
  },
  {
   "cell_type": "code",
   "execution_count": 25,
   "metadata": {},
   "outputs": [
    {
     "data": {
      "text/plain": [
       "(0.5283208335737187, 0.38997500048077083, 0.9182958340544896)"
      ]
     },
     "execution_count": 25,
     "metadata": {},
     "output_type": "execute_result"
    }
   ],
   "source": [
    "ES1FalsedTrue = -1 * (1/3) * np.log2(1/3)\n",
    "ES1FalsedFalse = -1 * (2/3) * np.log2(2/3)\n",
    "ES1False = ES1FalsedTrue + ES1FalsedFalse\n",
    "\n",
    "ES1FalsedTrue, ES1FalsedFalse, ES1False"
   ]
  },
  {
   "cell_type": "markdown",
   "metadata": {},
   "source": [
    "#### Hitung Sklearn"
   ]
  },
  {
   "cell_type": "code",
   "execution_count": 26,
   "metadata": {},
   "outputs": [
    {
     "data": {
      "text/plain": [
       "1"
      ]
     },
     "execution_count": 26,
     "metadata": {},
     "output_type": "execute_result"
    }
   ],
   "source": [
    "model = tree.DecisionTreeClassifier(criterion='entropy')\n",
    "model.fit(df[['sarjana']], df['diterima'])\n",
    "model.predict([[1]])[0]"
   ]
  },
  {
   "cell_type": "code",
   "execution_count": 27,
   "metadata": {},
   "outputs": [
    {
     "data": {
      "text/plain": [
       "[Text(167.4, 163.07999999999998, 'X[0] <= 0.5\\nentropy = 1.0\\nsamples = 6\\nvalue = [3, 3]'),\n",
       " Text(83.7, 54.360000000000014, 'entropy = 0.918\\nsamples = 3\\nvalue = [2, 1]'),\n",
       " Text(251.10000000000002, 54.360000000000014, 'entropy = 0.918\\nsamples = 3\\nvalue = [1, 2]')]"
      ]
     },
     "execution_count": 27,
     "metadata": {},
     "output_type": "execute_result"
    },
    {
     "data": {
      "image/png": "[encoded data removed]",
      "text/plain": [
       "<Figure size 432x288 with 1 Axes>"
      ]
     },
     "metadata": {
      "needs_background": "light"
     },
     "output_type": "display_data"
    }
   ],
   "source": [
    "tree.plot_tree(model.fit(df[['sarjana']], df['diterima']))"
   ]
  },
  {
   "cell_type": "markdown",
   "metadata": {},
   "source": [
    "## Studi Kasus Multifeature"
   ]
  },
  {
   "cell_type": "code",
   "execution_count": 28,
   "metadata": {},
   "outputs": [
    {
     "data": {
      "text/html": [
       "<div>\n",
       "<style scoped>\n",
       "    .dataframe tbody tr th:only-of-type {\n",
       "        vertical-align: middle;\n",
       "    }\n",
       "\n",
       "    .dataframe tbody tr th {\n",
       "        vertical-align: top;\n",
       "    }\n",
       "\n",
       "    .dataframe thead th {\n",
       "        text-align: right;\n",
       "    }\n",
       "</style>\n",
       "<table border=\"1\" class=\"dataframe\">\n",
       "  <thead>\n",
       "    <tr style=\"text-align: right;\">\n",
       "      <th></th>\n",
       "      <th>sarjana</th>\n",
       "      <th>sehat</th>\n",
       "      <th>supel</th>\n",
       "      <th>diterima</th>\n",
       "    </tr>\n",
       "  </thead>\n",
       "  <tbody>\n",
       "    <tr>\n",
       "      <td>0</td>\n",
       "      <td>1</td>\n",
       "      <td>1</td>\n",
       "      <td>1</td>\n",
       "      <td>1</td>\n",
       "    </tr>\n",
       "    <tr>\n",
       "      <td>1</td>\n",
       "      <td>1</td>\n",
       "      <td>0</td>\n",
       "      <td>0</td>\n",
       "      <td>1</td>\n",
       "    </tr>\n",
       "    <tr>\n",
       "      <td>2</td>\n",
       "      <td>0</td>\n",
       "      <td>1</td>\n",
       "      <td>1</td>\n",
       "      <td>0</td>\n",
       "    </tr>\n",
       "    <tr>\n",
       "      <td>3</td>\n",
       "      <td>0</td>\n",
       "      <td>0</td>\n",
       "      <td>1</td>\n",
       "      <td>0</td>\n",
       "    </tr>\n",
       "    <tr>\n",
       "      <td>4</td>\n",
       "      <td>0</td>\n",
       "      <td>0</td>\n",
       "      <td>1</td>\n",
       "      <td>0</td>\n",
       "    </tr>\n",
       "  </tbody>\n",
       "</table>\n",
       "</div>"
      ],
      "text/plain": [
       "   sarjana  sehat  supel  diterima\n",
       "0        1      1      1         1\n",
       "1        1      0      0         1\n",
       "2        0      1      1         0\n",
       "3        0      0      1         0\n",
       "4        0      0      1         0"
      ]
     },
     "execution_count": 28,
     "metadata": {},
     "output_type": "execute_result"
    }
   ],
   "source": [
    "df = pd.DataFrame([\n",
    "    {'sarjana':1, 'sehat':1, 'supel':1, 'diterima':1},\n",
    "    {'sarjana':1, 'sehat':0, 'supel':0, 'diterima':1},\n",
    "    {'sarjana':0, 'sehat':1, 'supel':1, 'diterima':0},\n",
    "    {'sarjana':0, 'sehat':0, 'supel':1, 'diterima':0},\n",
    "    {'sarjana':0, 'sehat':0, 'supel':1, 'diterima':0}\n",
    "])\n",
    "df"
   ]
  },
  {
   "cell_type": "raw",
   "metadata": {},
   "source": [
    "    Sarjana ?\n",
    "        |\n",
    "true ___|___ false\n",
    "     |     |\n",
    "    dtrm   dtrm\n",
    "    2+ 0-  0+ 3-\n",
    "\n",
    "- gini S1True = 1 - (2/2)^2 - (0/2)^2 = 0\n",
    "- gini S1False = 1 - (0/3)^2 - (3/3)^2 = 0\n",
    "- gini Sarjana = ((2/5) * 0) + ((3/5) * 0) = 0"
   ]
  },
  {
   "cell_type": "raw",
   "metadata": {},
   "source": [
    "      Sehat ?\n",
    "        |\n",
    "true ___|___ false\n",
    "     |     |\n",
    "    dtrm   dtrm\n",
    "    1+ 1-  1+ 2-\n",
    "\n",
    "- gini sehatTrue = 1 - (1/2)^2 - (1/2)^2 = 0.5\n",
    "- gini sehatFalse = 1 - (1/3)^2 - (2/3)^2 = 0.444\n",
    "- gini Sehat = ((2/5) * 0.5) + ((3/5) * 0.444) = 0.4664"
   ]
  },
  {
   "cell_type": "code",
   "execution_count": 32,
   "metadata": {},
   "outputs": [
    {
     "data": {
      "text/plain": [
       "0"
      ]
     },
     "execution_count": 32,
     "metadata": {},
     "output_type": "execute_result"
    }
   ],
   "source": [
    "model = tree.DecisionTreeClassifier()\n",
    "model.fit(df[['sarjana', 'sehat', 'supel']], df['diterima'])\n",
    "model.predict([[0, 1, 1]])[0]"
   ]
  },
  {
   "cell_type": "code",
   "execution_count": 34,
   "metadata": {},
   "outputs": [],
   "source": [
    "tree.export_graphviz(\n",
    "    model.fit(df[['sarjana', 'sehat', 'supel']], df['diterima']),\n",
    "    out_file = 'decision2.dot',\n",
    "    feature_names = ['Sarjana', 'Sehat', 'Supel'],\n",
    "    class_names = ['Diterima', 'Tidak diterima']\n",
    ")"
   ]
  },
  {
   "cell_type": "code",
   "execution_count": 39,
   "metadata": {},
   "outputs": [
    {
     "data": {
      "text/html": [
       "<div>\n",
       "<style scoped>\n",
       "    .dataframe tbody tr th:only-of-type {\n",
       "        vertical-align: middle;\n",
       "    }\n",
       "\n",
       "    .dataframe tbody tr th {\n",
       "        vertical-align: top;\n",
       "    }\n",
       "\n",
       "    .dataframe thead th {\n",
       "        text-align: right;\n",
       "    }\n",
       "</style>\n",
       "<table border=\"1\" class=\"dataframe\">\n",
       "  <thead>\n",
       "    <tr style=\"text-align: right;\">\n",
       "      <th></th>\n",
       "      <th>sarjana</th>\n",
       "      <th>sehat</th>\n",
       "      <th>supel</th>\n",
       "      <th>diterima</th>\n",
       "    </tr>\n",
       "  </thead>\n",
       "  <tbody>\n",
       "    <tr>\n",
       "      <td>0</td>\n",
       "      <td>0</td>\n",
       "      <td>1</td>\n",
       "      <td>1</td>\n",
       "      <td>1</td>\n",
       "    </tr>\n",
       "    <tr>\n",
       "      <td>1</td>\n",
       "      <td>1</td>\n",
       "      <td>0</td>\n",
       "      <td>0</td>\n",
       "      <td>1</td>\n",
       "    </tr>\n",
       "    <tr>\n",
       "      <td>2</td>\n",
       "      <td>0</td>\n",
       "      <td>1</td>\n",
       "      <td>1</td>\n",
       "      <td>0</td>\n",
       "    </tr>\n",
       "    <tr>\n",
       "      <td>3</td>\n",
       "      <td>0</td>\n",
       "      <td>0</td>\n",
       "      <td>1</td>\n",
       "      <td>0</td>\n",
       "    </tr>\n",
       "    <tr>\n",
       "      <td>4</td>\n",
       "      <td>1</td>\n",
       "      <td>0</td>\n",
       "      <td>1</td>\n",
       "      <td>0</td>\n",
       "    </tr>\n",
       "  </tbody>\n",
       "</table>\n",
       "</div>"
      ],
      "text/plain": [
       "   sarjana  sehat  supel  diterima\n",
       "0        0      1      1         1\n",
       "1        1      0      0         1\n",
       "2        0      1      1         0\n",
       "3        0      0      1         0\n",
       "4        1      0      1         0"
      ]
     },
     "execution_count": 39,
     "metadata": {},
     "output_type": "execute_result"
    }
   ],
   "source": [
    "df = pd.DataFrame([\n",
    "    {'sarjana':0, 'sehat':1, 'supel':1, 'diterima':1},\n",
    "    {'sarjana':1, 'sehat':0, 'supel':0, 'diterima':1},\n",
    "    {'sarjana':0, 'sehat':1, 'supel':1, 'diterima':0},\n",
    "    {'sarjana':0, 'sehat':0, 'supel':1, 'diterima':0},\n",
    "    {'sarjana':1, 'sehat':0, 'supel':1, 'diterima':0}\n",
    "])\n",
    "df"
   ]
  },
  {
   "cell_type": "code",
   "execution_count": 40,
   "metadata": {},
   "outputs": [
    {
     "data": {
      "text/plain": [
       "0"
      ]
     },
     "execution_count": 40,
     "metadata": {},
     "output_type": "execute_result"
    }
   ],
   "source": [
    "model = tree.DecisionTreeClassifier()\n",
    "model.fit(df[['sarjana', 'sehat', 'supel']], df['diterima'])\n",
    "model.predict([[0, 1, 1]])[0]"
   ]
  },
  {
   "cell_type": "code",
   "execution_count": 41,
   "metadata": {},
   "outputs": [],
   "source": [
    "tree.export_graphviz(\n",
    "    model.fit(df[['sarjana', 'sehat', 'supel']], df['diterima']),\n",
    "    out_file = 'decision2.dot',\n",
    "    feature_names = ['Sarjana', 'Sehat', 'Supel'],\n",
    "    class_names = ['Diterima', 'Tidak diterima']\n",
    ")"
   ]
  },
  {
   "cell_type": "markdown",
   "metadata": {},
   "source": [
    "![decisiontree](graphviz2.png)"
   ]
  },
  {
   "cell_type": "code",
   "execution_count": 42,
   "metadata": {},
   "outputs": [],
   "source": [
    "from sklearn.datasets import load_iris\n",
    "x = load_iris()"
   ]
  },
  {
   "cell_type": "code",
   "execution_count": 43,
   "metadata": {},
   "outputs": [],
   "source": [
    "df = pd.DataFrame(x['data'], columns=['sl', 'sw', 'pl', 'pw'])\n",
    "df['target'] = x['target']\n",
    "model = tree.DecisionTreeClassifier()\n",
    "model.fit(df[['sl', 'sw', 'pl', 'pw']], df['target'])\n",
    "\n",
    "tree.export_graphviz(\n",
    "    model.fit(df[['sl', 'sw', 'pl', 'pw']], df['target']),\n",
    "    out_file = 'decisionIris.dot',\n",
    "    feature_names = ['SL', 'SW', 'PL', 'PW'],\n",
    "    class_names = ['Setosa', 'Versicolor', 'Virginica']\n",
    ")"
   ]
  },
  {
   "cell_type": "markdown",
   "metadata": {},
   "source": [
    "![decisiontree](graphvizIris.png)"
   ]
  }
 ],
 "metadata": {
  "kernelspec": {
   "display_name": "Python 3",
   "language": "python",
   "name": "python3"
  },
  "language_info": {
   "codemirror_mode": {
    "name": "ipython",
    "version": 3
   },
   "file_extension": ".py",
   "mimetype": "text/x-python",
   "name": "python",
   "nbconvert_exporter": "python",
   "pygments_lexer": "ipython3",
   "version": "3.7.4"
  }
 },
 "nbformat": 4,
 "nbformat_minor": 4
}
