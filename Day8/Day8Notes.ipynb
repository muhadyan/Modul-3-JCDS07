{
 "cells": [
  {
   "cell_type": "code",
   "execution_count": 12,
   "metadata": {},
   "outputs": [],
   "source": [
    "import pandas as pd\n",
    "import numpy as np\n",
    "import matplotlib.pyplot as plt\n",
    "import seaborn as sb\n",
    "from sklearn.linear_model import LinearRegression, Ridge, Lasso, ElasticNet"
   ]
  },
  {
   "cell_type": "code",
   "execution_count": 26,
   "metadata": {},
   "outputs": [
    {
     "data": {
      "text/html": [
       "<div>\n",
       "<style scoped>\n",
       "    .dataframe tbody tr th:only-of-type {\n",
       "        vertical-align: middle;\n",
       "    }\n",
       "\n",
       "    .dataframe tbody tr th {\n",
       "        vertical-align: top;\n",
       "    }\n",
       "\n",
       "    .dataframe thead th {\n",
       "        text-align: right;\n",
       "    }\n",
       "</style>\n",
       "<table border=\"1\" class=\"dataframe\">\n",
       "  <thead>\n",
       "    <tr style=\"text-align: right;\">\n",
       "      <th></th>\n",
       "      <th>x</th>\n",
       "      <th>y</th>\n",
       "    </tr>\n",
       "  </thead>\n",
       "  <tbody>\n",
       "    <tr>\n",
       "      <td>0</td>\n",
       "      <td>0</td>\n",
       "      <td>1.093118</td>\n",
       "    </tr>\n",
       "    <tr>\n",
       "      <td>1</td>\n",
       "      <td>10</td>\n",
       "      <td>1.296076</td>\n",
       "    </tr>\n",
       "    <tr>\n",
       "      <td>2</td>\n",
       "      <td>20</td>\n",
       "      <td>1.032735</td>\n",
       "    </tr>\n",
       "    <tr>\n",
       "      <td>3</td>\n",
       "      <td>30</td>\n",
       "      <td>0.782553</td>\n",
       "    </tr>\n",
       "    <tr>\n",
       "      <td>4</td>\n",
       "      <td>40</td>\n",
       "      <td>0.451299</td>\n",
       "    </tr>\n",
       "  </tbody>\n",
       "</table>\n",
       "</div>"
      ],
      "text/plain": [
       "    x         y\n",
       "0   0  1.093118\n",
       "1  10  1.296076\n",
       "2  20  1.032735\n",
       "3  30  0.782553\n",
       "4  40  0.451299"
      ]
     },
     "execution_count": 26,
     "metadata": {},
     "output_type": "execute_result"
    }
   ],
   "source": [
    "x = np.arange(0, 270, 10)\n",
    "y = np.cos(x * np.pi/180) + np.random.normal(0, 0.15, len(x))\n",
    "df = pd.DataFrame({'x': x, 'y': y})\n",
    "df.head()"
   ]
  },
  {
   "cell_type": "code",
   "execution_count": 27,
   "metadata": {},
   "outputs": [
    {
     "data": {
      "text/plain": [
       "[<matplotlib.lines.Line2D at 0x296db1a9088>]"
      ]
     },
     "execution_count": 27,
     "metadata": {},
     "output_type": "execute_result"
    },
    {
     "data": {
      "image/png": "[encoded data removed]",
      "text/plain": [
       "<Figure size 432x288 with 1 Axes>"
      ]
     },
     "metadata": {
      "needs_background": "light"
     },
     "output_type": "display_data"
    }
   ],
   "source": [
    "plt.plot(df['x'], df['y'], 'k.')"
   ]
  },
  {
   "cell_type": "code",
   "execution_count": 28,
   "metadata": {},
   "outputs": [
    {
     "data": {
      "text/plain": [
       "ElasticNet(alpha=1.0, copy_X=True, fit_intercept=True, l1_ratio=0.5,\n",
       "           max_iter=1000, normalize=False, positive=False, precompute=False,\n",
       "           random_state=None, selection='cyclic', tol=0.0001, warm_start=False)"
      ]
     },
     "execution_count": 28,
     "metadata": {},
     "output_type": "execute_result"
    }
   ],
   "source": [
    "modelA = LinearRegression()\n",
    "modelB = Ridge()\n",
    "modelC = Lasso()\n",
    "modelD = ElasticNet()\n",
    "\n",
    "modelA.fit(df[['x']], df['y'])\n",
    "modelB.fit(df[['x']], df['y'])\n",
    "modelC.fit(df[['x']], df['y'])\n",
    "modelD.fit(df[['x']], df['y'])"
   ]
  },
  {
   "cell_type": "code",
   "execution_count": 29,
   "metadata": {},
   "outputs": [
    {
     "data": {
      "text/html": [
       "<div>\n",
       "<style scoped>\n",
       "    .dataframe tbody tr th:only-of-type {\n",
       "        vertical-align: middle;\n",
       "    }\n",
       "\n",
       "    .dataframe tbody tr th {\n",
       "        vertical-align: top;\n",
       "    }\n",
       "\n",
       "    .dataframe thead th {\n",
       "        text-align: right;\n",
       "    }\n",
       "</style>\n",
       "<table border=\"1\" class=\"dataframe\">\n",
       "  <thead>\n",
       "    <tr style=\"text-align: right;\">\n",
       "      <th></th>\n",
       "      <th>x</th>\n",
       "      <th>y</th>\n",
       "      <th>y\"A</th>\n",
       "      <th>y\"B</th>\n",
       "      <th>y\"C</th>\n",
       "      <th>y\"D</th>\n",
       "    </tr>\n",
       "  </thead>\n",
       "  <tbody>\n",
       "    <tr>\n",
       "      <td>0</td>\n",
       "      <td>0</td>\n",
       "      <td>1.093118</td>\n",
       "      <td>0.749557</td>\n",
       "      <td>0.749551</td>\n",
       "      <td>0.728128</td>\n",
       "      <td>0.738768</td>\n",
       "    </tr>\n",
       "    <tr>\n",
       "      <td>1</td>\n",
       "      <td>10</td>\n",
       "      <td>1.296076</td>\n",
       "      <td>0.678810</td>\n",
       "      <td>0.678805</td>\n",
       "      <td>0.659030</td>\n",
       "      <td>0.668851</td>\n",
       "    </tr>\n",
       "    <tr>\n",
       "      <td>2</td>\n",
       "      <td>20</td>\n",
       "      <td>1.032735</td>\n",
       "      <td>0.608064</td>\n",
       "      <td>0.608059</td>\n",
       "      <td>0.589932</td>\n",
       "      <td>0.598934</td>\n",
       "    </tr>\n",
       "    <tr>\n",
       "      <td>3</td>\n",
       "      <td>30</td>\n",
       "      <td>0.782553</td>\n",
       "      <td>0.537317</td>\n",
       "      <td>0.537313</td>\n",
       "      <td>0.520833</td>\n",
       "      <td>0.529018</td>\n",
       "    </tr>\n",
       "    <tr>\n",
       "      <td>4</td>\n",
       "      <td>40</td>\n",
       "      <td>0.451299</td>\n",
       "      <td>0.466570</td>\n",
       "      <td>0.466566</td>\n",
       "      <td>0.451735</td>\n",
       "      <td>0.459101</td>\n",
       "    </tr>\n",
       "  </tbody>\n",
       "</table>\n",
       "</div>"
      ],
      "text/plain": [
       "    x         y       y\"A       y\"B       y\"C       y\"D\n",
       "0   0  1.093118  0.749557  0.749551  0.728128  0.738768\n",
       "1  10  1.296076  0.678810  0.678805  0.659030  0.668851\n",
       "2  20  1.032735  0.608064  0.608059  0.589932  0.598934\n",
       "3  30  0.782553  0.537317  0.537313  0.520833  0.529018\n",
       "4  40  0.451299  0.466570  0.466566  0.451735  0.459101"
      ]
     },
     "execution_count": 29,
     "metadata": {},
     "output_type": "execute_result"
    }
   ],
   "source": [
    "# prediksi y dari 4 model\n",
    "df['y\"A'] = modelA.predict(df[['x']])\n",
    "df['y\"B'] = modelB.predict(df[['x']])\n",
    "df['y\"C'] = modelC.predict(df[['x']])\n",
    "df['y\"D'] = modelD.predict(df[['x']])\n",
    "df.head()"
   ]
  },
  {
   "cell_type": "code",
   "execution_count": 34,
   "metadata": {},
   "outputs": [
    {
     "data": {
      "text/plain": [
       "Text(0, 0.5, 'Y')"
      ]
     },
     "execution_count": 34,
     "metadata": {},
     "output_type": "execute_result"
    },
    {
     "data": {
      "image/png": "[encoded data removed]",
      "text/plain": [
       "<Figure size 432x288 with 1 Axes>"
      ]
     },
     "metadata": {
      "needs_background": "light"
     },
     "output_type": "display_data"
    }
   ],
   "source": [
    "plt.plot(df['x'], df['y'], 'k.')\n",
    "plt.plot(df['x'], df['y\"A'], 'r-')\n",
    "plt.plot(df['x'], df['y\"B'], 'g-')\n",
    "plt.plot(df['x'], df['y\"C'], 'b-')\n",
    "plt.plot(df['x'], df['y\"D'], 'm-')\n",
    "plt.legend(['Data', 'Linear', r'Ridge $\\alpha=1$', r'Lasso $\\alpha=1$', r'ElasticNet $\\alpha=1$'])\n",
    "plt.grid(True)\n",
    "plt.xlabel('X')\n",
    "plt.ylabel('Y')"
   ]
  },
  {
   "cell_type": "code",
   "execution_count": 35,
   "metadata": {},
   "outputs": [
    {
     "data": {
      "text/html": [
       "<div>\n",
       "<style scoped>\n",
       "    .dataframe tbody tr th:only-of-type {\n",
       "        vertical-align: middle;\n",
       "    }\n",
       "\n",
       "    .dataframe tbody tr th {\n",
       "        vertical-align: top;\n",
       "    }\n",
       "\n",
       "    .dataframe thead th {\n",
       "        text-align: right;\n",
       "    }\n",
       "</style>\n",
       "<table border=\"1\" class=\"dataframe\">\n",
       "  <thead>\n",
       "    <tr style=\"text-align: right;\">\n",
       "      <th></th>\n",
       "      <th>x</th>\n",
       "      <th>y</th>\n",
       "      <th>y\"A</th>\n",
       "      <th>y\"B</th>\n",
       "      <th>y\"C</th>\n",
       "      <th>y\"D</th>\n",
       "      <th>x2</th>\n",
       "      <th>x3</th>\n",
       "      <th>x4</th>\n",
       "      <th>x5</th>\n",
       "    </tr>\n",
       "  </thead>\n",
       "  <tbody>\n",
       "    <tr>\n",
       "      <td>0</td>\n",
       "      <td>0</td>\n",
       "      <td>1.093118</td>\n",
       "      <td>0.749557</td>\n",
       "      <td>0.749551</td>\n",
       "      <td>0.728128</td>\n",
       "      <td>0.738768</td>\n",
       "      <td>0</td>\n",
       "      <td>0</td>\n",
       "      <td>0</td>\n",
       "      <td>0</td>\n",
       "    </tr>\n",
       "    <tr>\n",
       "      <td>1</td>\n",
       "      <td>10</td>\n",
       "      <td>1.296076</td>\n",
       "      <td>0.678810</td>\n",
       "      <td>0.678805</td>\n",
       "      <td>0.659030</td>\n",
       "      <td>0.668851</td>\n",
       "      <td>100</td>\n",
       "      <td>1000</td>\n",
       "      <td>10000</td>\n",
       "      <td>100000</td>\n",
       "    </tr>\n",
       "    <tr>\n",
       "      <td>2</td>\n",
       "      <td>20</td>\n",
       "      <td>1.032735</td>\n",
       "      <td>0.608064</td>\n",
       "      <td>0.608059</td>\n",
       "      <td>0.589932</td>\n",
       "      <td>0.598934</td>\n",
       "      <td>400</td>\n",
       "      <td>8000</td>\n",
       "      <td>160000</td>\n",
       "      <td>3200000</td>\n",
       "    </tr>\n",
       "    <tr>\n",
       "      <td>3</td>\n",
       "      <td>30</td>\n",
       "      <td>0.782553</td>\n",
       "      <td>0.537317</td>\n",
       "      <td>0.537313</td>\n",
       "      <td>0.520833</td>\n",
       "      <td>0.529018</td>\n",
       "      <td>900</td>\n",
       "      <td>27000</td>\n",
       "      <td>810000</td>\n",
       "      <td>24300000</td>\n",
       "    </tr>\n",
       "    <tr>\n",
       "      <td>4</td>\n",
       "      <td>40</td>\n",
       "      <td>0.451299</td>\n",
       "      <td>0.466570</td>\n",
       "      <td>0.466566</td>\n",
       "      <td>0.451735</td>\n",
       "      <td>0.459101</td>\n",
       "      <td>1600</td>\n",
       "      <td>64000</td>\n",
       "      <td>2560000</td>\n",
       "      <td>102400000</td>\n",
       "    </tr>\n",
       "  </tbody>\n",
       "</table>\n",
       "</div>"
      ],
      "text/plain": [
       "    x         y       y\"A       y\"B       y\"C       y\"D    x2     x3       x4  \\\n",
       "0   0  1.093118  0.749557  0.749551  0.728128  0.738768     0      0        0   \n",
       "1  10  1.296076  0.678810  0.678805  0.659030  0.668851   100   1000    10000   \n",
       "2  20  1.032735  0.608064  0.608059  0.589932  0.598934   400   8000   160000   \n",
       "3  30  0.782553  0.537317  0.537313  0.520833  0.529018   900  27000   810000   \n",
       "4  40  0.451299  0.466570  0.466566  0.451735  0.459101  1600  64000  2560000   \n",
       "\n",
       "          x5  \n",
       "0          0  \n",
       "1     100000  \n",
       "2    3200000  \n",
       "3   24300000  \n",
       "4  102400000  "
      ]
     },
     "execution_count": 35,
     "metadata": {},
     "output_type": "execute_result"
    }
   ],
   "source": [
    "# df['x2'] = x**2\n",
    "# df['x3'] = x**3\n",
    "# df['x4'] = x**4\n",
    "# df['x5'] = x**5\n",
    "\n",
    "for i in range(2, 6):\n",
    "    df[f'x{i}'] = df['x'] ** i\n",
    "\n",
    "df.head()"
   ]
  },
  {
   "cell_type": "code",
   "execution_count": 36,
   "metadata": {},
   "outputs": [
    {
     "data": {
      "text/html": [
       "<div>\n",
       "<style scoped>\n",
       "    .dataframe tbody tr th:only-of-type {\n",
       "        vertical-align: middle;\n",
       "    }\n",
       "\n",
       "    .dataframe tbody tr th {\n",
       "        vertical-align: top;\n",
       "    }\n",
       "\n",
       "    .dataframe thead th {\n",
       "        text-align: right;\n",
       "    }\n",
       "</style>\n",
       "<table border=\"1\" class=\"dataframe\">\n",
       "  <thead>\n",
       "    <tr style=\"text-align: right;\">\n",
       "      <th></th>\n",
       "      <th>x</th>\n",
       "      <th>y</th>\n",
       "      <th>y\"A</th>\n",
       "      <th>y\"B</th>\n",
       "      <th>y\"C</th>\n",
       "      <th>y\"D</th>\n",
       "      <th>x2</th>\n",
       "      <th>x3</th>\n",
       "      <th>x4</th>\n",
       "      <th>x5</th>\n",
       "      <th>y\"E2</th>\n",
       "    </tr>\n",
       "  </thead>\n",
       "  <tbody>\n",
       "    <tr>\n",
       "      <td>0</td>\n",
       "      <td>0</td>\n",
       "      <td>1.093118</td>\n",
       "      <td>0.749557</td>\n",
       "      <td>0.749551</td>\n",
       "      <td>0.728128</td>\n",
       "      <td>0.738768</td>\n",
       "      <td>0</td>\n",
       "      <td>0</td>\n",
       "      <td>0</td>\n",
       "      <td>0</td>\n",
       "      <td>1.506435</td>\n",
       "    </tr>\n",
       "    <tr>\n",
       "      <td>1</td>\n",
       "      <td>10</td>\n",
       "      <td>1.296076</td>\n",
       "      <td>0.678810</td>\n",
       "      <td>0.678805</td>\n",
       "      <td>0.659030</td>\n",
       "      <td>0.668851</td>\n",
       "      <td>100</td>\n",
       "      <td>1000</td>\n",
       "      <td>10000</td>\n",
       "      <td>100000</td>\n",
       "      <td>1.261024</td>\n",
       "    </tr>\n",
       "    <tr>\n",
       "      <td>2</td>\n",
       "      <td>20</td>\n",
       "      <td>1.032735</td>\n",
       "      <td>0.608064</td>\n",
       "      <td>0.608059</td>\n",
       "      <td>0.589932</td>\n",
       "      <td>0.598934</td>\n",
       "      <td>400</td>\n",
       "      <td>8000</td>\n",
       "      <td>160000</td>\n",
       "      <td>3200000</td>\n",
       "      <td>1.029586</td>\n",
       "    </tr>\n",
       "    <tr>\n",
       "      <td>3</td>\n",
       "      <td>30</td>\n",
       "      <td>0.782553</td>\n",
       "      <td>0.537317</td>\n",
       "      <td>0.537313</td>\n",
       "      <td>0.520833</td>\n",
       "      <td>0.529018</td>\n",
       "      <td>900</td>\n",
       "      <td>27000</td>\n",
       "      <td>810000</td>\n",
       "      <td>24300000</td>\n",
       "      <td>0.812122</td>\n",
       "    </tr>\n",
       "    <tr>\n",
       "      <td>4</td>\n",
       "      <td>40</td>\n",
       "      <td>0.451299</td>\n",
       "      <td>0.466570</td>\n",
       "      <td>0.466566</td>\n",
       "      <td>0.451735</td>\n",
       "      <td>0.459101</td>\n",
       "      <td>1600</td>\n",
       "      <td>64000</td>\n",
       "      <td>2560000</td>\n",
       "      <td>102400000</td>\n",
       "      <td>0.608630</td>\n",
       "    </tr>\n",
       "  </tbody>\n",
       "</table>\n",
       "</div>"
      ],
      "text/plain": [
       "    x         y       y\"A       y\"B       y\"C       y\"D    x2     x3       x4  \\\n",
       "0   0  1.093118  0.749557  0.749551  0.728128  0.738768     0      0        0   \n",
       "1  10  1.296076  0.678810  0.678805  0.659030  0.668851   100   1000    10000   \n",
       "2  20  1.032735  0.608064  0.608059  0.589932  0.598934   400   8000   160000   \n",
       "3  30  0.782553  0.537317  0.537313  0.520833  0.529018   900  27000   810000   \n",
       "4  40  0.451299  0.466570  0.466566  0.451735  0.459101  1600  64000  2560000   \n",
       "\n",
       "          x5      y\"E2  \n",
       "0          0  1.506435  \n",
       "1     100000  1.261024  \n",
       "2    3200000  1.029586  \n",
       "3   24300000  0.812122  \n",
       "4  102400000  0.608630  "
      ]
     },
     "execution_count": 36,
     "metadata": {},
     "output_type": "execute_result"
    }
   ],
   "source": [
    "modelE = LinearRegression()\n",
    "modelE.fit(df[['x', 'x2']], df['y'])\n",
    "df['y\"E2'] = modelE.predict(df[['x', 'x2']])\n",
    "df.head()"
   ]
  },
  {
   "cell_type": "code",
   "execution_count": 41,
   "metadata": {},
   "outputs": [
    {
     "data": {
      "text/html": [
       "<div>\n",
       "<style scoped>\n",
       "    .dataframe tbody tr th:only-of-type {\n",
       "        vertical-align: middle;\n",
       "    }\n",
       "\n",
       "    .dataframe tbody tr th {\n",
       "        vertical-align: top;\n",
       "    }\n",
       "\n",
       "    .dataframe thead th {\n",
       "        text-align: right;\n",
       "    }\n",
       "</style>\n",
       "<table border=\"1\" class=\"dataframe\">\n",
       "  <thead>\n",
       "    <tr style=\"text-align: right;\">\n",
       "      <th></th>\n",
       "      <th>x</th>\n",
       "      <th>y</th>\n",
       "      <th>y\"A</th>\n",
       "      <th>y\"B</th>\n",
       "      <th>y\"C</th>\n",
       "      <th>y\"D</th>\n",
       "      <th>x2</th>\n",
       "      <th>x3</th>\n",
       "      <th>x4</th>\n",
       "      <th>x5</th>\n",
       "      <th>y\"E2</th>\n",
       "      <th>y\"E3</th>\n",
       "      <th>y\"E4</th>\n",
       "      <th>y\"E5</th>\n",
       "    </tr>\n",
       "  </thead>\n",
       "  <tbody>\n",
       "    <tr>\n",
       "      <td>0</td>\n",
       "      <td>0</td>\n",
       "      <td>1.093118</td>\n",
       "      <td>0.749557</td>\n",
       "      <td>0.749551</td>\n",
       "      <td>0.728128</td>\n",
       "      <td>0.738768</td>\n",
       "      <td>0</td>\n",
       "      <td>0</td>\n",
       "      <td>0</td>\n",
       "      <td>0</td>\n",
       "      <td>1.506435</td>\n",
       "      <td>1.273553</td>\n",
       "      <td>1.278987</td>\n",
       "      <td>1.279081</td>\n",
       "    </tr>\n",
       "    <tr>\n",
       "      <td>1</td>\n",
       "      <td>10</td>\n",
       "      <td>1.296076</td>\n",
       "      <td>0.678810</td>\n",
       "      <td>0.678805</td>\n",
       "      <td>0.659030</td>\n",
       "      <td>0.668851</td>\n",
       "      <td>100</td>\n",
       "      <td>1000</td>\n",
       "      <td>10000</td>\n",
       "      <td>100000</td>\n",
       "      <td>1.261024</td>\n",
       "      <td>1.135626</td>\n",
       "      <td>1.135719</td>\n",
       "      <td>1.129422</td>\n",
       "    </tr>\n",
       "    <tr>\n",
       "      <td>2</td>\n",
       "      <td>20</td>\n",
       "      <td>1.032735</td>\n",
       "      <td>0.608064</td>\n",
       "      <td>0.608059</td>\n",
       "      <td>0.589932</td>\n",
       "      <td>0.598934</td>\n",
       "      <td>400</td>\n",
       "      <td>8000</td>\n",
       "      <td>160000</td>\n",
       "      <td>3200000</td>\n",
       "      <td>1.029586</td>\n",
       "      <td>0.990176</td>\n",
       "      <td>0.986829</td>\n",
       "      <td>0.976056</td>\n",
       "    </tr>\n",
       "    <tr>\n",
       "      <td>3</td>\n",
       "      <td>30</td>\n",
       "      <td>0.782553</td>\n",
       "      <td>0.537317</td>\n",
       "      <td>0.537313</td>\n",
       "      <td>0.520833</td>\n",
       "      <td>0.529018</td>\n",
       "      <td>900</td>\n",
       "      <td>27000</td>\n",
       "      <td>810000</td>\n",
       "      <td>24300000</td>\n",
       "      <td>0.812122</td>\n",
       "      <td>0.838993</td>\n",
       "      <td>0.833883</td>\n",
       "      <td>0.821182</td>\n",
       "    </tr>\n",
       "    <tr>\n",
       "      <td>4</td>\n",
       "      <td>40</td>\n",
       "      <td>0.451299</td>\n",
       "      <td>0.466570</td>\n",
       "      <td>0.466566</td>\n",
       "      <td>0.451735</td>\n",
       "      <td>0.459101</td>\n",
       "      <td>1600</td>\n",
       "      <td>64000</td>\n",
       "      <td>2560000</td>\n",
       "      <td>102400000</td>\n",
       "      <td>0.608630</td>\n",
       "      <td>0.683869</td>\n",
       "      <td>0.678435</td>\n",
       "      <td>0.668253</td>\n",
       "    </tr>\n",
       "  </tbody>\n",
       "</table>\n",
       "</div>"
      ],
      "text/plain": [
       "    x         y       y\"A       y\"B       y\"C       y\"D    x2     x3       x4  \\\n",
       "0   0  1.093118  0.749557  0.749551  0.728128  0.738768     0      0        0   \n",
       "1  10  1.296076  0.678810  0.678805  0.659030  0.668851   100   1000    10000   \n",
       "2  20  1.032735  0.608064  0.608059  0.589932  0.598934   400   8000   160000   \n",
       "3  30  0.782553  0.537317  0.537313  0.520833  0.529018   900  27000   810000   \n",
       "4  40  0.451299  0.466570  0.466566  0.451735  0.459101  1600  64000  2560000   \n",
       "\n",
       "          x5      y\"E2      y\"E3      y\"E4      y\"E5  \n",
       "0          0  1.506435  1.273553  1.278987  1.279081  \n",
       "1     100000  1.261024  1.135626  1.135719  1.129422  \n",
       "2    3200000  1.029586  0.990176  0.986829  0.976056  \n",
       "3   24300000  0.812122  0.838993  0.833883  0.821182  \n",
       "4  102400000  0.608630  0.683869  0.678435  0.668253  "
      ]
     },
     "execution_count": 41,
     "metadata": {},
     "output_type": "execute_result"
    }
   ],
   "source": [
    "modelE = LinearRegression()\n",
    "\n",
    "xn = ['x']\n",
    "for i in range(2, 6):\n",
    "    xn.append(f'x{i}')\n",
    "    modelE.fit(df[xn], df['y'])\n",
    "    df[f'y\"E{i}'] = modelE.predict(df[xn])\n",
    "df.head()"
   ]
  },
  {
   "cell_type": "code",
   "execution_count": 45,
   "metadata": {},
   "outputs": [
    {
     "data": {
      "text/plain": [
       "[<matplotlib.lines.Line2D at 0x296dcc3b608>]"
      ]
     },
     "execution_count": 45,
     "metadata": {},
     "output_type": "execute_result"
    },
    {
     "data": {
      "image/png": "[encoded data removed]",
      "text/plain": [
       "<Figure size 432x288 with 1 Axes>"
      ]
     },
     "metadata": {
      "needs_background": "light"
     },
     "output_type": "display_data"
    }
   ],
   "source": [
    "plt.plot(df['x'], df['y'], 'k.')\n",
    "plt.plot(df['x'], df['y\"E2'], 'r-')\n",
    "plt.plot(df['x'], df['y\"E3'], 'g-')\n",
    "plt.plot(df['x'], df['y\"E4'], 'b-')\n",
    "plt.plot(df['x'], df['y\"E5'], 'm-')"
   ]
  },
  {
   "cell_type": "markdown",
   "metadata": {},
   "source": [
    "### Polynomial Regression using Sklearn"
   ]
  },
  {
   "cell_type": "code",
   "execution_count": 47,
   "metadata": {},
   "outputs": [],
   "source": [
    "from sklearn.preprocessing import PolynomialFeatures"
   ]
  },
  {
   "cell_type": "code",
   "execution_count": 48,
   "metadata": {},
   "outputs": [
    {
     "data": {
      "text/html": [
       "<div>\n",
       "<style scoped>\n",
       "    .dataframe tbody tr th:only-of-type {\n",
       "        vertical-align: middle;\n",
       "    }\n",
       "\n",
       "    .dataframe tbody tr th {\n",
       "        vertical-align: top;\n",
       "    }\n",
       "\n",
       "    .dataframe thead th {\n",
       "        text-align: right;\n",
       "    }\n",
       "</style>\n",
       "<table border=\"1\" class=\"dataframe\">\n",
       "  <thead>\n",
       "    <tr style=\"text-align: right;\">\n",
       "      <th></th>\n",
       "      <th>x</th>\n",
       "      <th>y</th>\n",
       "    </tr>\n",
       "  </thead>\n",
       "  <tbody>\n",
       "    <tr>\n",
       "      <td>0</td>\n",
       "      <td>0</td>\n",
       "      <td>1.176185</td>\n",
       "    </tr>\n",
       "    <tr>\n",
       "      <td>1</td>\n",
       "      <td>10</td>\n",
       "      <td>1.157273</td>\n",
       "    </tr>\n",
       "    <tr>\n",
       "      <td>2</td>\n",
       "      <td>20</td>\n",
       "      <td>1.015301</td>\n",
       "    </tr>\n",
       "    <tr>\n",
       "      <td>3</td>\n",
       "      <td>30</td>\n",
       "      <td>0.902884</td>\n",
       "    </tr>\n",
       "    <tr>\n",
       "      <td>4</td>\n",
       "      <td>40</td>\n",
       "      <td>0.906011</td>\n",
       "    </tr>\n",
       "  </tbody>\n",
       "</table>\n",
       "</div>"
      ],
      "text/plain": [
       "    x         y\n",
       "0   0  1.176185\n",
       "1  10  1.157273\n",
       "2  20  1.015301\n",
       "3  30  0.902884\n",
       "4  40  0.906011"
      ]
     },
     "execution_count": 48,
     "metadata": {},
     "output_type": "execute_result"
    }
   ],
   "source": [
    "x = np.arange(0, 270, 10)\n",
    "y = np.cos(x * np.pi/180) + np.random.normal(0, 0.15, len(x))\n",
    "df = pd.DataFrame({'x': x, 'y': y})\n",
    "df.head()"
   ]
  },
  {
   "cell_type": "code",
   "execution_count": 51,
   "metadata": {},
   "outputs": [
    {
     "data": {
      "text/plain": [
       "array([[ 2.,  4.,  8., 16., 32.]])"
      ]
     },
     "execution_count": 51,
     "metadata": {},
     "output_type": "execute_result"
    }
   ],
   "source": [
    "a = [2]\n",
    "apoli = PolynomialFeatures(5, include_bias=False)\n",
    "apoli.fit_transform([a])"
   ]
  },
  {
   "cell_type": "code",
   "execution_count": 56,
   "metadata": {},
   "outputs": [
    {
     "data": {
      "text/plain": [
       "array([[          3,           9,          27,          81,         243,\n",
       "                729,        2187,        6561,       19683,       59049],\n",
       "       [          6,          36,         216,        1296,        7776,\n",
       "              46656,      279936,     1679616,    10077696,    60466176],\n",
       "       [          9,          81,         729,        6561,       59049,\n",
       "             531441,     4782969,    43046721,   387420489, -2147483648]])"
      ]
     },
     "execution_count": 56,
     "metadata": {},
     "output_type": "execute_result"
    }
   ],
   "source": [
    "b = [3, 6, 9]\n",
    "bpoli = PolynomialFeatures(10, include_bias=False)\n",
    "bp = bpoli.fit_transform(np.array(b).reshape(-1, 1))\n",
    "bp.astype(int)"
   ]
  },
  {
   "cell_type": "code",
   "execution_count": 74,
   "metadata": {},
   "outputs": [
    {
     "data": {
      "text/html": [
       "<div>\n",
       "<style scoped>\n",
       "    .dataframe tbody tr th:only-of-type {\n",
       "        vertical-align: middle;\n",
       "    }\n",
       "\n",
       "    .dataframe tbody tr th {\n",
       "        vertical-align: top;\n",
       "    }\n",
       "\n",
       "    .dataframe thead th {\n",
       "        text-align: right;\n",
       "    }\n",
       "</style>\n",
       "<table border=\"1\" class=\"dataframe\">\n",
       "  <thead>\n",
       "    <tr style=\"text-align: right;\">\n",
       "      <th></th>\n",
       "      <th>c</th>\n",
       "      <th>0</th>\n",
       "      <th>1</th>\n",
       "      <th>2</th>\n",
       "      <th>3</th>\n",
       "      <th>4</th>\n",
       "      <th>5</th>\n",
       "      <th>6</th>\n",
       "      <th>7</th>\n",
       "      <th>8</th>\n",
       "      <th>9</th>\n",
       "    </tr>\n",
       "  </thead>\n",
       "  <tbody>\n",
       "    <tr>\n",
       "      <td>0</td>\n",
       "      <td>1</td>\n",
       "      <td>1.0</td>\n",
       "      <td>1.0</td>\n",
       "      <td>1.0</td>\n",
       "      <td>1.0</td>\n",
       "      <td>1.0</td>\n",
       "      <td>1.0</td>\n",
       "      <td>1.0</td>\n",
       "      <td>1.0</td>\n",
       "      <td>1.000000e+00</td>\n",
       "      <td>1.000000e+00</td>\n",
       "    </tr>\n",
       "    <tr>\n",
       "      <td>1</td>\n",
       "      <td>2</td>\n",
       "      <td>2.0</td>\n",
       "      <td>4.0</td>\n",
       "      <td>8.0</td>\n",
       "      <td>16.0</td>\n",
       "      <td>32.0</td>\n",
       "      <td>64.0</td>\n",
       "      <td>128.0</td>\n",
       "      <td>256.0</td>\n",
       "      <td>5.120000e+02</td>\n",
       "      <td>1.024000e+03</td>\n",
       "    </tr>\n",
       "    <tr>\n",
       "      <td>2</td>\n",
       "      <td>3</td>\n",
       "      <td>3.0</td>\n",
       "      <td>9.0</td>\n",
       "      <td>27.0</td>\n",
       "      <td>81.0</td>\n",
       "      <td>243.0</td>\n",
       "      <td>729.0</td>\n",
       "      <td>2187.0</td>\n",
       "      <td>6561.0</td>\n",
       "      <td>1.968300e+04</td>\n",
       "      <td>5.904900e+04</td>\n",
       "    </tr>\n",
       "    <tr>\n",
       "      <td>3</td>\n",
       "      <td>4</td>\n",
       "      <td>4.0</td>\n",
       "      <td>16.0</td>\n",
       "      <td>64.0</td>\n",
       "      <td>256.0</td>\n",
       "      <td>1024.0</td>\n",
       "      <td>4096.0</td>\n",
       "      <td>16384.0</td>\n",
       "      <td>65536.0</td>\n",
       "      <td>2.621440e+05</td>\n",
       "      <td>1.048576e+06</td>\n",
       "    </tr>\n",
       "    <tr>\n",
       "      <td>4</td>\n",
       "      <td>5</td>\n",
       "      <td>5.0</td>\n",
       "      <td>25.0</td>\n",
       "      <td>125.0</td>\n",
       "      <td>625.0</td>\n",
       "      <td>3125.0</td>\n",
       "      <td>15625.0</td>\n",
       "      <td>78125.0</td>\n",
       "      <td>390625.0</td>\n",
       "      <td>1.953125e+06</td>\n",
       "      <td>9.765625e+06</td>\n",
       "    </tr>\n",
       "    <tr>\n",
       "      <td>5</td>\n",
       "      <td>6</td>\n",
       "      <td>6.0</td>\n",
       "      <td>36.0</td>\n",
       "      <td>216.0</td>\n",
       "      <td>1296.0</td>\n",
       "      <td>7776.0</td>\n",
       "      <td>46656.0</td>\n",
       "      <td>279936.0</td>\n",
       "      <td>1679616.0</td>\n",
       "      <td>1.007770e+07</td>\n",
       "      <td>6.046618e+07</td>\n",
       "    </tr>\n",
       "    <tr>\n",
       "      <td>6</td>\n",
       "      <td>7</td>\n",
       "      <td>7.0</td>\n",
       "      <td>49.0</td>\n",
       "      <td>343.0</td>\n",
       "      <td>2401.0</td>\n",
       "      <td>16807.0</td>\n",
       "      <td>117649.0</td>\n",
       "      <td>823543.0</td>\n",
       "      <td>5764801.0</td>\n",
       "      <td>4.035361e+07</td>\n",
       "      <td>2.824752e+08</td>\n",
       "    </tr>\n",
       "    <tr>\n",
       "      <td>7</td>\n",
       "      <td>8</td>\n",
       "      <td>8.0</td>\n",
       "      <td>64.0</td>\n",
       "      <td>512.0</td>\n",
       "      <td>4096.0</td>\n",
       "      <td>32768.0</td>\n",
       "      <td>262144.0</td>\n",
       "      <td>2097152.0</td>\n",
       "      <td>16777216.0</td>\n",
       "      <td>1.342177e+08</td>\n",
       "      <td>1.073742e+09</td>\n",
       "    </tr>\n",
       "    <tr>\n",
       "      <td>8</td>\n",
       "      <td>9</td>\n",
       "      <td>9.0</td>\n",
       "      <td>81.0</td>\n",
       "      <td>729.0</td>\n",
       "      <td>6561.0</td>\n",
       "      <td>59049.0</td>\n",
       "      <td>531441.0</td>\n",
       "      <td>4782969.0</td>\n",
       "      <td>43046721.0</td>\n",
       "      <td>3.874205e+08</td>\n",
       "      <td>3.486784e+09</td>\n",
       "    </tr>\n",
       "    <tr>\n",
       "      <td>9</td>\n",
       "      <td>10</td>\n",
       "      <td>10.0</td>\n",
       "      <td>100.0</td>\n",
       "      <td>1000.0</td>\n",
       "      <td>10000.0</td>\n",
       "      <td>100000.0</td>\n",
       "      <td>1000000.0</td>\n",
       "      <td>10000000.0</td>\n",
       "      <td>100000000.0</td>\n",
       "      <td>1.000000e+09</td>\n",
       "      <td>1.000000e+10</td>\n",
       "    </tr>\n",
       "  </tbody>\n",
       "</table>\n",
       "</div>"
      ],
      "text/plain": [
       "    c     0      1       2        3         4          5           6  \\\n",
       "0   1   1.0    1.0     1.0      1.0       1.0        1.0         1.0   \n",
       "1   2   2.0    4.0     8.0     16.0      32.0       64.0       128.0   \n",
       "2   3   3.0    9.0    27.0     81.0     243.0      729.0      2187.0   \n",
       "3   4   4.0   16.0    64.0    256.0    1024.0     4096.0     16384.0   \n",
       "4   5   5.0   25.0   125.0    625.0    3125.0    15625.0     78125.0   \n",
       "5   6   6.0   36.0   216.0   1296.0    7776.0    46656.0    279936.0   \n",
       "6   7   7.0   49.0   343.0   2401.0   16807.0   117649.0    823543.0   \n",
       "7   8   8.0   64.0   512.0   4096.0   32768.0   262144.0   2097152.0   \n",
       "8   9   9.0   81.0   729.0   6561.0   59049.0   531441.0   4782969.0   \n",
       "9  10  10.0  100.0  1000.0  10000.0  100000.0  1000000.0  10000000.0   \n",
       "\n",
       "             7             8             9  \n",
       "0          1.0  1.000000e+00  1.000000e+00  \n",
       "1        256.0  5.120000e+02  1.024000e+03  \n",
       "2       6561.0  1.968300e+04  5.904900e+04  \n",
       "3      65536.0  2.621440e+05  1.048576e+06  \n",
       "4     390625.0  1.953125e+06  9.765625e+06  \n",
       "5    1679616.0  1.007770e+07  6.046618e+07  \n",
       "6    5764801.0  4.035361e+07  2.824752e+08  \n",
       "7   16777216.0  1.342177e+08  1.073742e+09  \n",
       "8   43046721.0  3.874205e+08  3.486784e+09  \n",
       "9  100000000.0  1.000000e+09  1.000000e+10  "
      ]
     },
     "execution_count": 74,
     "metadata": {},
     "output_type": "execute_result"
    }
   ],
   "source": [
    "df = pd.DataFrame({'c': np.arange(1, 11)})\n",
    "cpoli = PolynomialFeatures(10, include_bias=False)\n",
    "cp = cpoli.fit_transform(df[['c']])\n",
    "dfcp = pd.DataFrame(cp)\n",
    "\n",
    "pd.concat([df, dfcp], axis=1)\n",
    "\n",
    "# for i in range(len(cp)):\n",
    "#     df[f'c{i+1}'] = cp[i]\n",
    "# df.head()"
   ]
  },
  {
   "cell_type": "markdown",
   "metadata": {},
   "source": [
    "### Pipeline"
   ]
  },
  {
   "cell_type": "code",
   "execution_count": 80,
   "metadata": {},
   "outputs": [
    {
     "data": {
      "text/plain": [
       "array([[0.],\n",
       "       [0.],\n",
       "       [0.],\n",
       "       [0.],\n",
       "       [0.],\n",
       "       [1.],\n",
       "       [1.],\n",
       "       [1.],\n",
       "       [1.],\n",
       "       [1.]])"
      ]
     },
     "execution_count": 80,
     "metadata": {},
     "output_type": "execute_result"
    }
   ],
   "source": [
    "# data => standardscaler() => binarizer()\n",
    "from sklearn.preprocessing import StandardScaler, Binarizer\n",
    "\n",
    "data = np.arange(1000, 11000, 1000)\n",
    "data = StandardScaler().fit_transform(data.reshape(-1, 1))\n",
    "data = Binarizer().fit_transform(data)\n",
    "data"
   ]
  },
  {
   "cell_type": "code",
   "execution_count": 82,
   "metadata": {},
   "outputs": [
    {
     "data": {
      "text/plain": [
       "array([[0.],\n",
       "       [0.],\n",
       "       [0.],\n",
       "       [1.],\n",
       "       [1.],\n",
       "       [1.],\n",
       "       [1.],\n",
       "       [1.],\n",
       "       [1.],\n",
       "       [1.]])"
      ]
     },
     "execution_count": 82,
     "metadata": {},
     "output_type": "execute_result"
    }
   ],
   "source": [
    "from sklearn.pipeline import make_pipeline\n",
    "\n",
    "data = np.arange(1000, 11000, 1000)\n",
    "pipe = make_pipeline(\n",
    "    StandardScaler(),\n",
    "    Binarizer(threshold=-0.525)\n",
    ")\n",
    "pipe.fit_transform(data.reshape(-1, 1))"
   ]
  },
  {
   "cell_type": "code",
   "execution_count": 85,
   "metadata": {},
   "outputs": [
    {
     "data": {
      "text/plain": [
       "[<matplotlib.lines.Line2D at 0x296deb6cac8>]"
      ]
     },
     "execution_count": 85,
     "metadata": {},
     "output_type": "execute_result"
    },
    {
     "data": {
      "image/png": "[encoded data removed]",
      "text/plain": [
       "<Figure size 432x288 with 1 Axes>"
      ]
     },
     "metadata": {
      "needs_background": "light"
     },
     "output_type": "display_data"
    }
   ],
   "source": [
    "x = np.arange(0, 270, 10)\n",
    "y - np.cos(x * np.pi/180) + np.random.normal(0, 0.15, len(x))\n",
    "df = pd.DataFrame({'x':x, 'y':y})\n",
    "plt.plot(x, y, 'r.')"
   ]
  },
  {
   "cell_type": "code",
   "execution_count": 86,
   "metadata": {},
   "outputs": [
    {
     "data": {
      "text/plain": [
       "[<matplotlib.lines.Line2D at 0x296ddc0e948>]"
      ]
     },
     "execution_count": 86,
     "metadata": {},
     "output_type": "execute_result"
    },
    {
     "data": {
      "image/png": "[encoded data removed]",
      "text/plain": [
       "<Figure size 432x288 with 1 Axes>"
      ]
     },
     "metadata": {
      "needs_background": "light"
     },
     "output_type": "display_data"
    }
   ],
   "source": [
    "polyReg = make_pipeline(\n",
    "    PolynomialFeatures(2, include_bias=False),\n",
    "    LinearRegression()\n",
    ")\n",
    "\n",
    "# train\n",
    "polyReg.fit(df[['x']], df['y'])\n",
    "# predict\n",
    "df['y\"2'] = polyReg.predict(df[['x']])\n",
    "\n",
    "plt.plot(df['x'], df['y'], 'k.')\n",
    "plt.plot(df['x'], df['y\"2'], 'r-')"
   ]
  }
 ],
 "metadata": {
  "kernelspec": {
   "display_name": "Python 3",
   "language": "python",
   "name": "python3"
  },
  "language_info": {
   "codemirror_mode": {
    "name": "ipython",
    "version": 3
   },
   "file_extension": ".py",
   "mimetype": "text/x-python",
   "name": "python",
   "nbconvert_exporter": "python",
   "pygments_lexer": "ipython3",
   "version": "3.7.4"
  }
 },
 "nbformat": 4,
 "nbformat_minor": 4
}
