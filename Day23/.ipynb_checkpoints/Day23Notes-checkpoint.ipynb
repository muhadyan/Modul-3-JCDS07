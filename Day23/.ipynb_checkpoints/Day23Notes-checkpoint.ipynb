{
 "cells": [
  {
   "cell_type": "code",
   "execution_count": 1,
   "metadata": {},
   "outputs": [],
   "source": [
    "import pandas as pd\n",
    "import numpy as np"
   ]
  },
  {
   "cell_type": "markdown",
   "metadata": {},
   "source": [
    "## Recommendation System"
   ]
  },
  {
   "cell_type": "markdown",
   "metadata": {},
   "source": [
    "<img src='https://miro.medium.com/max/2048/1*VpYW2bpFIpnxAPbXTL27ag.png' width=80%>"
   ]
  },
  {
   "cell_type": "markdown",
   "metadata": {},
   "source": [
    "### Content-Based Filtering\n",
    "\n",
    "Rekomendasi diberikan berdasarkan features dari item yang disukai user"
   ]
  },
  {
   "cell_type": "code",
   "execution_count": 2,
   "metadata": {},
   "outputs": [],
   "source": [
    "produk = [\n",
    "    'Gundam Doraeman Tsubasa',\n",
    "    'Gundam Gundam Gundam'\n",
    "]"
   ]
  },
  {
   "cell_type": "code",
   "execution_count": 3,
   "metadata": {},
   "outputs": [],
   "source": [
    "from sklearn.feature_extraction.text import CountVectorizer"
   ]
  },
  {
   "cell_type": "code",
   "execution_count": 9,
   "metadata": {},
   "outputs": [
    {
     "data": {
      "text/plain": [
       "<2x3 sparse matrix of type '<class 'numpy.int64'>'\n",
       "\twith 4 stored elements in Compressed Sparse Row format>"
      ]
     },
     "execution_count": 9,
     "metadata": {},
     "output_type": "execute_result"
    }
   ],
   "source": [
    "extractor = CountVectorizer()\n",
    "exfit = extractor.fit_transform(produk)\n",
    "exfit"
   ]
  },
  {
   "cell_type": "code",
   "execution_count": 10,
   "metadata": {},
   "outputs": [
    {
     "data": {
      "text/plain": [
       "['doraeman', 'gundam', 'tsubasa']"
      ]
     },
     "execution_count": 10,
     "metadata": {},
     "output_type": "execute_result"
    }
   ],
   "source": [
    "extractor.get_feature_names()"
   ]
  },
  {
   "cell_type": "code",
   "execution_count": 11,
   "metadata": {},
   "outputs": [
    {
     "data": {
      "text/plain": [
       "array([[1, 1, 1],\n",
       "       [0, 3, 0]], dtype=int64)"
      ]
     },
     "execution_count": 11,
     "metadata": {},
     "output_type": "execute_result"
    }
   ],
   "source": [
    "exfit.toarray()"
   ]
  },
  {
   "cell_type": "code",
   "execution_count": 12,
   "metadata": {},
   "outputs": [
    {
     "data": {
      "text/plain": [
       "array([[1.        , 0.57735027],\n",
       "       [0.57735027, 1.        ]])"
      ]
     },
     "execution_count": 12,
     "metadata": {},
     "output_type": "execute_result"
    }
   ],
   "source": [
    "# cosinus similarity\n",
    "from sklearn.metrics.pairwise import cosine_similarity\n",
    "score = cosine_similarity(exfit)\n",
    "score\n",
    "\n",
    "#       x[0]          x[1]\n",
    "# x[0]   1.        0.57735027\n",
    "# x[1] 0.57735027      1."
   ]
  },
  {
   "cell_type": "code",
   "execution_count": 13,
   "metadata": {},
   "outputs": [
    {
     "data": {
      "text/html": [
       "<div>\n",
       "<style scoped>\n",
       "    .dataframe tbody tr th:only-of-type {\n",
       "        vertical-align: middle;\n",
       "    }\n",
       "\n",
       "    .dataframe tbody tr th {\n",
       "        vertical-align: top;\n",
       "    }\n",
       "\n",
       "    .dataframe thead th {\n",
       "        text-align: right;\n",
       "    }\n",
       "</style>\n",
       "<table border=\"1\" class=\"dataframe\">\n",
       "  <thead>\n",
       "    <tr style=\"text-align: right;\">\n",
       "      <th></th>\n",
       "      <th>title</th>\n",
       "      <th>genre</th>\n",
       "      <th>label</th>\n",
       "    </tr>\n",
       "  </thead>\n",
       "  <tbody>\n",
       "    <tr>\n",
       "      <td>0</td>\n",
       "      <td>A</td>\n",
       "      <td>Pop</td>\n",
       "      <td>PT. A</td>\n",
       "    </tr>\n",
       "    <tr>\n",
       "      <td>1</td>\n",
       "      <td>B</td>\n",
       "      <td>Keroncong</td>\n",
       "      <td>PT. A</td>\n",
       "    </tr>\n",
       "    <tr>\n",
       "      <td>2</td>\n",
       "      <td>C</td>\n",
       "      <td>Dangdut</td>\n",
       "      <td>PT. A</td>\n",
       "    </tr>\n",
       "    <tr>\n",
       "      <td>3</td>\n",
       "      <td>D</td>\n",
       "      <td>Pop</td>\n",
       "      <td>PT. B</td>\n",
       "    </tr>\n",
       "    <tr>\n",
       "      <td>4</td>\n",
       "      <td>E</td>\n",
       "      <td>Keroncong</td>\n",
       "      <td>PT. B</td>\n",
       "    </tr>\n",
       "    <tr>\n",
       "      <td>5</td>\n",
       "      <td>F</td>\n",
       "      <td>Dangdut</td>\n",
       "      <td>PT. B</td>\n",
       "    </tr>\n",
       "    <tr>\n",
       "      <td>6</td>\n",
       "      <td>G</td>\n",
       "      <td>Pop</td>\n",
       "      <td>PT. C</td>\n",
       "    </tr>\n",
       "    <tr>\n",
       "      <td>7</td>\n",
       "      <td>H</td>\n",
       "      <td>Keroncong</td>\n",
       "      <td>PT. C</td>\n",
       "    </tr>\n",
       "    <tr>\n",
       "      <td>8</td>\n",
       "      <td>I</td>\n",
       "      <td>Dangdut</td>\n",
       "      <td>PT. C</td>\n",
       "    </tr>\n",
       "    <tr>\n",
       "      <td>9</td>\n",
       "      <td>J</td>\n",
       "      <td>Pop</td>\n",
       "      <td>PT. C</td>\n",
       "    </tr>\n",
       "  </tbody>\n",
       "</table>\n",
       "</div>"
      ],
      "text/plain": [
       "  title      genre  label\n",
       "0     A        Pop  PT. A\n",
       "1     B  Keroncong  PT. A\n",
       "2     C    Dangdut  PT. A\n",
       "3     D        Pop  PT. B\n",
       "4     E  Keroncong  PT. B\n",
       "5     F    Dangdut  PT. B\n",
       "6     G        Pop  PT. C\n",
       "7     H  Keroncong  PT. C\n",
       "8     I    Dangdut  PT. C\n",
       "9     J        Pop  PT. C"
      ]
     },
     "execution_count": 13,
     "metadata": {},
     "output_type": "execute_result"
    }
   ],
   "source": [
    "df = pd.DataFrame([\n",
    "    {'title': 'A', 'genre': 'Pop', 'label': 'PT. A'},\n",
    "    {'title': 'B', 'genre': 'Keroncong', 'label': 'PT. A'},\n",
    "    {'title': 'C', 'genre': 'Dangdut', 'label': 'PT. A'},\n",
    "    {'title': 'D', 'genre': 'Pop', 'label': 'PT. B'},\n",
    "    {'title': 'E', 'genre': 'Keroncong', 'label': 'PT. B'},\n",
    "    {'title': 'F', 'genre': 'Dangdut', 'label': 'PT. B'},\n",
    "    {'title': 'G', 'genre': 'Pop', 'label': 'PT. C'},\n",
    "    {'title': 'H', 'genre': 'Keroncong', 'label': 'PT. C'},\n",
    "    {'title': 'I', 'genre': 'Dangdut', 'label': 'PT. C'},\n",
    "    {'title': 'J', 'genre': 'Pop', 'label': 'PT. C'}\n",
    "])\n",
    "df"
   ]
  },
  {
   "cell_type": "code",
   "execution_count": 16,
   "metadata": {},
   "outputs": [
    {
     "data": {
      "text/plain": [
       "['dangdut', 'keroncong', 'pop']"
      ]
     },
     "execution_count": 16,
     "metadata": {},
     "output_type": "execute_result"
    }
   ],
   "source": [
    "ecv = CountVectorizer()\n",
    "mgenre = ecv.fit_transform(df['genre'])\n",
    "ecv.get_feature_names()"
   ]
  },
  {
   "cell_type": "code",
   "execution_count": 17,
   "metadata": {},
   "outputs": [
    {
     "data": {
      "text/plain": [
       "array([[0, 0, 1],\n",
       "       [0, 1, 0],\n",
       "       [1, 0, 0],\n",
       "       [0, 0, 1],\n",
       "       [0, 1, 0],\n",
       "       [1, 0, 0],\n",
       "       [0, 0, 1],\n",
       "       [0, 1, 0],\n",
       "       [1, 0, 0],\n",
       "       [0, 0, 1]], dtype=int64)"
      ]
     },
     "execution_count": 17,
     "metadata": {},
     "output_type": "execute_result"
    }
   ],
   "source": [
    "mgenre.toarray()"
   ]
  },
  {
   "cell_type": "code",
   "execution_count": 19,
   "metadata": {},
   "outputs": [
    {
     "data": {
      "text/plain": [
       "array([[1., 0., 0., 1., 0., 0., 1., 0., 0., 1.],\n",
       "       [0., 1., 0., 0., 1., 0., 0., 1., 0., 0.],\n",
       "       [0., 0., 1., 0., 0., 1., 0., 0., 1., 0.],\n",
       "       [1., 0., 0., 1., 0., 0., 1., 0., 0., 1.],\n",
       "       [0., 1., 0., 0., 1., 0., 0., 1., 0., 0.],\n",
       "       [0., 0., 1., 0., 0., 1., 0., 0., 1., 0.],\n",
       "       [1., 0., 0., 1., 0., 0., 1., 0., 0., 1.],\n",
       "       [0., 1., 0., 0., 1., 0., 0., 1., 0., 0.],\n",
       "       [0., 0., 1., 0., 0., 1., 0., 0., 1., 0.],\n",
       "       [1., 0., 0., 1., 0., 0., 1., 0., 0., 1.]])"
      ]
     },
     "execution_count": 19,
     "metadata": {},
     "output_type": "execute_result"
    }
   ],
   "source": [
    "cosScore = cosine_similarity(mgenre)\n",
    "cosScore"
   ]
  },
  {
   "cell_type": "code",
   "execution_count": 29,
   "metadata": {},
   "outputs": [
    {
     "data": {
      "text/plain": [
       "[(0, 1.0), (3, 1.0), (6, 1.0), (9, 1.0), (1, 0.0)]"
      ]
     },
     "execution_count": 29,
     "metadata": {},
     "output_type": "execute_result"
    }
   ],
   "source": [
    "# ada user suka produk index = 0\n",
    "produkMirip = list(enumerate(cosScore[0]))\n",
    "produkMirip = sorted(produkMirip, key = lambda x: x[1], reverse=True)\n",
    "produkMirip[:5]"
   ]
  },
  {
   "cell_type": "code",
   "execution_count": 30,
   "metadata": {},
   "outputs": [
    {
     "name": "stdout",
     "output_type": "stream",
     "text": [
      "title        A\n",
      "genre      Pop\n",
      "label    PT. A\n",
      "Name: 0, dtype: object\n",
      "title        D\n",
      "genre      Pop\n",
      "label    PT. B\n",
      "Name: 3, dtype: object\n",
      "title        G\n",
      "genre      Pop\n",
      "label    PT. C\n",
      "Name: 6, dtype: object\n",
      "title        J\n",
      "genre      Pop\n",
      "label    PT. C\n",
      "Name: 9, dtype: object\n",
      "title            B\n",
      "genre    Keroncong\n",
      "label        PT. A\n",
      "Name: 1, dtype: object\n"
     ]
    }
   ],
   "source": [
    "for i in produkMirip[:5]:\n",
    "    print(df.iloc[i[0]])"
   ]
  }
 ],
 "metadata": {
  "kernelspec": {
   "display_name": "Python 3",
   "language": "python",
   "name": "python3"
  },
  "language_info": {
   "codemirror_mode": {
    "name": "ipython",
    "version": 3
   },
   "file_extension": ".py",
   "mimetype": "text/x-python",
   "name": "python",
   "nbconvert_exporter": "python",
   "pygments_lexer": "ipython3",
   "version": "3.7.4"
  }
 },
 "nbformat": 4,
 "nbformat_minor": 4
}
