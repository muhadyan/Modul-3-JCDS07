{
 "cells": [
  {
   "cell_type": "markdown",
   "metadata": {},
   "source": [
    "### Anime Recommendation\n",
    "\n",
    "__1. Content-based filtering__"
   ]
  },
  {
   "cell_type": "code",
   "execution_count": 35,
   "metadata": {},
   "outputs": [],
   "source": [
    "import pandas as pd\n",
    "import numpy as np\n",
    "import matplotlib.pyplot as plt\n",
    "from sklearn.feature_extraction.text import CountVectorizer\n",
    "from sklearn.metrics.pairwise import cosine_similarity"
   ]
  },
  {
   "cell_type": "code",
   "execution_count": 36,
   "metadata": {},
   "outputs": [
    {
     "data": {
      "text/html": [
       "<div>\n",
       "<style scoped>\n",
       "    .dataframe tbody tr th:only-of-type {\n",
       "        vertical-align: middle;\n",
       "    }\n",
       "\n",
       "    .dataframe tbody tr th {\n",
       "        vertical-align: top;\n",
       "    }\n",
       "\n",
       "    .dataframe thead th {\n",
       "        text-align: right;\n",
       "    }\n",
       "</style>\n",
       "<table border=\"1\" class=\"dataframe\">\n",
       "  <thead>\n",
       "    <tr style=\"text-align: right;\">\n",
       "      <th></th>\n",
       "      <th>anime_id</th>\n",
       "      <th>name</th>\n",
       "      <th>genre</th>\n",
       "      <th>type</th>\n",
       "      <th>episodes</th>\n",
       "      <th>rating</th>\n",
       "      <th>members</th>\n",
       "    </tr>\n",
       "  </thead>\n",
       "  <tbody>\n",
       "    <tr>\n",
       "      <td>0</td>\n",
       "      <td>32281</td>\n",
       "      <td>Kimi no Na wa.</td>\n",
       "      <td>Drama, Romance, School, Supernatural</td>\n",
       "      <td>Movie</td>\n",
       "      <td>1</td>\n",
       "      <td>9.37</td>\n",
       "      <td>200630</td>\n",
       "    </tr>\n",
       "    <tr>\n",
       "      <td>1</td>\n",
       "      <td>5114</td>\n",
       "      <td>Fullmetal Alchemist: Brotherhood</td>\n",
       "      <td>Action, Adventure, Drama, Fantasy, Magic, Mili...</td>\n",
       "      <td>TV</td>\n",
       "      <td>64</td>\n",
       "      <td>9.26</td>\n",
       "      <td>793665</td>\n",
       "    </tr>\n",
       "    <tr>\n",
       "      <td>2</td>\n",
       "      <td>28977</td>\n",
       "      <td>Gintama°</td>\n",
       "      <td>Action, Comedy, Historical, Parody, Samurai, S...</td>\n",
       "      <td>TV</td>\n",
       "      <td>51</td>\n",
       "      <td>9.25</td>\n",
       "      <td>114262</td>\n",
       "    </tr>\n",
       "    <tr>\n",
       "      <td>3</td>\n",
       "      <td>9253</td>\n",
       "      <td>Steins;Gate</td>\n",
       "      <td>Sci-Fi, Thriller</td>\n",
       "      <td>TV</td>\n",
       "      <td>24</td>\n",
       "      <td>9.17</td>\n",
       "      <td>673572</td>\n",
       "    </tr>\n",
       "    <tr>\n",
       "      <td>4</td>\n",
       "      <td>9969</td>\n",
       "      <td>Gintama&amp;#039;</td>\n",
       "      <td>Action, Comedy, Historical, Parody, Samurai, S...</td>\n",
       "      <td>TV</td>\n",
       "      <td>51</td>\n",
       "      <td>9.16</td>\n",
       "      <td>151266</td>\n",
       "    </tr>\n",
       "  </tbody>\n",
       "</table>\n",
       "</div>"
      ],
      "text/plain": [
       "   anime_id                              name  \\\n",
       "0     32281                    Kimi no Na wa.   \n",
       "1      5114  Fullmetal Alchemist: Brotherhood   \n",
       "2     28977                          Gintama°   \n",
       "3      9253                       Steins;Gate   \n",
       "4      9969                     Gintama&#039;   \n",
       "\n",
       "                                               genre   type episodes  rating  \\\n",
       "0               Drama, Romance, School, Supernatural  Movie        1    9.37   \n",
       "1  Action, Adventure, Drama, Fantasy, Magic, Mili...     TV       64    9.26   \n",
       "2  Action, Comedy, Historical, Parody, Samurai, S...     TV       51    9.25   \n",
       "3                                   Sci-Fi, Thriller     TV       24    9.17   \n",
       "4  Action, Comedy, Historical, Parody, Samurai, S...     TV       51    9.16   \n",
       "\n",
       "   members  \n",
       "0   200630  \n",
       "1   793665  \n",
       "2   114262  \n",
       "3   673572  \n",
       "4   151266  "
      ]
     },
     "execution_count": 36,
     "metadata": {},
     "output_type": "execute_result"
    }
   ],
   "source": [
    "df = pd.read_csv('anime.csv')\n",
    "df.head()"
   ]
  },
  {
   "cell_type": "code",
   "execution_count": 37,
   "metadata": {},
   "outputs": [
    {
     "data": {
      "text/plain": [
       "anime_id      0\n",
       "name          0\n",
       "genre        62\n",
       "type         25\n",
       "episodes      0\n",
       "rating      230\n",
       "members       0\n",
       "dtype: int64"
      ]
     },
     "execution_count": 37,
     "metadata": {},
     "output_type": "execute_result"
    }
   ],
   "source": [
    "df.isnull().sum()"
   ]
  },
  {
   "cell_type": "code",
   "execution_count": 38,
   "metadata": {},
   "outputs": [
    {
     "data": {
      "text/plain": [
       "anime_id    0\n",
       "name        0\n",
       "genre       0\n",
       "type        0\n",
       "episodes    0\n",
       "rating      0\n",
       "members     0\n",
       "dtype: int64"
      ]
     },
     "execution_count": 38,
     "metadata": {},
     "output_type": "execute_result"
    }
   ],
   "source": [
    "df = df.dropna()\n",
    "df.isnull().sum()"
   ]
  },
  {
   "cell_type": "code",
   "execution_count": 39,
   "metadata": {},
   "outputs": [
    {
     "data": {
      "text/plain": [
       "['action',\n",
       " 'adventure',\n",
       " 'cars',\n",
       " 'comedy',\n",
       " 'dementia',\n",
       " 'demons',\n",
       " 'drama',\n",
       " 'ecchi',\n",
       " 'fantasy',\n",
       " 'game',\n",
       " 'harem',\n",
       " 'hentai',\n",
       " 'historical',\n",
       " 'horror',\n",
       " 'josei',\n",
       " 'kids',\n",
       " 'magic',\n",
       " 'martial arts',\n",
       " 'mecha',\n",
       " 'military',\n",
       " 'music',\n",
       " 'mystery',\n",
       " 'parody',\n",
       " 'police',\n",
       " 'psychological',\n",
       " 'romance',\n",
       " 'samurai',\n",
       " 'school',\n",
       " 'sci-fi',\n",
       " 'seinen',\n",
       " 'shoujo',\n",
       " 'shoujo ai',\n",
       " 'shounen',\n",
       " 'shounen ai',\n",
       " 'slice of life',\n",
       " 'space',\n",
       " 'sports',\n",
       " 'super power',\n",
       " 'supernatural',\n",
       " 'thriller',\n",
       " 'vampire',\n",
       " 'yaoi',\n",
       " 'yuri']"
      ]
     },
     "execution_count": 39,
     "metadata": {},
     "output_type": "execute_result"
    }
   ],
   "source": [
    "ext = CountVectorizer(tokenizer= lambda x: x.split(', '))\n",
    "mgenre = ext.fit_transform(df['genre'])\n",
    "ext.get_feature_names()"
   ]
  },
  {
   "cell_type": "code",
   "execution_count": 40,
   "metadata": {},
   "outputs": [
    {
     "data": {
      "text/plain": [
       "array([[0, 0, 0, ..., 0, 0, 0],\n",
       "       [1, 1, 0, ..., 0, 0, 0],\n",
       "       [1, 0, 0, ..., 0, 0, 0],\n",
       "       ...,\n",
       "       [0, 0, 0, ..., 0, 0, 0],\n",
       "       [0, 0, 0, ..., 0, 0, 0],\n",
       "       [0, 0, 0, ..., 0, 0, 0]], dtype=int64)"
      ]
     },
     "execution_count": 40,
     "metadata": {},
     "output_type": "execute_result"
    }
   ],
   "source": [
    "mgenre.toarray()"
   ]
  },
  {
   "cell_type": "code",
   "execution_count": 41,
   "metadata": {},
   "outputs": [
    {
     "data": {
      "text/plain": [
       "array([1.        , 0.18898224, 0.        , ..., 0.        , 0.        ,\n",
       "       0.        ])"
      ]
     },
     "execution_count": 41,
     "metadata": {},
     "output_type": "execute_result"
    }
   ],
   "source": [
    "cosScore = cosine_similarity(mgenre)\n",
    "cosScore[0]"
   ]
  },
  {
   "cell_type": "code",
   "execution_count": 42,
   "metadata": {},
   "outputs": [
    {
     "data": {
      "text/plain": [
       "0"
      ]
     },
     "execution_count": 42,
     "metadata": {},
     "output_type": "execute_result"
    }
   ],
   "source": [
    "animeSuka = 'Kimi no Na wa.'\n",
    "indexSuka = df[df['name'] == animeSuka].index[0]\n",
    "indexSuka"
   ]
  },
  {
   "cell_type": "code",
   "execution_count": 43,
   "metadata": {},
   "outputs": [
    {
     "data": {
      "text/plain": [
       "(0, 1.0)"
      ]
     },
     "execution_count": 43,
     "metadata": {},
     "output_type": "execute_result"
    }
   ],
   "source": [
    "animeSama = list(enumerate(cosScore[indexSuka]))\n",
    "animeSama[0]"
   ]
  },
  {
   "cell_type": "code",
   "execution_count": 44,
   "metadata": {},
   "outputs": [
    {
     "data": {
      "text/plain": [
       "[(0, 1.0),\n",
       " (60, 0.75),\n",
       " (180, 0.8164965809277261),\n",
       " (208, 0.8660254037844388),\n",
       " (219, 0.75),\n",
       " (223, 0.8164965809277261),\n",
       " (320, 0.8164965809277261),\n",
       " (323, 0.75),\n",
       " (337, 0.75),\n",
       " (370, 0.75),\n",
       " (401, 0.75),\n",
       " (504, 0.8660254037844388),\n",
       " (518, 0.8164965809277261),\n",
       " (613, 0.8164965809277261),\n",
       " (675, 0.75),\n",
       " (878, 0.8164965809277261),\n",
       " (894, 0.7071067811865475),\n",
       " (986, 0.8164965809277261),\n",
       " (1058, 0.7071067811865475),\n",
       " (1111, 0.8944271909999159),\n",
       " (1199, 0.75),\n",
       " (1201, 0.8660254037844388),\n",
       " (1435, 0.8660254037844388),\n",
       " (1436, 0.8660254037844388),\n",
       " (1494, 0.8660254037844388),\n",
       " (1548, 0.7071067811865475),\n",
       " (1604, 0.8164965809277261),\n",
       " (1616, 0.75),\n",
       " (1631, 0.8660254037844388),\n",
       " (1659, 0.75),\n",
       " (1697, 0.7071067811865475),\n",
       " (1771, 0.75),\n",
       " (1907, 0.8660254037844388),\n",
       " (1959, 0.8660254037844388),\n",
       " (2027, 0.7071067811865475),\n",
       " (2058, 0.75),\n",
       " (2078, 0.75),\n",
       " (2088, 0.75),\n",
       " (2103, 0.75),\n",
       " (2191, 0.75),\n",
       " (2279, 0.75),\n",
       " (2300, 0.8660254037844388),\n",
       " (2304, 0.75),\n",
       " (2405, 0.75),\n",
       " (2567, 0.75),\n",
       " (2724, 0.75),\n",
       " (2775, 0.7071067811865475),\n",
       " (3137, 0.7071067811865475),\n",
       " (3198, 0.7071067811865475),\n",
       " (3200, 0.75),\n",
       " (3210, 0.7071067811865475),\n",
       " (3296, 0.8660254037844388),\n",
       " (3529, 0.8660254037844388),\n",
       " (3539, 0.75),\n",
       " (3628, 0.7071067811865475),\n",
       " (3689, 0.75),\n",
       " (3732, 0.75),\n",
       " (3906, 0.8660254037844388),\n",
       " (3912, 0.8660254037844388),\n",
       " (4000, 0.75),\n",
       " (4004, 0.7071067811865475),\n",
       " (4199, 0.75),\n",
       " (4217, 0.75),\n",
       " (4271, 0.75),\n",
       " (4361, 0.7559289460184544),\n",
       " (4512, 0.8660254037844388),\n",
       " (4859, 0.7071067811865475),\n",
       " (5029, 0.8660254037844388),\n",
       " (5044, 0.7071067811865475),\n",
       " (5079, 0.7071067811865475),\n",
       " (5125, 0.8660254037844388),\n",
       " (5231, 0.8660254037844388),\n",
       " (5312, 0.75),\n",
       " (5344, 0.75),\n",
       " (5379, 0.7071067811865475),\n",
       " (5418, 0.75),\n",
       " (5453, 0.75),\n",
       " (5462, 0.7071067811865475),\n",
       " (5463, 0.7071067811865475),\n",
       " (5510, 0.7071067811865475),\n",
       " (5566, 0.7071067811865475),\n",
       " (5695, 0.7071067811865475),\n",
       " (5729, 0.7071067811865475),\n",
       " (5730, 0.7071067811865475),\n",
       " (5750, 0.75),\n",
       " (5784, 0.7071067811865475),\n",
       " (5794, 0.75),\n",
       " (5803, 1.0),\n",
       " (5832, 0.7071067811865475),\n",
       " (5840, 0.7071067811865475),\n",
       " (6076, 0.7071067811865475),\n",
       " (6116, 0.7071067811865475),\n",
       " (6153, 0.8660254037844388),\n",
       " (6157, 0.8660254037844388),\n",
       " (6321, 0.75),\n",
       " (6354, 0.75),\n",
       " (6391, 1.0),\n",
       " (6399, 0.7071067811865475),\n",
       " (6403, 0.7071067811865475),\n",
       " (6581, 0.7071067811865475),\n",
       " (6731, 0.7071067811865475),\n",
       " (6779, 0.7071067811865475),\n",
       " (7158, 0.7071067811865475),\n",
       " (7222, 0.7071067811865475),\n",
       " (7318, 0.7071067811865475),\n",
       " (7394, 0.75),\n",
       " (7465, 0.7071067811865475),\n",
       " (7602, 0.7071067811865475),\n",
       " (7627, 0.7071067811865475),\n",
       " (8362, 0.7071067811865475),\n",
       " (8600, 0.7071067811865475),\n",
       " (9347, 0.7071067811865475),\n",
       " (10081, 0.7071067811865475),\n",
       " (10162, 0.7071067811865475),\n",
       " (10178, 0.7071067811865475),\n",
       " (10204, 0.7071067811865475)]"
      ]
     },
     "execution_count": 44,
     "metadata": {},
     "output_type": "execute_result"
    }
   ],
   "source": [
    "# 1. Filter yg cos Score nya lebih dari 70%\n",
    "\n",
    "# animeSama = filter(lambda x: True if x[1] > 0.7 else False, animeSama)\n",
    "# atau\n",
    "animeSama = list(filter(lambda x: x[1] > 0.7, animeSama))\n",
    "animeSama"
   ]
  },
  {
   "cell_type": "code",
   "execution_count": 46,
   "metadata": {},
   "outputs": [
    {
     "data": {
      "text/plain": [
       "[(0, 1.0),\n",
       " (5803, 1.0),\n",
       " (6391, 1.0),\n",
       " (1111, 0.8944271909999159),\n",
       " (208, 0.8660254037844388),\n",
       " (504, 0.8660254037844388),\n",
       " (1201, 0.8660254037844388),\n",
       " (1435, 0.8660254037844388),\n",
       " (1436, 0.8660254037844388),\n",
       " (1494, 0.8660254037844388),\n",
       " (1631, 0.8660254037844388),\n",
       " (1907, 0.8660254037844388),\n",
       " (1959, 0.8660254037844388),\n",
       " (2300, 0.8660254037844388),\n",
       " (3296, 0.8660254037844388),\n",
       " (3529, 0.8660254037844388),\n",
       " (3906, 0.8660254037844388),\n",
       " (3912, 0.8660254037844388),\n",
       " (4512, 0.8660254037844388),\n",
       " (5029, 0.8660254037844388),\n",
       " (5125, 0.8660254037844388),\n",
       " (5231, 0.8660254037844388),\n",
       " (6153, 0.8660254037844388),\n",
       " (6157, 0.8660254037844388),\n",
       " (180, 0.8164965809277261),\n",
       " (223, 0.8164965809277261),\n",
       " (320, 0.8164965809277261),\n",
       " (518, 0.8164965809277261),\n",
       " (613, 0.8164965809277261),\n",
       " (878, 0.8164965809277261),\n",
       " (986, 0.8164965809277261),\n",
       " (1604, 0.8164965809277261),\n",
       " (4361, 0.7559289460184544),\n",
       " (60, 0.75),\n",
       " (219, 0.75),\n",
       " (323, 0.75),\n",
       " (337, 0.75),\n",
       " (370, 0.75),\n",
       " (401, 0.75),\n",
       " (675, 0.75),\n",
       " (1199, 0.75),\n",
       " (1616, 0.75),\n",
       " (1659, 0.75),\n",
       " (1771, 0.75),\n",
       " (2058, 0.75),\n",
       " (2078, 0.75),\n",
       " (2088, 0.75),\n",
       " (2103, 0.75),\n",
       " (2191, 0.75),\n",
       " (2279, 0.75),\n",
       " (2304, 0.75),\n",
       " (2405, 0.75),\n",
       " (2567, 0.75),\n",
       " (2724, 0.75),\n",
       " (3200, 0.75),\n",
       " (3539, 0.75),\n",
       " (3689, 0.75),\n",
       " (3732, 0.75),\n",
       " (4000, 0.75),\n",
       " (4199, 0.75),\n",
       " (4217, 0.75),\n",
       " (4271, 0.75),\n",
       " (5312, 0.75),\n",
       " (5344, 0.75),\n",
       " (5418, 0.75),\n",
       " (5453, 0.75),\n",
       " (5750, 0.75),\n",
       " (5794, 0.75),\n",
       " (6321, 0.75),\n",
       " (6354, 0.75),\n",
       " (7394, 0.75),\n",
       " (894, 0.7071067811865475),\n",
       " (1058, 0.7071067811865475),\n",
       " (1548, 0.7071067811865475),\n",
       " (1697, 0.7071067811865475),\n",
       " (2027, 0.7071067811865475),\n",
       " (2775, 0.7071067811865475),\n",
       " (3137, 0.7071067811865475),\n",
       " (3198, 0.7071067811865475),\n",
       " (3210, 0.7071067811865475),\n",
       " (3628, 0.7071067811865475),\n",
       " (4004, 0.7071067811865475),\n",
       " (4859, 0.7071067811865475),\n",
       " (5044, 0.7071067811865475),\n",
       " (5079, 0.7071067811865475),\n",
       " (5379, 0.7071067811865475),\n",
       " (5462, 0.7071067811865475),\n",
       " (5463, 0.7071067811865475),\n",
       " (5510, 0.7071067811865475),\n",
       " (5566, 0.7071067811865475),\n",
       " (5695, 0.7071067811865475),\n",
       " (5729, 0.7071067811865475),\n",
       " (5730, 0.7071067811865475),\n",
       " (5784, 0.7071067811865475),\n",
       " (5832, 0.7071067811865475),\n",
       " (5840, 0.7071067811865475),\n",
       " (6076, 0.7071067811865475),\n",
       " (6116, 0.7071067811865475),\n",
       " (6399, 0.7071067811865475),\n",
       " (6403, 0.7071067811865475),\n",
       " (6581, 0.7071067811865475),\n",
       " (6731, 0.7071067811865475),\n",
       " (6779, 0.7071067811865475),\n",
       " (7158, 0.7071067811865475),\n",
       " (7222, 0.7071067811865475),\n",
       " (7318, 0.7071067811865475),\n",
       " (7465, 0.7071067811865475),\n",
       " (7602, 0.7071067811865475),\n",
       " (7627, 0.7071067811865475),\n",
       " (8362, 0.7071067811865475),\n",
       " (8600, 0.7071067811865475),\n",
       " (9347, 0.7071067811865475),\n",
       " (10081, 0.7071067811865475),\n",
       " (10162, 0.7071067811865475),\n",
       " (10178, 0.7071067811865475),\n",
       " (10204, 0.7071067811865475)]"
      ]
     },
     "execution_count": 46,
     "metadata": {},
     "output_type": "execute_result"
    }
   ],
   "source": [
    "# 2. rangking manual\n",
    "animeSama = sorted(animeSama, key=lambda x:x[1], reverse=True)\n",
    "animeSama"
   ]
  },
  {
   "cell_type": "code",
   "execution_count": 47,
   "metadata": {},
   "outputs": [
    {
     "name": "stdout",
     "output_type": "stream",
     "text": [
      "Kimi no Na wa.\n",
      "Wind: A Breath of Heart OVA\n",
      "Wind: A Breath of Heart (TV)\n",
      "Aura: Maryuuin Kouga Saigo no Tatakai\n",
      "Kokoro ga Sakebitagatterunda.\n",
      "Clannad: After Story - Mou Hitotsu no Sekai, Kyou-hen\n",
      "Angel Beats!: Another Epilogue\n",
      "True Tears\n",
      "&quot;Bungaku Shoujo&quot; Memoire\n",
      "Harmonie\n"
     ]
    }
   ],
   "source": [
    "# Rekomendasi untuk kamu yg suka \"Kimi No Nawa.\"\n",
    "\n",
    "for i in animeMirip[:10]:\n",
    "    print(df.iloc[i[0]]['name'])"
   ]
  }
 ],
 "metadata": {
  "kernelspec": {
   "display_name": "Python 3",
   "language": "python",
   "name": "python3"
  },
  "language_info": {
   "codemirror_mode": {
    "name": "ipython",
    "version": 3
   },
   "file_extension": ".py",
   "mimetype": "text/x-python",
   "name": "python",
   "nbconvert_exporter": "python",
   "pygments_lexer": "ipython3",
   "version": "3.7.4"
  }
 },
 "nbformat": 4,
 "nbformat_minor": 4
}
