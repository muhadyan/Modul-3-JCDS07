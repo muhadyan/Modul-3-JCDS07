{
 "cells": [
  {
   "cell_type": "code",
   "execution_count": 11,
   "metadata": {},
   "outputs": [],
   "source": [
    "import numpy as np\n",
    "import pandas as pd\n",
    "from sklearn.linear_model import LogisticRegression\n",
    "from sklearn.metrics import confusion_matrix"
   ]
  },
  {
   "cell_type": "code",
   "execution_count": 12,
   "metadata": {},
   "outputs": [
    {
     "data": {
      "text/html": [
       "<div>\n",
       "<style scoped>\n",
       "    .dataframe tbody tr th:only-of-type {\n",
       "        vertical-align: middle;\n",
       "    }\n",
       "\n",
       "    .dataframe tbody tr th {\n",
       "        vertical-align: top;\n",
       "    }\n",
       "\n",
       "    .dataframe thead th {\n",
       "        text-align: right;\n",
       "    }\n",
       "</style>\n",
       "<table border=\"1\" class=\"dataframe\">\n",
       "  <thead>\n",
       "    <tr style=\"text-align: right;\">\n",
       "      <th></th>\n",
       "      <th>x</th>\n",
       "      <th>y</th>\n",
       "    </tr>\n",
       "  </thead>\n",
       "  <tbody>\n",
       "    <tr>\n",
       "      <td>0</td>\n",
       "      <td>1</td>\n",
       "      <td>Sarah</td>\n",
       "    </tr>\n",
       "    <tr>\n",
       "      <td>1</td>\n",
       "      <td>2</td>\n",
       "      <td>Sarah</td>\n",
       "    </tr>\n",
       "    <tr>\n",
       "      <td>2</td>\n",
       "      <td>3</td>\n",
       "      <td>Sarah</td>\n",
       "    </tr>\n",
       "    <tr>\n",
       "      <td>3</td>\n",
       "      <td>4</td>\n",
       "      <td>Sarah</td>\n",
       "    </tr>\n",
       "    <tr>\n",
       "      <td>4</td>\n",
       "      <td>5</td>\n",
       "      <td>Sarah</td>\n",
       "    </tr>\n",
       "    <tr>\n",
       "      <td>5</td>\n",
       "      <td>6</td>\n",
       "      <td>Sarah</td>\n",
       "    </tr>\n",
       "    <tr>\n",
       "      <td>6</td>\n",
       "      <td>7</td>\n",
       "      <td>Zaenab</td>\n",
       "    </tr>\n",
       "    <tr>\n",
       "      <td>7</td>\n",
       "      <td>8</td>\n",
       "      <td>Sarah</td>\n",
       "    </tr>\n",
       "    <tr>\n",
       "      <td>8</td>\n",
       "      <td>9</td>\n",
       "      <td>Zaenab</td>\n",
       "    </tr>\n",
       "    <tr>\n",
       "      <td>9</td>\n",
       "      <td>10</td>\n",
       "      <td>Zaenab</td>\n",
       "    </tr>\n",
       "    <tr>\n",
       "      <td>10</td>\n",
       "      <td>11</td>\n",
       "      <td>Sarah</td>\n",
       "    </tr>\n",
       "    <tr>\n",
       "      <td>11</td>\n",
       "      <td>12</td>\n",
       "      <td>Sarah</td>\n",
       "    </tr>\n",
       "    <tr>\n",
       "      <td>12</td>\n",
       "      <td>13</td>\n",
       "      <td>Zaenab</td>\n",
       "    </tr>\n",
       "    <tr>\n",
       "      <td>13</td>\n",
       "      <td>14</td>\n",
       "      <td>Sarah</td>\n",
       "    </tr>\n",
       "    <tr>\n",
       "      <td>14</td>\n",
       "      <td>15</td>\n",
       "      <td>Zaenab</td>\n",
       "    </tr>\n",
       "    <tr>\n",
       "      <td>15</td>\n",
       "      <td>16</td>\n",
       "      <td>Zaenab</td>\n",
       "    </tr>\n",
       "    <tr>\n",
       "      <td>16</td>\n",
       "      <td>17</td>\n",
       "      <td>Zaenab</td>\n",
       "    </tr>\n",
       "    <tr>\n",
       "      <td>17</td>\n",
       "      <td>18</td>\n",
       "      <td>Zaenab</td>\n",
       "    </tr>\n",
       "    <tr>\n",
       "      <td>18</td>\n",
       "      <td>19</td>\n",
       "      <td>Zaenab</td>\n",
       "    </tr>\n",
       "    <tr>\n",
       "      <td>19</td>\n",
       "      <td>20</td>\n",
       "      <td>Zaenab</td>\n",
       "    </tr>\n",
       "  </tbody>\n",
       "</table>\n",
       "</div>"
      ],
      "text/plain": [
       "     x       y\n",
       "0    1   Sarah\n",
       "1    2   Sarah\n",
       "2    3   Sarah\n",
       "3    4   Sarah\n",
       "4    5   Sarah\n",
       "5    6   Sarah\n",
       "6    7  Zaenab\n",
       "7    8   Sarah\n",
       "8    9  Zaenab\n",
       "9   10  Zaenab\n",
       "10  11   Sarah\n",
       "11  12   Sarah\n",
       "12  13  Zaenab\n",
       "13  14   Sarah\n",
       "14  15  Zaenab\n",
       "15  16  Zaenab\n",
       "16  17  Zaenab\n",
       "17  18  Zaenab\n",
       "18  19  Zaenab\n",
       "19  20  Zaenab"
      ]
     },
     "execution_count": 12,
     "metadata": {},
     "output_type": "execute_result"
    }
   ],
   "source": [
    "data = {\n",
    "    'x': np.arange(1, 21),\n",
    "    'y': np.array([\n",
    "        'Sarah', 'Sarah', 'Sarah', 'Sarah', 'Sarah',\n",
    "        'Sarah', 'Zaenab', 'Sarah', 'Zaenab', 'Zaenab',\n",
    "        'Sarah', 'Sarah', 'Zaenab', 'Sarah', 'Zaenab',\n",
    "        'Zaenab', 'Zaenab', 'Zaenab', 'Zaenab', 'Zaenab'\n",
    "    ])\n",
    "}\n",
    "df = pd.DataFrame(data)\n",
    "df"
   ]
  },
  {
   "cell_type": "markdown",
   "metadata": {},
   "source": [
    "Sarah = 0, Zaenab = 1"
   ]
  },
  {
   "cell_type": "code",
   "execution_count": 13,
   "metadata": {},
   "outputs": [
    {
     "name": "stdout",
     "output_type": "stream",
     "text": [
      "['Sarah', 'Sarah', 'Sarah', 'Sarah', 'Sarah', 'Sarah', 'Zaenab', 'Sarah', 'Zaenab', 'Zaenab', 'Sarah', 'Sarah', 'Zaenab', 'Sarah', 'Zaenab', 'Zaenab', 'Zaenab', 'Zaenab', 'Zaenab', 'Zaenab']\n",
      "['Sarah', 'Sarah', 'Sarah', 'Sarah', 'Sarah', 'Sarah', 'Sarah', 'Sarah', 'Sarah', 'Sarah', 'Zaenab', 'Zaenab', 'Zaenab', 'Zaenab', 'Zaenab', 'Zaenab', 'Zaenab', 'Zaenab', 'Zaenab', 'Zaenab']\n"
     ]
    }
   ],
   "source": [
    "model = LogisticRegression(solver='lbfgs')\n",
    "model.fit(df[['x']], df['y'])\n",
    "\n",
    "y = df['y'].tolist()\n",
    "yp = model.predict(df[['x']]).tolist()\n",
    "\n",
    "print(y)\n",
    "print(yp)"
   ]
  },
  {
   "cell_type": "markdown",
   "metadata": {},
   "source": [
    "### Confusion Matrix cara 1"
   ]
  },
  {
   "cell_type": "markdown",
   "metadata": {},
   "source": [
    "- | pred Sarah | pred Zaenab\n",
    "- | - | -\n",
    "__actual Sarah__ | 7 | 3\n",
    "__actual Zaenab__ | 3 | 7"
   ]
  },
  {
   "cell_type": "markdown",
   "metadata": {},
   "source": [
    "### Confusion Matrix cara 2"
   ]
  },
  {
   "cell_type": "code",
   "execution_count": 15,
   "metadata": {},
   "outputs": [
    {
     "data": {
      "text/html": [
       "<div>\n",
       "<style scoped>\n",
       "    .dataframe tbody tr th:only-of-type {\n",
       "        vertical-align: middle;\n",
       "    }\n",
       "\n",
       "    .dataframe tbody tr th {\n",
       "        vertical-align: top;\n",
       "    }\n",
       "\n",
       "    .dataframe thead th {\n",
       "        text-align: right;\n",
       "    }\n",
       "</style>\n",
       "<table border=\"1\" class=\"dataframe\">\n",
       "  <thead>\n",
       "    <tr style=\"text-align: right;\">\n",
       "      <th></th>\n",
       "      <th>pred Sarah</th>\n",
       "      <th>pred Zaenab</th>\n",
       "    </tr>\n",
       "  </thead>\n",
       "  <tbody>\n",
       "    <tr>\n",
       "      <td>actual Sarah</td>\n",
       "      <td>7</td>\n",
       "      <td>3</td>\n",
       "    </tr>\n",
       "    <tr>\n",
       "      <td>actual Zaenab</td>\n",
       "      <td>3</td>\n",
       "      <td>7</td>\n",
       "    </tr>\n",
       "  </tbody>\n",
       "</table>\n",
       "</div>"
      ],
      "text/plain": [
       "               pred Sarah  pred Zaenab\n",
       "actual Sarah            7            3\n",
       "actual Zaenab           3            7"
      ]
     },
     "execution_count": 15,
     "metadata": {},
     "output_type": "execute_result"
    }
   ],
   "source": [
    "df['yp'] = yp\n",
    "\n",
    "cm = confusion_matrix(y, yp)\n",
    "\n",
    "dfConf = pd.DataFrame(cm, columns=['pred Sarah', 'pred Zaenab'], index=['actual Sarah', 'actual Zaenab'])\n",
    "dfConf"
   ]
  },
  {
   "cell_type": "markdown",
   "metadata": {},
   "source": [
    "### Confusion Matrix cara 3"
   ]
  },
  {
   "cell_type": "code",
   "execution_count": 32,
   "metadata": {},
   "outputs": [
    {
     "name": "stderr",
     "output_type": "stream",
     "text": [
      "C:\\Users\\Adyan\\Anaconda3\\lib\\site-packages\\ipykernel_launcher.py:1: UserWarning: Boolean Series key will be reindexed to match DataFrame index.\n",
      "  \"\"\"Entry point for launching an IPython kernel.\n",
      "C:\\Users\\Adyan\\Anaconda3\\lib\\site-packages\\ipykernel_launcher.py:2: UserWarning: Boolean Series key will be reindexed to match DataFrame index.\n",
      "  \n",
      "C:\\Users\\Adyan\\Anaconda3\\lib\\site-packages\\ipykernel_launcher.py:3: UserWarning: Boolean Series key will be reindexed to match DataFrame index.\n",
      "  This is separate from the ipykernel package so we can avoid doing imports until\n",
      "C:\\Users\\Adyan\\Anaconda3\\lib\\site-packages\\ipykernel_launcher.py:4: UserWarning: Boolean Series key will be reindexed to match DataFrame index.\n",
      "  after removing the cwd from sys.path.\n"
     ]
    },
    {
     "data": {
      "text/html": [
       "<div>\n",
       "<style scoped>\n",
       "    .dataframe tbody tr th:only-of-type {\n",
       "        vertical-align: middle;\n",
       "    }\n",
       "\n",
       "    .dataframe tbody tr th {\n",
       "        vertical-align: top;\n",
       "    }\n",
       "\n",
       "    .dataframe thead th {\n",
       "        text-align: right;\n",
       "    }\n",
       "</style>\n",
       "<table border=\"1\" class=\"dataframe\">\n",
       "  <thead>\n",
       "    <tr style=\"text-align: right;\">\n",
       "      <th></th>\n",
       "      <th>pred Sarah</th>\n",
       "      <th>pred Zaenab</th>\n",
       "    </tr>\n",
       "  </thead>\n",
       "  <tbody>\n",
       "    <tr>\n",
       "      <td>actual Sarah</td>\n",
       "      <td>7</td>\n",
       "      <td>3</td>\n",
       "    </tr>\n",
       "    <tr>\n",
       "      <td>actual Zaenab</td>\n",
       "      <td>3</td>\n",
       "      <td>7</td>\n",
       "    </tr>\n",
       "  </tbody>\n",
       "</table>\n",
       "</div>"
      ],
      "text/plain": [
       "               pred Sarah  pred Zaenab\n",
       "actual Sarah            7            3\n",
       "actual Zaenab           3            7"
      ]
     },
     "execution_count": 32,
     "metadata": {},
     "output_type": "execute_result"
    }
   ],
   "source": [
    "tp = len(df[df['y'] == 'Zaenab'][df['yp'] == 'Zaenab'])\n",
    "tn = len(df[df['y'] == 'Sarah'][df['yp'] == 'Sarah'])\n",
    "fp = len(df[df['y'] == 'Zaenab'][df['yp'] == 'Sarah'])\n",
    "fn = len(df[df['y'] == 'Sarah'][df['yp'] == 'Zaenab'])\n",
    "\n",
    "dfConf = pd.DataFrame(np.array([[tp, fn], [fp, tn]]),\n",
    "                      columns=['pred Sarah', 'pred Zaenab'],\n",
    "                      index=['actual Sarah', 'actual Zaenab'])\n",
    "dfConf"
   ]
  },
  {
   "cell_type": "markdown",
   "metadata": {},
   "source": [
    "### Cek Metrics cara Manual"
   ]
  },
  {
   "cell_type": "code",
   "execution_count": 51,
   "metadata": {},
   "outputs": [
    {
     "name": "stdout",
     "output_type": "stream",
     "text": [
      "Akurasi = 0.7\n",
      "Error Rate = 0.3\n",
      "Recall(+) = 0.7\n",
      "FP Rate = 0.3\n",
      "Recall(-) = 0.7\n",
      "FN Rate = 0.3\n",
      "Precision(+) = 0.7\n",
      "Precision(-) = 0.7\n",
      "Balanced Accuracy = 0.7\n",
      "F1 score = 0.7\n"
     ]
    }
   ],
   "source": [
    "print('Akurasi =', (tp + tn) / (tp + tn + fp + fn))\n",
    "print('Error Rate =', (fp + fn) / (tp + tn +fp +fn))\n",
    "\n",
    "print('Recall(+) =', tp / (tp + fn))\n",
    "print('FP Rate =', fp / (fp + tn))\n",
    "print('Recall(-) =', tn / (fp + tn))\n",
    "print('FN Rate =', fn / (tp + fn))\n",
    "print('Precision(+) =', tp / (tp + fp))\n",
    "print('Precision(-) =', tn / (tn + fn))\n",
    "\n",
    "rclP = tp / (tp + fn)\n",
    "rclN = tn / (fp + tn)\n",
    "print('Balanced Accuracy =', (rclP + rclN) / 2)\n",
    "\n",
    "prc = tp / (tp + fp)\n",
    "rcl = tp / (tp + fn)\n",
    "print('F1 score =', 2 * ((prc * rcl) / (prc +  rcl)))"
   ]
  },
  {
   "cell_type": "markdown",
   "metadata": {},
   "source": [
    "### Cek Metrics cara Sklearn"
   ]
  },
  {
   "cell_type": "markdown",
   "metadata": {},
   "source": [
    "- __Accuracy__"
   ]
  },
  {
   "cell_type": "code",
   "execution_count": 44,
   "metadata": {},
   "outputs": [
    {
     "name": "stdout",
     "output_type": "stream",
     "text": [
      "model.score = 0.7\n",
      "accuracy_score = 0.7\n",
      "Error Rate = 0.3\n"
     ]
    }
   ],
   "source": [
    "# cara 1\n",
    "print('model.score =', model.score(df[['x']], df['y']))\n",
    "\n",
    "# cara 2\n",
    "from sklearn.metrics import accuracy_score\n",
    "print('accuracy_score =', accuracy_score(df['y'], df['yp']))\n",
    "\n",
    "print('Error Rate =', round(1 - accuracy_score(df['y'], df['yp']), 1))"
   ]
  },
  {
   "cell_type": "markdown",
   "metadata": {},
   "source": [
    "- __Recall__"
   ]
  },
  {
   "cell_type": "code",
   "execution_count": 48,
   "metadata": {},
   "outputs": [
    {
     "name": "stdout",
     "output_type": "stream",
     "text": [
      "Recall+ = 0.7\n",
      "Recall- = 0.7\n"
     ]
    }
   ],
   "source": [
    "from sklearn.metrics import recall_score\n",
    "\n",
    "print('Recall+ =', recall_score(df['y'], df['yp'], pos_label='Zaenab'))\n",
    "print('Recall- =', recall_score(df['y'], df['yp'], pos_label='Sarah'))"
   ]
  },
  {
   "cell_type": "markdown",
   "metadata": {},
   "source": [
    "- __Precision__"
   ]
  },
  {
   "cell_type": "code",
   "execution_count": 50,
   "metadata": {},
   "outputs": [
    {
     "name": "stdout",
     "output_type": "stream",
     "text": [
      "Precision+ = 0.7\n",
      "Precision- = 0.7\n"
     ]
    }
   ],
   "source": [
    "from sklearn.metrics import precision_score\n",
    "\n",
    "print('Precision+ =', precision_score(df['y'], df['yp'], pos_label='Zaenab'))\n",
    "print('Precision- =', precision_score(df['y'], df['yp'], pos_label='Sarah'))"
   ]
  },
  {
   "cell_type": "markdown",
   "metadata": {},
   "source": [
    "- __Balanced Accuracy__"
   ]
  },
  {
   "cell_type": "code",
   "execution_count": 52,
   "metadata": {},
   "outputs": [
    {
     "name": "stdout",
     "output_type": "stream",
     "text": [
      "Balanced Accuracy = 0.7\n"
     ]
    }
   ],
   "source": [
    "from sklearn.metrics import balanced_accuracy_score\n",
    "\n",
    "print('Balanced Accuracy =', balanced_accuracy_score(df['y'], df['yp']))"
   ]
  },
  {
   "cell_type": "markdown",
   "metadata": {},
   "source": [
    "- __F1 Score__"
   ]
  },
  {
   "cell_type": "code",
   "execution_count": 56,
   "metadata": {},
   "outputs": [
    {
     "name": "stdout",
     "output_type": "stream",
     "text": [
      "F1 Score+ = 0.7\n",
      "F1 Score- = 0.7\n"
     ]
    }
   ],
   "source": [
    "from sklearn.metrics import f1_score\n",
    "\n",
    "print('F1 Score+ =', f1_score(df['y'], df['yp'], pos_label='Zaenab'))\n",
    "print('F1 Score- =', f1_score(df['y'], df['yp'], pos_label='Sarah'))"
   ]
  },
  {
   "cell_type": "markdown",
   "metadata": {},
   "source": [
    "### Function Langsung"
   ]
  },
  {
   "cell_type": "code",
   "execution_count": 63,
   "metadata": {},
   "outputs": [
    {
     "data": {
      "text/plain": [
       "(array([0.7, 0.7]),\n",
       " array([0.7, 0.7]),\n",
       " array([0.7, 0.7]),\n",
       " array([10, 10], dtype=int64))"
      ]
     },
     "execution_count": 63,
     "metadata": {},
     "output_type": "execute_result"
    }
   ],
   "source": [
    "from sklearn.metrics import precision_recall_fscore_support\n",
    "\n",
    "prc, rcl, f1, sp = precision_recall_fscore_support(df['y'], df['yp'])\n",
    "prc, rcl, f1, sp\n",
    "\n",
    "# [Sarah, Zaenab]\n",
    "## support = ada berapa [Sarah, Zaenab] di yp"
   ]
  },
  {
   "cell_type": "code",
   "execution_count": 67,
   "metadata": {},
   "outputs": [
    {
     "name": "stdout",
     "output_type": "stream",
     "text": [
      "              precision    recall  f1-score   support\n",
      "\n",
      "       Sarah       0.70      0.70      0.70        10\n",
      "      Zaenab       0.70      0.70      0.70        10\n",
      "\n",
      "    accuracy                           0.70        20\n",
      "   macro avg       0.70      0.70      0.70        20\n",
      "weighted avg       0.70      0.70      0.70        20\n",
      "\n"
     ]
    }
   ],
   "source": [
    "from sklearn.metrics import classification_report\n",
    "\n",
    "print(classification_report(df['y'], df['yp']))"
   ]
  },
  {
   "cell_type": "code",
   "execution_count": 68,
   "metadata": {},
   "outputs": [
    {
     "name": "stdout",
     "output_type": "stream",
     "text": [
      "(0.7, 0.7, 0.7, None)\n",
      "(0.7, 0.7, 0.7, None)\n",
      "(0.7, 0.7, 0.7, None)\n"
     ]
    }
   ],
   "source": [
    "print(precision_recall_fscore_support(df['y'], df['yp'], average='micro'))\n",
    "print(precision_recall_fscore_support(df['y'], df['yp'], average='macro'))\n",
    "print(precision_recall_fscore_support(df['y'], df['yp'], average='weighted'))"
   ]
  },
  {
   "cell_type": "markdown",
   "metadata": {},
   "source": [
    "### Perbedaan Average Micro, Macro, & Weighted"
   ]
  },
  {
   "cell_type": "code",
   "execution_count": 70,
   "metadata": {},
   "outputs": [
    {
     "data": {
      "text/plain": [
       "(0.7, 0.7, 0.7)"
      ]
     },
     "execution_count": 70,
     "metadata": {},
     "output_type": "execute_result"
    }
   ],
   "source": [
    "# Precision\n",
    "precSa = tn / (tn + fn)\n",
    "precZa = tp / (tp + fp)\n",
    "precSa, precZa\n",
    "\n",
    "precMacro = (precSa + precZa) / 2\n",
    "precWeighted = ((precSa * 1) + (precZa * 1)) / (1+1)\n",
    "precMicro = (tn + tp) / (tn + fn + tp + fp)\n",
    "\n",
    "precMacro, precWeighted, precMicro"
   ]
  },
  {
   "cell_type": "markdown",
   "metadata": {},
   "source": [
    "# Tugas"
   ]
  },
  {
   "cell_type": "code",
   "execution_count": null,
   "metadata": {},
   "outputs": [],
   "source": [
    "y = ['Kucing', 'Anjing', 'Gajah', 'Kucing', 'Anjing', 'Gajah']\n",
    "yp = ['Kucing', 'Kucing', 'Gajah', 'Kucing', 'Kucing', 'Gajah']\n",
    "\n",
    "# gimana confusion matrixnya ?"
   ]
  }
 ],
 "metadata": {
  "kernelspec": {
   "display_name": "Python 3",
   "language": "python",
   "name": "python3"
  },
  "language_info": {
   "codemirror_mode": {
    "name": "ipython",
    "version": 3
   },
   "file_extension": ".py",
   "mimetype": "text/x-python",
   "name": "python",
   "nbconvert_exporter": "python",
   "pygments_lexer": "ipython3",
   "version": "3.7.4"
  }
 },
 "nbformat": 4,
 "nbformat_minor": 4
}
